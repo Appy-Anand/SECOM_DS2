{
 "cells": [
  {
   "cell_type": "code",
   "execution_count": 31,
   "metadata": {
    "ExecuteTime": {
     "end_time": "2025-07-09T19:09:08.915368Z",
     "start_time": "2025-07-09T19:09:06.600665Z"
    },
    "colab": {
     "base_uri": "https://localhost:8080/"
    },
    "id": "8_h5P7Eciock",
    "outputId": "a77d0ae9-44b4-497e-9740-310ce1d80113"
   },
   "outputs": [
    {
     "name": "stdout",
     "output_type": "stream",
     "text": [
      "Requirement already satisfied: boruta in /Users/aprajita/Desktop/Aprajita_SECOM/code/SECOM_DS2/.venv/lib/python3.11/site-packages (0.4.3)\r\n",
      "Requirement already satisfied: xgboost in /Users/aprajita/Desktop/Aprajita_SECOM/code/SECOM_DS2/.venv/lib/python3.11/site-packages (3.0.1)\r\n",
      "Requirement already satisfied: imblearn in /Users/aprajita/Desktop/Aprajita_SECOM/code/SECOM_DS2/.venv/lib/python3.11/site-packages (0.0)\r\n",
      "Requirement already satisfied: numpy>=1.10.4 in /Users/aprajita/Desktop/Aprajita_SECOM/code/SECOM_DS2/.venv/lib/python3.11/site-packages (from boruta) (1.26.4)\r\n",
      "Requirement already satisfied: scikit-learn>=0.17.1 in /Users/aprajita/Desktop/Aprajita_SECOM/code/SECOM_DS2/.venv/lib/python3.11/site-packages (from boruta) (1.4.2)\r\n",
      "Requirement already satisfied: scipy>=0.17.0 in /Users/aprajita/Desktop/Aprajita_SECOM/code/SECOM_DS2/.venv/lib/python3.11/site-packages (from boruta) (1.11.4)\r\n",
      "Requirement already satisfied: imbalanced-learn in /Users/aprajita/Desktop/Aprajita_SECOM/code/SECOM_DS2/.venv/lib/python3.11/site-packages (from imblearn) (0.13.0)\r\n",
      "Requirement already satisfied: joblib>=1.2.0 in /Users/aprajita/Desktop/Aprajita_SECOM/code/SECOM_DS2/.venv/lib/python3.11/site-packages (from scikit-learn>=0.17.1->boruta) (1.3.2)\r\n",
      "Requirement already satisfied: threadpoolctl>=2.0.0 in /Users/aprajita/Desktop/Aprajita_SECOM/code/SECOM_DS2/.venv/lib/python3.11/site-packages (from scikit-learn>=0.17.1->boruta) (3.6.0)\r\n",
      "Requirement already satisfied: sklearn-compat<1,>=0.1 in /Users/aprajita/Desktop/Aprajita_SECOM/code/SECOM_DS2/.venv/lib/python3.11/site-packages (from imbalanced-learn->imblearn) (0.1.3)\r\n"
     ]
    }
   ],
   "source": [
    "!pip install boruta xgboost imblearn\n",
    "#, mlflow, optuna, boto3"
   ]
  },
  {
   "cell_type": "code",
   "execution_count": 32,
   "metadata": {
    "ExecuteTime": {
     "end_time": "2025-07-09T19:09:32.229469Z",
     "start_time": "2025-07-09T19:09:30.467968Z"
    },
    "colab": {
     "base_uri": "https://localhost:8080/"
    },
    "id": "01YXJ0x3XjQz",
    "outputId": "05b8fb31-409e-4aa9-9fa3-300f8c4c37b8"
   },
   "outputs": [
    {
     "name": "stdout",
     "output_type": "stream",
     "text": [
      "Requirement already satisfied: mlflow in /Users/aprajita/Desktop/Aprajita_SECOM/code/SECOM_DS2/.venv/lib/python3.11/site-packages (3.1.1)\r\n",
      "Requirement already satisfied: boto3 in /Users/aprajita/Desktop/Aprajita_SECOM/code/SECOM_DS2/.venv/lib/python3.11/site-packages (1.39.3)\r\n",
      "Requirement already satisfied: awscli in /Users/aprajita/Desktop/Aprajita_SECOM/code/SECOM_DS2/.venv/lib/python3.11/site-packages (1.41.3)\r\n",
      "Requirement already satisfied: optuna in /Users/aprajita/Desktop/Aprajita_SECOM/code/SECOM_DS2/.venv/lib/python3.11/site-packages (4.4.0)\r\n",
      "Requirement already satisfied: mlflow-skinny==3.1.1 in /Users/aprajita/Desktop/Aprajita_SECOM/code/SECOM_DS2/.venv/lib/python3.11/site-packages (from mlflow) (3.1.1)\r\n",
      "Requirement already satisfied: Flask<4 in /Users/aprajita/Desktop/Aprajita_SECOM/code/SECOM_DS2/.venv/lib/python3.11/site-packages (from mlflow) (3.0.3)\r\n",
      "Requirement already satisfied: alembic!=1.10.0,<2 in /Users/aprajita/Desktop/Aprajita_SECOM/code/SECOM_DS2/.venv/lib/python3.11/site-packages (from mlflow) (1.16.2)\r\n",
      "Requirement already satisfied: docker<8,>=4.0.0 in /Users/aprajita/Desktop/Aprajita_SECOM/code/SECOM_DS2/.venv/lib/python3.11/site-packages (from mlflow) (7.1.0)\r\n",
      "Requirement already satisfied: graphene<4 in /Users/aprajita/Desktop/Aprajita_SECOM/code/SECOM_DS2/.venv/lib/python3.11/site-packages (from mlflow) (3.4.3)\r\n",
      "Requirement already satisfied: gunicorn<24 in /Users/aprajita/Desktop/Aprajita_SECOM/code/SECOM_DS2/.venv/lib/python3.11/site-packages (from mlflow) (23.0.0)\r\n",
      "Requirement already satisfied: matplotlib<4 in /Users/aprajita/Desktop/Aprajita_SECOM/code/SECOM_DS2/.venv/lib/python3.11/site-packages (from mlflow) (3.7.5)\r\n",
      "Requirement already satisfied: numpy<3 in /Users/aprajita/Desktop/Aprajita_SECOM/code/SECOM_DS2/.venv/lib/python3.11/site-packages (from mlflow) (1.26.4)\r\n",
      "Requirement already satisfied: pandas<3 in /Users/aprajita/Desktop/Aprajita_SECOM/code/SECOM_DS2/.venv/lib/python3.11/site-packages (from mlflow) (2.3.0)\r\n",
      "Requirement already satisfied: pyarrow<21,>=4.0.0 in /Users/aprajita/Desktop/Aprajita_SECOM/code/SECOM_DS2/.venv/lib/python3.11/site-packages (from mlflow) (20.0.0)\r\n",
      "Requirement already satisfied: scikit-learn<2 in /Users/aprajita/Desktop/Aprajita_SECOM/code/SECOM_DS2/.venv/lib/python3.11/site-packages (from mlflow) (1.4.2)\r\n",
      "Requirement already satisfied: scipy<2 in /Users/aprajita/Desktop/Aprajita_SECOM/code/SECOM_DS2/.venv/lib/python3.11/site-packages (from mlflow) (1.11.4)\r\n",
      "Requirement already satisfied: sqlalchemy<3,>=1.4.0 in /Users/aprajita/Desktop/Aprajita_SECOM/code/SECOM_DS2/.venv/lib/python3.11/site-packages (from mlflow) (2.0.41)\r\n",
      "Requirement already satisfied: cachetools<7,>=5.0.0 in /Users/aprajita/Desktop/Aprajita_SECOM/code/SECOM_DS2/.venv/lib/python3.11/site-packages (from mlflow-skinny==3.1.1->mlflow) (5.5.2)\r\n",
      "Requirement already satisfied: click<9,>=7.0 in /Users/aprajita/Desktop/Aprajita_SECOM/code/SECOM_DS2/.venv/lib/python3.11/site-packages (from mlflow-skinny==3.1.1->mlflow) (8.2.1)\r\n",
      "Requirement already satisfied: cloudpickle<4 in /Users/aprajita/Desktop/Aprajita_SECOM/code/SECOM_DS2/.venv/lib/python3.11/site-packages (from mlflow-skinny==3.1.1->mlflow) (3.1.1)\r\n",
      "Requirement already satisfied: databricks-sdk<1,>=0.20.0 in /Users/aprajita/Desktop/Aprajita_SECOM/code/SECOM_DS2/.venv/lib/python3.11/site-packages (from mlflow-skinny==3.1.1->mlflow) (0.57.0)\r\n",
      "Requirement already satisfied: fastapi<1 in /Users/aprajita/Desktop/Aprajita_SECOM/code/SECOM_DS2/.venv/lib/python3.11/site-packages (from mlflow-skinny==3.1.1->mlflow) (0.115.14)\r\n",
      "Requirement already satisfied: gitpython<4,>=3.1.9 in /Users/aprajita/Desktop/Aprajita_SECOM/code/SECOM_DS2/.venv/lib/python3.11/site-packages (from mlflow-skinny==3.1.1->mlflow) (3.1.44)\r\n",
      "Requirement already satisfied: importlib_metadata!=4.7.0,<9,>=3.7.0 in /Users/aprajita/Desktop/Aprajita_SECOM/code/SECOM_DS2/.venv/lib/python3.11/site-packages (from mlflow-skinny==3.1.1->mlflow) (8.7.0)\r\n",
      "Requirement already satisfied: opentelemetry-api<3,>=1.9.0 in /Users/aprajita/Desktop/Aprajita_SECOM/code/SECOM_DS2/.venv/lib/python3.11/site-packages (from mlflow-skinny==3.1.1->mlflow) (1.34.1)\r\n",
      "Requirement already satisfied: opentelemetry-sdk<3,>=1.9.0 in /Users/aprajita/Desktop/Aprajita_SECOM/code/SECOM_DS2/.venv/lib/python3.11/site-packages (from mlflow-skinny==3.1.1->mlflow) (1.34.1)\r\n",
      "Requirement already satisfied: packaging<26 in /Users/aprajita/Desktop/Aprajita_SECOM/code/SECOM_DS2/.venv/lib/python3.11/site-packages (from mlflow-skinny==3.1.1->mlflow) (25.0)\r\n",
      "Requirement already satisfied: protobuf<7,>=3.12.0 in /Users/aprajita/Desktop/Aprajita_SECOM/code/SECOM_DS2/.venv/lib/python3.11/site-packages (from mlflow-skinny==3.1.1->mlflow) (5.29.5)\r\n",
      "Requirement already satisfied: pydantic<3,>=1.10.8 in /Users/aprajita/Desktop/Aprajita_SECOM/code/SECOM_DS2/.venv/lib/python3.11/site-packages (from mlflow-skinny==3.1.1->mlflow) (2.11.7)\r\n",
      "Requirement already satisfied: pyyaml<7,>=5.1 in /Users/aprajita/Desktop/Aprajita_SECOM/code/SECOM_DS2/.venv/lib/python3.11/site-packages (from mlflow-skinny==3.1.1->mlflow) (6.0.2)\r\n",
      "Requirement already satisfied: requests<3,>=2.17.3 in /Users/aprajita/Desktop/Aprajita_SECOM/code/SECOM_DS2/.venv/lib/python3.11/site-packages (from mlflow-skinny==3.1.1->mlflow) (2.32.3)\r\n",
      "Requirement already satisfied: sqlparse<1,>=0.4.0 in /Users/aprajita/Desktop/Aprajita_SECOM/code/SECOM_DS2/.venv/lib/python3.11/site-packages (from mlflow-skinny==3.1.1->mlflow) (0.5.3)\r\n",
      "Requirement already satisfied: typing-extensions<5,>=4.0.0 in /Users/aprajita/Desktop/Aprajita_SECOM/code/SECOM_DS2/.venv/lib/python3.11/site-packages (from mlflow-skinny==3.1.1->mlflow) (4.13.2)\r\n",
      "Requirement already satisfied: uvicorn<1 in /Users/aprajita/Desktop/Aprajita_SECOM/code/SECOM_DS2/.venv/lib/python3.11/site-packages (from mlflow-skinny==3.1.1->mlflow) (0.35.0)\r\n",
      "Requirement already satisfied: Mako in /Users/aprajita/Desktop/Aprajita_SECOM/code/SECOM_DS2/.venv/lib/python3.11/site-packages (from alembic!=1.10.0,<2->mlflow) (1.3.10)\r\n",
      "Requirement already satisfied: google-auth~=2.0 in /Users/aprajita/Desktop/Aprajita_SECOM/code/SECOM_DS2/.venv/lib/python3.11/site-packages (from databricks-sdk<1,>=0.20.0->mlflow-skinny==3.1.1->mlflow) (2.40.3)\r\n",
      "Requirement already satisfied: urllib3>=1.26.0 in /Users/aprajita/Desktop/Aprajita_SECOM/code/SECOM_DS2/.venv/lib/python3.11/site-packages (from docker<8,>=4.0.0->mlflow) (2.4.0)\r\n",
      "Requirement already satisfied: starlette<0.47.0,>=0.40.0 in /Users/aprajita/Desktop/Aprajita_SECOM/code/SECOM_DS2/.venv/lib/python3.11/site-packages (from fastapi<1->mlflow-skinny==3.1.1->mlflow) (0.46.2)\r\n",
      "Requirement already satisfied: Werkzeug>=3.0.0 in /Users/aprajita/Desktop/Aprajita_SECOM/code/SECOM_DS2/.venv/lib/python3.11/site-packages (from Flask<4->mlflow) (3.0.6)\r\n",
      "Requirement already satisfied: Jinja2>=3.1.2 in /Users/aprajita/Desktop/Aprajita_SECOM/code/SECOM_DS2/.venv/lib/python3.11/site-packages (from Flask<4->mlflow) (3.1.6)\r\n",
      "Requirement already satisfied: itsdangerous>=2.1.2 in /Users/aprajita/Desktop/Aprajita_SECOM/code/SECOM_DS2/.venv/lib/python3.11/site-packages (from Flask<4->mlflow) (2.2.0)\r\n",
      "Requirement already satisfied: blinker>=1.6.2 in /Users/aprajita/Desktop/Aprajita_SECOM/code/SECOM_DS2/.venv/lib/python3.11/site-packages (from Flask<4->mlflow) (1.9.0)\r\n",
      "Requirement already satisfied: gitdb<5,>=4.0.1 in /Users/aprajita/Desktop/Aprajita_SECOM/code/SECOM_DS2/.venv/lib/python3.11/site-packages (from gitpython<4,>=3.1.9->mlflow-skinny==3.1.1->mlflow) (4.0.12)\r\n",
      "Requirement already satisfied: smmap<6,>=3.0.1 in /Users/aprajita/Desktop/Aprajita_SECOM/code/SECOM_DS2/.venv/lib/python3.11/site-packages (from gitdb<5,>=4.0.1->gitpython<4,>=3.1.9->mlflow-skinny==3.1.1->mlflow) (5.0.2)\r\n",
      "Requirement already satisfied: pyasn1-modules>=0.2.1 in /Users/aprajita/Desktop/Aprajita_SECOM/code/SECOM_DS2/.venv/lib/python3.11/site-packages (from google-auth~=2.0->databricks-sdk<1,>=0.20.0->mlflow-skinny==3.1.1->mlflow) (0.4.2)\r\n",
      "Requirement already satisfied: rsa<5,>=3.1.4 in /Users/aprajita/Desktop/Aprajita_SECOM/code/SECOM_DS2/.venv/lib/python3.11/site-packages (from google-auth~=2.0->databricks-sdk<1,>=0.20.0->mlflow-skinny==3.1.1->mlflow) (4.7.2)\r\n",
      "Requirement already satisfied: graphql-core<3.3,>=3.1 in /Users/aprajita/Desktop/Aprajita_SECOM/code/SECOM_DS2/.venv/lib/python3.11/site-packages (from graphene<4->mlflow) (3.2.6)\r\n",
      "Requirement already satisfied: graphql-relay<3.3,>=3.1 in /Users/aprajita/Desktop/Aprajita_SECOM/code/SECOM_DS2/.venv/lib/python3.11/site-packages (from graphene<4->mlflow) (3.2.0)\r\n",
      "Requirement already satisfied: python-dateutil<3,>=2.7.0 in /Users/aprajita/Desktop/Aprajita_SECOM/code/SECOM_DS2/.venv/lib/python3.11/site-packages (from graphene<4->mlflow) (2.9.0.post0)\r\n",
      "Requirement already satisfied: zipp>=3.20 in /Users/aprajita/Desktop/Aprajita_SECOM/code/SECOM_DS2/.venv/lib/python3.11/site-packages (from importlib_metadata!=4.7.0,<9,>=3.7.0->mlflow-skinny==3.1.1->mlflow) (3.21.0)\r\n",
      "Requirement already satisfied: contourpy>=1.0.1 in /Users/aprajita/Desktop/Aprajita_SECOM/code/SECOM_DS2/.venv/lib/python3.11/site-packages (from matplotlib<4->mlflow) (1.3.2)\r\n",
      "Requirement already satisfied: cycler>=0.10 in /Users/aprajita/Desktop/Aprajita_SECOM/code/SECOM_DS2/.venv/lib/python3.11/site-packages (from matplotlib<4->mlflow) (0.12.1)\r\n",
      "Requirement already satisfied: fonttools>=4.22.0 in /Users/aprajita/Desktop/Aprajita_SECOM/code/SECOM_DS2/.venv/lib/python3.11/site-packages (from matplotlib<4->mlflow) (4.58.0)\r\n",
      "Requirement already satisfied: kiwisolver>=1.0.1 in /Users/aprajita/Desktop/Aprajita_SECOM/code/SECOM_DS2/.venv/lib/python3.11/site-packages (from matplotlib<4->mlflow) (1.4.8)\r\n",
      "Requirement already satisfied: pillow>=6.2.0 in /Users/aprajita/Desktop/Aprajita_SECOM/code/SECOM_DS2/.venv/lib/python3.11/site-packages (from matplotlib<4->mlflow) (11.2.1)\r\n",
      "Requirement already satisfied: pyparsing>=2.3.1 in /Users/aprajita/Desktop/Aprajita_SECOM/code/SECOM_DS2/.venv/lib/python3.11/site-packages (from matplotlib<4->mlflow) (3.2.3)\r\n",
      "Requirement already satisfied: opentelemetry-semantic-conventions==0.55b1 in /Users/aprajita/Desktop/Aprajita_SECOM/code/SECOM_DS2/.venv/lib/python3.11/site-packages (from opentelemetry-sdk<3,>=1.9.0->mlflow-skinny==3.1.1->mlflow) (0.55b1)\r\n",
      "Requirement already satisfied: pytz>=2020.1 in /Users/aprajita/Desktop/Aprajita_SECOM/code/SECOM_DS2/.venv/lib/python3.11/site-packages (from pandas<3->mlflow) (2025.2)\r\n",
      "Requirement already satisfied: tzdata>=2022.7 in /Users/aprajita/Desktop/Aprajita_SECOM/code/SECOM_DS2/.venv/lib/python3.11/site-packages (from pandas<3->mlflow) (2025.2)\r\n",
      "Requirement already satisfied: annotated-types>=0.6.0 in /Users/aprajita/Desktop/Aprajita_SECOM/code/SECOM_DS2/.venv/lib/python3.11/site-packages (from pydantic<3,>=1.10.8->mlflow-skinny==3.1.1->mlflow) (0.7.0)\r\n",
      "Requirement already satisfied: pydantic-core==2.33.2 in /Users/aprajita/Desktop/Aprajita_SECOM/code/SECOM_DS2/.venv/lib/python3.11/site-packages (from pydantic<3,>=1.10.8->mlflow-skinny==3.1.1->mlflow) (2.33.2)\r\n",
      "Requirement already satisfied: typing-inspection>=0.4.0 in /Users/aprajita/Desktop/Aprajita_SECOM/code/SECOM_DS2/.venv/lib/python3.11/site-packages (from pydantic<3,>=1.10.8->mlflow-skinny==3.1.1->mlflow) (0.4.1)\r\n",
      "Requirement already satisfied: six>=1.5 in /Users/aprajita/Desktop/Aprajita_SECOM/code/SECOM_DS2/.venv/lib/python3.11/site-packages (from python-dateutil<3,>=2.7.0->graphene<4->mlflow) (1.17.0)\r\n",
      "Requirement already satisfied: charset-normalizer<4,>=2 in /Users/aprajita/Desktop/Aprajita_SECOM/code/SECOM_DS2/.venv/lib/python3.11/site-packages (from requests<3,>=2.17.3->mlflow-skinny==3.1.1->mlflow) (3.4.2)\r\n",
      "Requirement already satisfied: idna<4,>=2.5 in /Users/aprajita/Desktop/Aprajita_SECOM/code/SECOM_DS2/.venv/lib/python3.11/site-packages (from requests<3,>=2.17.3->mlflow-skinny==3.1.1->mlflow) (3.10)\r\n",
      "Requirement already satisfied: certifi>=2017.4.17 in /Users/aprajita/Desktop/Aprajita_SECOM/code/SECOM_DS2/.venv/lib/python3.11/site-packages (from requests<3,>=2.17.3->mlflow-skinny==3.1.1->mlflow) (2025.4.26)\r\n",
      "Requirement already satisfied: pyasn1>=0.1.3 in /Users/aprajita/Desktop/Aprajita_SECOM/code/SECOM_DS2/.venv/lib/python3.11/site-packages (from rsa<5,>=3.1.4->google-auth~=2.0->databricks-sdk<1,>=0.20.0->mlflow-skinny==3.1.1->mlflow) (0.6.1)\r\n",
      "Requirement already satisfied: joblib>=1.2.0 in /Users/aprajita/Desktop/Aprajita_SECOM/code/SECOM_DS2/.venv/lib/python3.11/site-packages (from scikit-learn<2->mlflow) (1.3.2)\r\n",
      "Requirement already satisfied: threadpoolctl>=2.0.0 in /Users/aprajita/Desktop/Aprajita_SECOM/code/SECOM_DS2/.venv/lib/python3.11/site-packages (from scikit-learn<2->mlflow) (3.6.0)\r\n",
      "Requirement already satisfied: anyio<5,>=3.6.2 in /Users/aprajita/Desktop/Aprajita_SECOM/code/SECOM_DS2/.venv/lib/python3.11/site-packages (from starlette<0.47.0,>=0.40.0->fastapi<1->mlflow-skinny==3.1.1->mlflow) (4.9.0)\r\n",
      "Requirement already satisfied: sniffio>=1.1 in /Users/aprajita/Desktop/Aprajita_SECOM/code/SECOM_DS2/.venv/lib/python3.11/site-packages (from anyio<5,>=3.6.2->starlette<0.47.0,>=0.40.0->fastapi<1->mlflow-skinny==3.1.1->mlflow) (1.3.1)\r\n",
      "Requirement already satisfied: h11>=0.8 in /Users/aprajita/Desktop/Aprajita_SECOM/code/SECOM_DS2/.venv/lib/python3.11/site-packages (from uvicorn<1->mlflow-skinny==3.1.1->mlflow) (0.16.0)\r\n",
      "Requirement already satisfied: botocore<1.40.0,>=1.39.3 in /Users/aprajita/Desktop/Aprajita_SECOM/code/SECOM_DS2/.venv/lib/python3.11/site-packages (from boto3) (1.39.3)\r\n",
      "Requirement already satisfied: jmespath<2.0.0,>=0.7.1 in /Users/aprajita/Desktop/Aprajita_SECOM/code/SECOM_DS2/.venv/lib/python3.11/site-packages (from boto3) (1.0.1)\r\n",
      "Requirement already satisfied: s3transfer<0.14.0,>=0.13.0 in /Users/aprajita/Desktop/Aprajita_SECOM/code/SECOM_DS2/.venv/lib/python3.11/site-packages (from boto3) (0.13.0)\r\n",
      "Requirement already satisfied: docutils<=0.19,>=0.18.1 in /Users/aprajita/Desktop/Aprajita_SECOM/code/SECOM_DS2/.venv/lib/python3.11/site-packages (from awscli) (0.19)\r\n",
      "Requirement already satisfied: colorama<0.4.7,>=0.2.5 in /Users/aprajita/Desktop/Aprajita_SECOM/code/SECOM_DS2/.venv/lib/python3.11/site-packages (from awscli) (0.4.6)\r\n",
      "Requirement already satisfied: colorlog in /Users/aprajita/Desktop/Aprajita_SECOM/code/SECOM_DS2/.venv/lib/python3.11/site-packages (from optuna) (6.9.0)\r\n",
      "Requirement already satisfied: tqdm in /Users/aprajita/Desktop/Aprajita_SECOM/code/SECOM_DS2/.venv/lib/python3.11/site-packages (from optuna) (4.67.1)\r\n",
      "Requirement already satisfied: MarkupSafe>=2.0 in /Users/aprajita/Desktop/Aprajita_SECOM/code/SECOM_DS2/.venv/lib/python3.11/site-packages (from Jinja2>=3.1.2->Flask<4->mlflow) (3.0.2)\r\n"
     ]
    }
   ],
   "source": [
    "!pip install mlflow boto3 awscli optuna"
   ]
  },
  {
   "cell_type": "code",
   "execution_count": 33,
   "metadata": {
    "ExecuteTime": {
     "end_time": "2025-07-09T19:09:36.024214Z",
     "start_time": "2025-07-09T19:09:35.025732Z"
    },
    "colab": {
     "base_uri": "https://localhost:8080/"
    },
    "id": "rOwRp1usYfJ8",
    "outputId": "f6f056a7-d8be-4520-d19b-cbab2f05f1b7"
   },
   "outputs": [
    {
     "name": "stdout",
     "output_type": "stream",
     "text": [
      "Requirement already satisfied: optuna in /Users/aprajita/Desktop/Aprajita_SECOM/code/SECOM_DS2/.venv/lib/python3.11/site-packages (4.4.0)\r\n",
      "Requirement already satisfied: alembic>=1.5.0 in /Users/aprajita/Desktop/Aprajita_SECOM/code/SECOM_DS2/.venv/lib/python3.11/site-packages (from optuna) (1.16.2)\r\n",
      "Requirement already satisfied: colorlog in /Users/aprajita/Desktop/Aprajita_SECOM/code/SECOM_DS2/.venv/lib/python3.11/site-packages (from optuna) (6.9.0)\r\n",
      "Requirement already satisfied: numpy in /Users/aprajita/Desktop/Aprajita_SECOM/code/SECOM_DS2/.venv/lib/python3.11/site-packages (from optuna) (1.26.4)\r\n",
      "Requirement already satisfied: packaging>=20.0 in /Users/aprajita/Desktop/Aprajita_SECOM/code/SECOM_DS2/.venv/lib/python3.11/site-packages (from optuna) (25.0)\r\n",
      "Requirement already satisfied: sqlalchemy>=1.4.2 in /Users/aprajita/Desktop/Aprajita_SECOM/code/SECOM_DS2/.venv/lib/python3.11/site-packages (from optuna) (2.0.41)\r\n",
      "Requirement already satisfied: tqdm in /Users/aprajita/Desktop/Aprajita_SECOM/code/SECOM_DS2/.venv/lib/python3.11/site-packages (from optuna) (4.67.1)\r\n",
      "Requirement already satisfied: PyYAML in /Users/aprajita/Desktop/Aprajita_SECOM/code/SECOM_DS2/.venv/lib/python3.11/site-packages (from optuna) (6.0.2)\r\n",
      "Requirement already satisfied: Mako in /Users/aprajita/Desktop/Aprajita_SECOM/code/SECOM_DS2/.venv/lib/python3.11/site-packages (from alembic>=1.5.0->optuna) (1.3.10)\r\n",
      "Requirement already satisfied: typing-extensions>=4.12 in /Users/aprajita/Desktop/Aprajita_SECOM/code/SECOM_DS2/.venv/lib/python3.11/site-packages (from alembic>=1.5.0->optuna) (4.13.2)\r\n",
      "Requirement already satisfied: MarkupSafe>=0.9.2 in /Users/aprajita/Desktop/Aprajita_SECOM/code/SECOM_DS2/.venv/lib/python3.11/site-packages (from Mako->alembic>=1.5.0->optuna) (3.0.2)\r\n"
     ]
    }
   ],
   "source": [
    "!pip install optuna"
   ]
  },
  {
   "cell_type": "code",
   "execution_count": 63,
   "metadata": {
    "ExecuteTime": {
     "end_time": "2025-07-09T21:56:20.627087Z",
     "start_time": "2025-07-09T21:56:20.595800Z"
    },
    "id": "QBXTpg9Niizr"
   },
   "outputs": [],
   "source": [
    "import numpy as np\n",
    "import pandas as pd\n",
    "import matplotlib.pyplot as plt\n",
    "import seaborn as sns\n",
    "\n",
    "from sklearn.datasets import make_classification\n",
    "from sklearn.model_selection import train_test_split, StratifiedKFold, cross_validate, cross_val_predict\n",
    "from sklearn.impute import SimpleImputer, KNNImputer\n",
    "from sklearn.experimental import enable_iterative_imputer\n",
    "from sklearn.impute import IterativeImputer\n",
    "from sklearn.preprocessing import StandardScaler, RobustScaler, MaxAbsScaler\n",
    "from sklearn.linear_model import LogisticRegression, Lasso\n",
    "from sklearn.feature_selection import RFE, SelectFromModel, mutual_info_classif, SelectKBest\n",
    "from sklearn.ensemble import RandomForestClassifier\n",
    "from sklearn.svm import SVC\n",
    "from sklearn.base import BaseEstimator, TransformerMixin, clone\n",
    "from sklearn.metrics import make_scorer, f1_score, precision_score, recall_score, confusion_matrix, ConfusionMatrixDisplay, precision_recall_curve, roc_curve, roc_auc_score\n",
    "from sklearn.calibration import CalibratedClassifierCV\n",
    "from sklearn.discriminant_analysis import LinearDiscriminantAnalysis\n",
    "from sklearn.decomposition import PCA\n",
    "\n",
    "from sklearn.base import BaseEstimator, TransformerMixin\n",
    "\n",
    "from xgboost import XGBClassifier\n",
    "\n",
    "from imblearn.over_sampling import SMOTE, ADASYN, RandomOverSampler\n",
    "from imblearn.pipeline import Pipeline as ImbPipeline\n",
    "from boruta import BorutaPy\n",
    "\n",
    "import time\n",
    "import os\n",
    "\n",
    "from joblib import Parallel, delayed\n",
    "from collections import Counter\n",
    "\n",
    "import warnings\n",
    "from sklearn.exceptions import ConvergenceWarning\n",
    "\n",
    "from pathlib import Path\n",
    "\n",
    "warnings.filterwarnings(\"ignore\", category=ConvergenceWarning)"
   ]
  },
  {
   "cell_type": "markdown",
   "metadata": {
    "id": "E7OYxHE9ivdN"
   },
   "source": [
    "## Data Loading"
   ]
  },
  {
   "cell_type": "code",
   "execution_count": 35,
   "metadata": {
    "ExecuteTime": {
     "end_time": "2025-07-09T19:09:57.714234Z",
     "start_time": "2025-07-09T19:09:51.363624Z"
    },
    "colab": {
     "base_uri": "https://localhost:8080/",
     "height": 255
    },
    "id": "ntC4X_wpixNs",
    "outputId": "fb9b7a11-bd3a-4bd2-fc7a-da45d5567671"
   },
   "outputs": [
    {
     "data": {
      "text/html": [
       "<div>\n",
       "<style scoped>\n",
       "    .dataframe tbody tr th:only-of-type {\n",
       "        vertical-align: middle;\n",
       "    }\n",
       "\n",
       "    .dataframe tbody tr th {\n",
       "        vertical-align: top;\n",
       "    }\n",
       "\n",
       "    .dataframe thead th {\n",
       "        text-align: right;\n",
       "    }\n",
       "</style>\n",
       "<table border=\"1\" class=\"dataframe\">\n",
       "  <thead>\n",
       "    <tr style=\"text-align: right;\">\n",
       "      <th></th>\n",
       "      <th>feature1</th>\n",
       "      <th>feature2</th>\n",
       "      <th>feature3</th>\n",
       "      <th>feature4</th>\n",
       "      <th>feature5</th>\n",
       "      <th>feature6</th>\n",
       "      <th>feature7</th>\n",
       "      <th>feature8</th>\n",
       "      <th>feature9</th>\n",
       "      <th>feature10</th>\n",
       "      <th>...</th>\n",
       "      <th>feature581</th>\n",
       "      <th>feature582</th>\n",
       "      <th>feature583</th>\n",
       "      <th>feature584</th>\n",
       "      <th>feature585</th>\n",
       "      <th>feature586</th>\n",
       "      <th>feature587</th>\n",
       "      <th>feature588</th>\n",
       "      <th>feature589</th>\n",
       "      <th>feature590</th>\n",
       "    </tr>\n",
       "  </thead>\n",
       "  <tbody>\n",
       "    <tr>\n",
       "      <th>0</th>\n",
       "      <td>3030.93</td>\n",
       "      <td>2564.00</td>\n",
       "      <td>2187.7333</td>\n",
       "      <td>1411.1265</td>\n",
       "      <td>1.3602</td>\n",
       "      <td>100.0</td>\n",
       "      <td>97.6133</td>\n",
       "      <td>0.1242</td>\n",
       "      <td>1.5005</td>\n",
       "      <td>0.0162</td>\n",
       "      <td>...</td>\n",
       "      <td>NaN</td>\n",
       "      <td>NaN</td>\n",
       "      <td>0.5005</td>\n",
       "      <td>0.0118</td>\n",
       "      <td>0.0035</td>\n",
       "      <td>2.3630</td>\n",
       "      <td>NaN</td>\n",
       "      <td>NaN</td>\n",
       "      <td>NaN</td>\n",
       "      <td>NaN</td>\n",
       "    </tr>\n",
       "    <tr>\n",
       "      <th>1</th>\n",
       "      <td>3095.78</td>\n",
       "      <td>2465.14</td>\n",
       "      <td>2230.4222</td>\n",
       "      <td>1463.6606</td>\n",
       "      <td>0.8294</td>\n",
       "      <td>100.0</td>\n",
       "      <td>102.3433</td>\n",
       "      <td>0.1247</td>\n",
       "      <td>1.4966</td>\n",
       "      <td>-0.0005</td>\n",
       "      <td>...</td>\n",
       "      <td>0.0060</td>\n",
       "      <td>208.2045</td>\n",
       "      <td>0.5019</td>\n",
       "      <td>0.0223</td>\n",
       "      <td>0.0055</td>\n",
       "      <td>4.4447</td>\n",
       "      <td>0.0096</td>\n",
       "      <td>0.0201</td>\n",
       "      <td>0.0060</td>\n",
       "      <td>208.2045</td>\n",
       "    </tr>\n",
       "    <tr>\n",
       "      <th>2</th>\n",
       "      <td>2932.61</td>\n",
       "      <td>2559.94</td>\n",
       "      <td>2186.4111</td>\n",
       "      <td>1698.0172</td>\n",
       "      <td>1.5102</td>\n",
       "      <td>100.0</td>\n",
       "      <td>95.4878</td>\n",
       "      <td>0.1241</td>\n",
       "      <td>1.4436</td>\n",
       "      <td>0.0041</td>\n",
       "      <td>...</td>\n",
       "      <td>0.0148</td>\n",
       "      <td>82.8602</td>\n",
       "      <td>0.4958</td>\n",
       "      <td>0.0157</td>\n",
       "      <td>0.0039</td>\n",
       "      <td>3.1745</td>\n",
       "      <td>0.0584</td>\n",
       "      <td>0.0484</td>\n",
       "      <td>0.0148</td>\n",
       "      <td>82.8602</td>\n",
       "    </tr>\n",
       "    <tr>\n",
       "      <th>3</th>\n",
       "      <td>2988.72</td>\n",
       "      <td>2479.90</td>\n",
       "      <td>2199.0333</td>\n",
       "      <td>909.7926</td>\n",
       "      <td>1.3204</td>\n",
       "      <td>100.0</td>\n",
       "      <td>104.2367</td>\n",
       "      <td>0.1217</td>\n",
       "      <td>1.4882</td>\n",
       "      <td>-0.0124</td>\n",
       "      <td>...</td>\n",
       "      <td>0.0044</td>\n",
       "      <td>73.8432</td>\n",
       "      <td>0.4990</td>\n",
       "      <td>0.0103</td>\n",
       "      <td>0.0025</td>\n",
       "      <td>2.0544</td>\n",
       "      <td>0.0202</td>\n",
       "      <td>0.0149</td>\n",
       "      <td>0.0044</td>\n",
       "      <td>73.8432</td>\n",
       "    </tr>\n",
       "    <tr>\n",
       "      <th>4</th>\n",
       "      <td>3032.24</td>\n",
       "      <td>2502.87</td>\n",
       "      <td>2233.3667</td>\n",
       "      <td>1326.5200</td>\n",
       "      <td>1.5334</td>\n",
       "      <td>100.0</td>\n",
       "      <td>100.3967</td>\n",
       "      <td>0.1235</td>\n",
       "      <td>1.5031</td>\n",
       "      <td>-0.0031</td>\n",
       "      <td>...</td>\n",
       "      <td>NaN</td>\n",
       "      <td>NaN</td>\n",
       "      <td>0.4800</td>\n",
       "      <td>0.4766</td>\n",
       "      <td>0.1045</td>\n",
       "      <td>99.3032</td>\n",
       "      <td>0.0202</td>\n",
       "      <td>0.0149</td>\n",
       "      <td>0.0044</td>\n",
       "      <td>73.8432</td>\n",
       "    </tr>\n",
       "  </tbody>\n",
       "</table>\n",
       "<p>5 rows × 590 columns</p>\n",
       "</div>"
      ],
      "text/plain": [
       "   feature1  feature2   feature3   feature4  feature5  feature6  feature7  \\\n",
       "0   3030.93   2564.00  2187.7333  1411.1265    1.3602     100.0   97.6133   \n",
       "1   3095.78   2465.14  2230.4222  1463.6606    0.8294     100.0  102.3433   \n",
       "2   2932.61   2559.94  2186.4111  1698.0172    1.5102     100.0   95.4878   \n",
       "3   2988.72   2479.90  2199.0333   909.7926    1.3204     100.0  104.2367   \n",
       "4   3032.24   2502.87  2233.3667  1326.5200    1.5334     100.0  100.3967   \n",
       "\n",
       "   feature8  feature9  feature10  ...  feature581  feature582  feature583  \\\n",
       "0    0.1242    1.5005     0.0162  ...         NaN         NaN      0.5005   \n",
       "1    0.1247    1.4966    -0.0005  ...      0.0060    208.2045      0.5019   \n",
       "2    0.1241    1.4436     0.0041  ...      0.0148     82.8602      0.4958   \n",
       "3    0.1217    1.4882    -0.0124  ...      0.0044     73.8432      0.4990   \n",
       "4    0.1235    1.5031    -0.0031  ...         NaN         NaN      0.4800   \n",
       "\n",
       "   feature584  feature585  feature586  feature587  feature588  feature589  \\\n",
       "0      0.0118      0.0035      2.3630         NaN         NaN         NaN   \n",
       "1      0.0223      0.0055      4.4447      0.0096      0.0201      0.0060   \n",
       "2      0.0157      0.0039      3.1745      0.0584      0.0484      0.0148   \n",
       "3      0.0103      0.0025      2.0544      0.0202      0.0149      0.0044   \n",
       "4      0.4766      0.1045     99.3032      0.0202      0.0149      0.0044   \n",
       "\n",
       "   feature590  \n",
       "0         NaN  \n",
       "1    208.2045  \n",
       "2     82.8602  \n",
       "3     73.8432  \n",
       "4     73.8432  \n",
       "\n",
       "[5 rows x 590 columns]"
      ]
     },
     "execution_count": 35,
     "metadata": {},
     "output_type": "execute_result"
    }
   ],
   "source": [
    "secom_data_url = \"https://archive.ics.uci.edu/ml/machine-learning-databases/secom/secom.data\"\n",
    "X = pd.read_csv(secom_data_url, sep=' ', header=None)\n",
    "feature_names = [f'feature{i+1}' for i in range(X.shape[1])]\n",
    "X.columns = feature_names\n",
    "X.head()"
   ]
  },
  {
   "cell_type": "code",
   "execution_count": 4,
   "metadata": {
    "ExecuteTime": {
     "end_time": "2025-07-09T17:28:25.083254Z",
     "start_time": "2025-07-09T17:28:25.074Z"
    },
    "colab": {
     "base_uri": "https://localhost:8080/"
    },
    "id": "q4hhMs-wizvA",
    "outputId": "6f04e4a6-4281-4d78-afb3-aa8f91ee6031"
   },
   "outputs": [
    {
     "data": {
      "text/plain": [
       "(1567, 590)"
      ]
     },
     "execution_count": 4,
     "metadata": {},
     "output_type": "execute_result"
    }
   ],
   "source": [
    "X.shape"
   ]
  },
  {
   "cell_type": "code",
   "execution_count": 36,
   "metadata": {
    "ExecuteTime": {
     "end_time": "2025-07-09T19:10:20.126245Z",
     "start_time": "2025-07-09T19:10:19.144809Z"
    },
    "colab": {
     "base_uri": "https://localhost:8080/",
     "height": 206
    },
    "id": "HqPkbrzUi1b9",
    "outputId": "571b11ce-299b-4b22-cbc9-e74293057cb1"
   },
   "outputs": [
    {
     "data": {
      "text/html": [
       "<div>\n",
       "<style scoped>\n",
       "    .dataframe tbody tr th:only-of-type {\n",
       "        vertical-align: middle;\n",
       "    }\n",
       "\n",
       "    .dataframe tbody tr th {\n",
       "        vertical-align: top;\n",
       "    }\n",
       "\n",
       "    .dataframe thead th {\n",
       "        text-align: right;\n",
       "    }\n",
       "</style>\n",
       "<table border=\"1\" class=\"dataframe\">\n",
       "  <thead>\n",
       "    <tr style=\"text-align: right;\">\n",
       "      <th></th>\n",
       "      <th>label</th>\n",
       "      <th>date_time</th>\n",
       "    </tr>\n",
       "  </thead>\n",
       "  <tbody>\n",
       "    <tr>\n",
       "      <th>0</th>\n",
       "      <td>0</td>\n",
       "      <td>19/07/2008 11:55:00</td>\n",
       "    </tr>\n",
       "    <tr>\n",
       "      <th>1</th>\n",
       "      <td>0</td>\n",
       "      <td>19/07/2008 12:32:00</td>\n",
       "    </tr>\n",
       "    <tr>\n",
       "      <th>2</th>\n",
       "      <td>1</td>\n",
       "      <td>19/07/2008 13:17:00</td>\n",
       "    </tr>\n",
       "    <tr>\n",
       "      <th>3</th>\n",
       "      <td>0</td>\n",
       "      <td>19/07/2008 14:43:00</td>\n",
       "    </tr>\n",
       "    <tr>\n",
       "      <th>4</th>\n",
       "      <td>0</td>\n",
       "      <td>19/07/2008 15:22:00</td>\n",
       "    </tr>\n",
       "  </tbody>\n",
       "</table>\n",
       "</div>"
      ],
      "text/plain": [
       "   label            date_time\n",
       "0      0  19/07/2008 11:55:00\n",
       "1      0  19/07/2008 12:32:00\n",
       "2      1  19/07/2008 13:17:00\n",
       "3      0  19/07/2008 14:43:00\n",
       "4      0  19/07/2008 15:22:00"
      ]
     },
     "execution_count": 36,
     "metadata": {},
     "output_type": "execute_result"
    }
   ],
   "source": [
    "secom_labels_url = \"https://archive.ics.uci.edu/ml/machine-learning-databases/secom/secom_labels.data\"\n",
    "y = pd.read_csv(secom_labels_url, sep=' ', header=None)\n",
    "label_columns = ['label', 'date_time']\n",
    "y.columns = label_columns\n",
    "y['label'] = y['label'].replace(-1, 0)\n",
    "y.head()"
   ]
  },
  {
   "cell_type": "code",
   "execution_count": 8,
   "metadata": {
    "ExecuteTime": {
     "end_time": "2025-07-08T21:54:46.103926Z",
     "start_time": "2025-07-08T21:54:46.094388Z"
    },
    "colab": {
     "base_uri": "https://localhost:8080/"
    },
    "id": "ob0TSCELi5eU",
    "outputId": "c5e95bac-5072-4531-f56f-b0130f99fbb5"
   },
   "outputs": [
    {
     "data": {
      "text/plain": [
       "(1567, 2)"
      ]
     },
     "execution_count": 8,
     "metadata": {},
     "output_type": "execute_result"
    }
   ],
   "source": [
    "y.shape"
   ]
  },
  {
   "cell_type": "code",
   "execution_count": 9,
   "metadata": {
    "ExecuteTime": {
     "end_time": "2025-07-08T21:54:47.402900Z",
     "start_time": "2025-07-08T21:54:47.389556Z"
    },
    "colab": {
     "base_uri": "https://localhost:8080/",
     "height": 178
    },
    "id": "nqjEm_K4i6Ko",
    "outputId": "2bc00e71-4c5f-4e84-c358-12d94e928e34"
   },
   "outputs": [
    {
     "data": {
      "text/plain": [
       "label\n",
       "0    0.933631\n",
       "1    0.066369\n",
       "Name: proportion, dtype: float64"
      ]
     },
     "execution_count": 9,
     "metadata": {},
     "output_type": "execute_result"
    }
   ],
   "source": [
    "y['label'].value_counts(normalize=True)"
   ]
  },
  {
   "cell_type": "markdown",
   "metadata": {
    "id": "ZSnYN3bOi9Xg"
   },
   "source": [
    "## Train-Test Split and initial analysis"
   ]
  },
  {
   "cell_type": "code",
   "execution_count": 38,
   "metadata": {
    "ExecuteTime": {
     "end_time": "2025-07-09T19:11:27.440676Z",
     "start_time": "2025-07-09T19:11:27.401268Z"
    },
    "id": "uJskJqwui90M"
   },
   "outputs": [],
   "source": [
    "# 80% train 20% test\n",
    "X_train, X_test, y_train, y_test = train_test_split(\n",
    "    X, y,\n",
    "    test_size=0.2,\n",
    "    stratify=y['label'],\n",
    "    random_state=42\n",
    ")"
   ]
  },
  {
   "cell_type": "code",
   "execution_count": 39,
   "metadata": {
    "ExecuteTime": {
     "end_time": "2025-07-09T19:11:29.134267Z",
     "start_time": "2025-07-09T19:11:29.114516Z"
    },
    "colab": {
     "base_uri": "https://localhost:8080/"
    },
    "id": "xJzFgfg_i_pt",
    "outputId": "6d24dcc6-9bff-4894-cebd-751472073e0b"
   },
   "outputs": [
    {
     "name": "stdout",
     "output_type": "stream",
     "text": [
      "Training set size: 1253, Test set size: 314\n"
     ]
    }
   ],
   "source": [
    "# Check the sizes of the resulting datasets\n",
    "print(f\"Training set size: {X_train.shape[0]}, Test set size: {X_test.shape[0]}\")"
   ]
  },
  {
   "cell_type": "code",
   "execution_count": 41,
   "metadata": {
    "ExecuteTime": {
     "end_time": "2025-07-09T19:13:35.550574Z",
     "start_time": "2025-07-09T19:13:35.515472Z"
    },
    "colab": {
     "base_uri": "https://localhost:8080/"
    },
    "id": "3C_-vz2ljBOp",
    "outputId": "3e17f16a-e000-4927-e68c-95900fd23322"
   },
   "outputs": [
    {
     "name": "stdout",
     "output_type": "stream",
     "text": [
      "Original label distribution: \n",
      "label\n",
      "0    0.933631\n",
      "1    0.066369\n",
      "Name: proportion, dtype: float64\n",
      "\n",
      "Training label distribution: \n",
      "label\n",
      "0    0.933759\n",
      "1    0.066241\n",
      "Name: proportion, dtype: float64\n",
      "\n",
      "Test label distribution: \n",
      "label\n",
      "0    0.933121\n",
      "1    0.066879\n",
      "Name: proportion, dtype: float64\n"
     ]
    }
   ],
   "source": [
    "# Checking Class Distributions after splitting the data\n",
    "print('Original label distribution: ')\n",
    "print(y['label'].value_counts(normalize=True))\n",
    "\n",
    "print('\\nTraining label distribution: ')\n",
    "print(y_train['label'].value_counts(normalize=True))\n",
    "\n",
    "print('\\nTest label distribution: ')\n",
    "print(y_test['label'].value_counts(normalize=True))"
   ]
  },
  {
   "cell_type": "code",
   "execution_count": 9,
   "metadata": {
    "ExecuteTime": {
     "end_time": "2025-07-09T17:28:40.602094Z",
     "start_time": "2025-07-09T17:28:38.249883Z"
    },
    "colab": {
     "base_uri": "https://localhost:8080/",
     "height": 484
    },
    "id": "DFSD-gVAjDGl",
    "outputId": "71f6dac6-37ac-4caa-db51-4a8765a08dcf"
   },
   "outputs": [
    {
     "data": {
      "image/png": "[encoded data removed]",
      "text/plain": [
       "<Figure size 1500x1000 with 6 Axes>"
      ]
     },
     "metadata": {},
     "output_type": "display_data"
    }
   ],
   "source": [
    "X_train.sample(5, axis=1, random_state=42).hist(bins=30, figsize=(15, 10))\n",
    "plt.suptitle('Histogram of 5 random features in the train set')\n",
    "plt.show()"
   ]
  },
  {
   "cell_type": "code",
   "execution_count": 42,
   "metadata": {
    "ExecuteTime": {
     "end_time": "2025-07-09T19:13:40.401543Z",
     "start_time": "2025-07-09T19:13:40.325007Z"
    },
    "colab": {
     "base_uri": "https://localhost:8080/"
    },
    "id": "ZJLKzX7qjE0_",
    "outputId": "099808b3-2674-4098-a532-9b97745ce521"
   },
   "outputs": [
    {
     "name": "stdout",
     "output_type": "stream",
     "text": [
      "Number of duplicated rows in X_train: 0\n"
     ]
    }
   ],
   "source": [
    "# Checking for duplicate rows\n",
    "duplicates = X_train.duplicated()\n",
    "\n",
    "# Count the number of duplicates\n",
    "no_of_duplicates = duplicates.sum()\n",
    "print(f'Number of duplicated rows in X_train: {no_of_duplicates}')"
   ]
  },
  {
   "cell_type": "code",
   "execution_count": 43,
   "metadata": {
    "ExecuteTime": {
     "end_time": "2025-07-09T19:13:43.060860Z",
     "start_time": "2025-07-09T19:13:41.942515Z"
    },
    "colab": {
     "base_uri": "https://localhost:8080/",
     "height": 392
    },
    "id": "AqkZ2MBKjHD2",
    "outputId": "3a05a199-395d-4c7e-8af9-d6da805c5826"
   },
   "outputs": [
    {
     "data": {
      "image/png": "[encoded data removed]",
      "text/plain": [
       "<Figure size 1000x600 with 1 Axes>"
      ]
     },
     "metadata": {},
     "output_type": "display_data"
    }
   ],
   "source": [
    "# Distribution of Null Values across features\n",
    "missing_percent_per_feature = (X_train.isnull().sum() / len(X_train)) * 100\n",
    "\n",
    "plt.figure(figsize=(10,6))\n",
    "sns.histplot(missing_percent_per_feature, bins=20, kde=False, color='salmon')\n",
    "plt.title('Distribution of Null Value (%) Across Features')\n",
    "plt.xlabel('Percent of Missing Values')\n",
    "plt.ylabel('Number of Features')\n",
    "plt.tight_layout()\n",
    "plt.show()"
   ]
  },
  {
   "cell_type": "markdown",
   "metadata": {
    "id": "umnYMgM5jL5E"
   },
   "source": [
    "Based on the viz above we can cleary see a huge jump from around 20% to 45% in the percent of missing value in a feature. Based on this, we've decided to choose our threshold of 45% and features that have this percent of missing values or higher will be removed from the data."
   ]
  },
  {
   "cell_type": "code",
   "execution_count": 44,
   "metadata": {
    "ExecuteTime": {
     "end_time": "2025-07-09T19:13:49.718636Z",
     "start_time": "2025-07-09T19:13:49.698823Z"
    },
    "colab": {
     "base_uri": "https://localhost:8080/"
    },
    "id": "7S2JGP4zjJIq",
    "outputId": "0dc06598-adad-47e2-c43c-1ca94351c036"
   },
   "outputs": [
    {
     "data": {
      "text/plain": [
       "32"
      ]
     },
     "execution_count": 44,
     "metadata": {},
     "output_type": "execute_result"
    }
   ],
   "source": [
    "len(missing_percent_per_feature[missing_percent_per_feature > 45])"
   ]
  },
  {
   "cell_type": "code",
   "execution_count": 45,
   "metadata": {
    "ExecuteTime": {
     "end_time": "2025-07-09T19:13:51.011919Z",
     "start_time": "2025-07-09T19:13:50.932943Z"
    },
    "colab": {
     "base_uri": "https://localhost:8080/"
    },
    "id": "_xZMHKNujSeD",
    "outputId": "ebf10f2a-8dc4-42e9-bc8e-af7e453902c5"
   },
   "outputs": [
    {
     "data": {
      "text/plain": [
       "116"
      ]
     },
     "execution_count": 45,
     "metadata": {},
     "output_type": "execute_result"
    }
   ],
   "source": [
    "len(X_train.nunique()[X_train.nunique() == 1])"
   ]
  },
  {
   "cell_type": "markdown",
   "metadata": {
    "id": "uWe29MidjZWb"
   },
   "source": [
    "There are 32 features that have a high percent of missing values and there are 116 features that have 0 volatility."
   ]
  },
  {
   "cell_type": "code",
   "execution_count": 46,
   "metadata": {
    "ExecuteTime": {
     "end_time": "2025-07-09T19:13:52.952344Z",
     "start_time": "2025-07-09T19:13:52.936906Z"
    },
    "id": "iwVWDz6bjXNw"
   },
   "outputs": [],
   "source": [
    "y_train_arr = y_train.drop(columns='date_time')\n",
    "y_train_arr = y_train_arr.to_numpy().ravel()"
   ]
  },
  {
   "cell_type": "code",
   "execution_count": 47,
   "metadata": {
    "ExecuteTime": {
     "end_time": "2025-07-09T19:13:59.743398Z",
     "start_time": "2025-07-09T19:13:59.725312Z"
    },
    "colab": {
     "base_uri": "https://localhost:8080/",
     "height": 206
    },
    "id": "2X93DgavZQJG",
    "outputId": "3e833a16-dfdf-4195-9af5-ae1143a055d7"
   },
   "outputs": [
    {
     "data": {
      "text/html": [
       "<div>\n",
       "<style scoped>\n",
       "    .dataframe tbody tr th:only-of-type {\n",
       "        vertical-align: middle;\n",
       "    }\n",
       "\n",
       "    .dataframe tbody tr th {\n",
       "        vertical-align: top;\n",
       "    }\n",
       "\n",
       "    .dataframe thead th {\n",
       "        text-align: right;\n",
       "    }\n",
       "</style>\n",
       "<table border=\"1\" class=\"dataframe\">\n",
       "  <thead>\n",
       "    <tr style=\"text-align: right;\">\n",
       "      <th></th>\n",
       "      <th>label</th>\n",
       "      <th>date_time</th>\n",
       "    </tr>\n",
       "  </thead>\n",
       "  <tbody>\n",
       "    <tr>\n",
       "      <th>246</th>\n",
       "      <td>0</td>\n",
       "      <td>18/08/2008 04:35:00</td>\n",
       "    </tr>\n",
       "    <tr>\n",
       "      <th>1315</th>\n",
       "      <td>0</td>\n",
       "      <td>05/10/2008 09:47:00</td>\n",
       "    </tr>\n",
       "    <tr>\n",
       "      <th>444</th>\n",
       "      <td>0</td>\n",
       "      <td>24/08/2008 07:12:00</td>\n",
       "    </tr>\n",
       "    <tr>\n",
       "      <th>296</th>\n",
       "      <td>0</td>\n",
       "      <td>19/08/2008 08:07:00</td>\n",
       "    </tr>\n",
       "    <tr>\n",
       "      <th>1295</th>\n",
       "      <td>0</td>\n",
       "      <td>04/10/2008 18:25:00</td>\n",
       "    </tr>\n",
       "  </tbody>\n",
       "</table>\n",
       "</div>"
      ],
      "text/plain": [
       "      label            date_time\n",
       "246       0  18/08/2008 04:35:00\n",
       "1315      0  05/10/2008 09:47:00\n",
       "444       0  24/08/2008 07:12:00\n",
       "296       0  19/08/2008 08:07:00\n",
       "1295      0  04/10/2008 18:25:00"
      ]
     },
     "execution_count": 47,
     "metadata": {},
     "output_type": "execute_result"
    }
   ],
   "source": [
    "y_test.head()"
   ]
  },
  {
   "cell_type": "markdown",
   "metadata": {
    "id": "FvdlxEfgjlGK"
   },
   "source": [
    "## Implementation"
   ]
  },
  {
   "cell_type": "markdown",
   "metadata": {
    "id": "SWBu5EVPjt2C"
   },
   "source": [
    "## Creating a custom wrapper that preserves the output as a DF. Using it for Imputation methods for now. Can be used elsewhere"
   ]
  },
  {
   "cell_type": "code",
   "execution_count": 48,
   "metadata": {
    "ExecuteTime": {
     "end_time": "2025-07-09T19:14:18.956838Z",
     "start_time": "2025-07-09T19:14:18.941805Z"
    },
    "id": "x5Sl5Ji5juVh"
   },
   "outputs": [],
   "source": [
    "class DataFramePreserver(BaseEstimator, TransformerMixin):\n",
    "    def __init__(self, transformer):\n",
    "        # Store the wrapped transformer\n",
    "        self.transformer = transformer\n",
    "        self.columns_ = None\n",
    "        self.index_ = None\n",
    "\n",
    "    def fit(self, X, y=None):\n",
    "        # Save columns and index if input is a DataFrame\n",
    "        if isinstance(X, pd.DataFrame):\n",
    "            self.columns_ = X.columns\n",
    "            self.index_ = X.index\n",
    "        # Fit the underlying transformer\n",
    "        self.transformer.fit(X, y)\n",
    "        return self\n",
    "\n",
    "    def transform(self, X):\n",
    "        # Apply the underlying transform\n",
    "        X_t = self.transformer.transform(X)\n",
    "        # Return a DataFrame with original columns and index\n",
    "        return pd.DataFrame(X_t, columns=self.columns_, index=X.index)"
   ]
  },
  {
   "cell_type": "markdown",
   "metadata": {
    "id": "xcNv6CYBjy_3"
   },
   "source": [
    "## DropHighNullAndConstantFeatures class"
   ]
  },
  {
   "cell_type": "code",
   "execution_count": 49,
   "metadata": {
    "ExecuteTime": {
     "end_time": "2025-07-09T19:14:23.056962Z",
     "start_time": "2025-07-09T19:14:23.050987Z"
    },
    "id": "z3x2SRz2jzao"
   },
   "outputs": [],
   "source": [
    "class DropHighNullAndConstantFeatures(BaseEstimator, TransformerMixin):\n",
    "    def __init__(self, null_threshold=0.45):\n",
    "        # Threshold for dropping columns with too many nulls\n",
    "        self.null_threshold = null_threshold\n",
    "\n",
    "    def fit(self, X, y=None):\n",
    "        # Calculate fraction of nulls per feature\n",
    "        null_ratio_per_feature = X.isnull().mean()\n",
    "\n",
    "        # Identify features with null ratio above threshold\n",
    "        self.too_null_features_ = null_ratio_per_feature[\n",
    "            null_ratio_per_feature > self.null_threshold\n",
    "        ].index.tolist()\n",
    "\n",
    "        # Identify constant features (including all-NaN columns with 0 unique values)\n",
    "        self.constant_features_ = [col for col in X.columns if X[col].nunique() <= 1]\n",
    "\n",
    "        # Combine features to drop\n",
    "        self.features_to_drop_ = list(\n",
    "            set(self.too_null_features_ + self.constant_features_)\n",
    "        )\n",
    "\n",
    "        return self\n",
    "\n",
    "    def transform(self, X):\n",
    "        # Drop identified features, ignoring errors if columns are missing\n",
    "        return X.drop(columns=self.features_to_drop_, errors='ignore')"
   ]
  },
  {
   "cell_type": "markdown",
   "metadata": {
    "id": "OfVpe-Xr1eui"
   },
   "source": [
    "## Temporarily scales the data before applying the imputation method"
   ]
  },
  {
   "cell_type": "code",
   "execution_count": 50,
   "metadata": {
    "ExecuteTime": {
     "end_time": "2025-07-09T19:14:32.490120Z",
     "start_time": "2025-07-09T19:14:32.476656Z"
    },
    "id": "rm60KibC1g_L"
   },
   "outputs": [],
   "source": [
    "class ScaledImputerWrapper(BaseEstimator, TransformerMixin):\n",
    "    def __init__(self, imputer, scaler=None, apply_scaling=True):\n",
    "        # Store imputer and scaler (default RobustScaler), and whether to apply scaling\n",
    "        self.imputer = imputer\n",
    "        self.scaler = scaler if scaler else RobustScaler()\n",
    "        self.apply_scaling = apply_scaling\n",
    "\n",
    "    def fit(self, X, y=None):\n",
    "        X = pd.DataFrame(X)  # Ensure input is DataFrame for consistency\n",
    "        if self.apply_scaling:\n",
    "            # Fit scaler then imputer on scaled data\n",
    "            self.scaler.fit(X)\n",
    "            X_scaled = self.scaler.transform(X)\n",
    "            self.imputer.fit(X_scaled)\n",
    "        else:\n",
    "            # Fit imputer directly on data without scaling\n",
    "            self.imputer.fit(X)\n",
    "        return self\n",
    "\n",
    "    def transform(self, X):\n",
    "        X = pd.DataFrame(X)  # Ensure input is DataFrame for consistency\n",
    "        if self.apply_scaling:\n",
    "            # Scale, impute missing values, then inverse scale to restore original scale\n",
    "            X_scaled = self.scaler.transform(X)\n",
    "            X_imputed = self.imputer.transform(X_scaled)\n",
    "            X_restored = self.scaler.inverse_transform(X_imputed)\n",
    "            return pd.DataFrame(X_restored, columns=X.columns, index=X.index)\n",
    "        else:\n",
    "            # Impute missing values without scaling\n",
    "            X_imputed = self.imputer.transform(X)\n",
    "            return pd.DataFrame(X_imputed, columns=X.columns, index=X.index)"
   ]
  },
  {
   "cell_type": "markdown",
   "metadata": {
    "id": "O8qIwkDvj1T3"
   },
   "source": [
    "## Class implementing Outlier Capping"
   ]
  },
  {
   "cell_type": "code",
   "execution_count": 51,
   "metadata": {
    "ExecuteTime": {
     "end_time": "2025-07-09T19:14:35.938429Z",
     "start_time": "2025-07-09T19:14:35.927740Z"
    },
    "id": "d2B8Uo9rj3mJ"
   },
   "outputs": [],
   "source": [
    "class OutlierCapping(BaseEstimator, TransformerMixin):\n",
    "    def __init__(self, zscore_threshold=3):\n",
    "        # Threshold for z-score to cap outliers\n",
    "        self.zscore_threshold = zscore_threshold\n",
    "        self.means_ = None\n",
    "        self.stds_ = None\n",
    "\n",
    "    def fit(self, X, y=None):\n",
    "        X = X.copy()\n",
    "        # Calculate and store mean and std deviation of features\n",
    "        self.means_ = X.mean()\n",
    "        self.stds_ = X.std()\n",
    "        return self\n",
    "\n",
    "    def transform(self, X):\n",
    "        X = X.copy()\n",
    "        # Cap numeric feature values at mean ± zscore_threshold * std\n",
    "        for col in X.select_dtypes(include=[np.number]).columns:\n",
    "            mean = self.means_[col]\n",
    "            std = self.stds_[col]\n",
    "            lower = mean - self.zscore_threshold * std\n",
    "            upper = mean + self.zscore_threshold * std\n",
    "            X[col] = np.clip(X[col], lower, upper)\n",
    "        return X"
   ]
  },
  {
   "cell_type": "markdown",
   "metadata": {
    "id": "SVmcut6Lj5MD"
   },
   "source": [
    "## Class implementing multiple Feature Selection methods"
   ]
  },
  {
   "cell_type": "code",
   "execution_count": 73,
   "metadata": {
    "ExecuteTime": {
     "end_time": "2025-07-09T21:57:30.460913Z",
     "start_time": "2025-07-09T21:57:30.428548Z"
    },
    "id": "VB3IVWq2j7Ld"
   },
   "outputs": [],
   "source": [
    "class FeatureSelector(BaseEstimator, TransformerMixin):\n",
    "    def __init__(self, method='rfe', estimator=None, n_features_to_select=None, fraction_to_select=0.1, n_estimators=1000, max_iter=500):\n",
    "        # Initialize selector parameters and method choice\n",
    "        self.method = method\n",
    "        self.estimator = estimator\n",
    "        self.n_features_to_select = n_features_to_select\n",
    "        self.fraction_to_select = fraction_to_select\n",
    "        self.n_estimators = n_estimators\n",
    "        self.max_iter = max_iter\n",
    "\n",
    "    def fit(self, X, y):\n",
    "        X = np.array(X)  # Ensure numpy array input\n",
    "\n",
    "        if self.method == 'rfe':\n",
    "            # Default estimator if none provided (balanced RF classifier)\n",
    "            if self.estimator is None:\n",
    "                self.estimator = RandomForestClassifier(\n",
    "                    n_estimators=1000, min_samples_leaf=5,\n",
    "                    class_weight='balanced_subsample', max_depth=15,\n",
    "                    n_jobs=-1, random_state=42\n",
    "                )\n",
    "            # Determine number of features to select if not set\n",
    "            if self.n_features_to_select is None:\n",
    "                self.n_features_to_select = int(X.shape[1] * self.fraction_to_select)\n",
    "\n",
    "            # Use Recursive Feature Elimination with the estimator\n",
    "            self.selector_ = RFE(estimator=clone(self.estimator), n_features_to_select=self.n_features_to_select)\n",
    "\n",
    "        elif self.method == 'lasso':\n",
    "            # Use Lasso for feature selection (regression)\n",
    "            # Could swap with LogisticRegression for classification with L1 penalty\n",
    "            self.selector_ = SelectFromModel(Lasso(alpha=0.01, random_state=42))\n",
    "\n",
    "        elif self.method == 'boruta':\n",
    "            # Boruta feature selector wrapper\n",
    "            if self.estimator is None:\n",
    "                self.estimator = RandomForestClassifier(\n",
    "                    n_estimators=1000, min_samples_leaf=5,\n",
    "                    class_weight='balanced_subsample', max_depth=15,\n",
    "                    n_jobs=-1, random_state=42\n",
    "                )\n",
    "            self.selector_ = BorutaPy(\n",
    "                estimator=clone(self.estimator),\n",
    "                n_estimators='auto',\n",
    "                perc=80,\n",
    "                random_state=42,\n",
    "            )\n",
    "        else:\n",
    "            raise ValueError(\"Unsupported method. Use 'rfe', 'lasso' or 'boruta'.\")\n",
    "\n",
    "        self.selector_.fit(X, y)  # Fit the chosen selector\n",
    "        return self\n",
    "\n",
    "    def transform(self, X):\n",
    "        # Ensure fit was called before transform\n",
    "        if not hasattr(self, 'selector_'):\n",
    "            raise RuntimeError(\"You must fit the transformer before calling transform.\")\n",
    "        return self.selector_.transform(np.array(X))\n",
    "\n",
    "    def get_support(self):\n",
    "        # Ensure fit was called before get_support\n",
    "        if not hasattr(self, 'selector_'):\n",
    "            raise RuntimeError(\"fit() must be called before get_support().\")\n",
    "\n",
    "        # Boruta exposes support_ attribute directly\n",
    "        if self.method == 'boruta':\n",
    "            return self.selector_.support_\n",
    "\n",
    "        # RFE and Lasso use get_support() method\n",
    "        return self.selector_.get_support()"
   ]
  },
  {
   "cell_type": "markdown",
   "metadata": {
    "id": "Qk1t1Mhl1OA-"
   },
   "source": [
    "## Display class distributions after balancing"
   ]
  },
  {
   "cell_type": "code",
   "execution_count": 74,
   "metadata": {
    "ExecuteTime": {
     "end_time": "2025-07-09T21:57:35.508018Z",
     "start_time": "2025-07-09T21:57:35.495286Z"
    },
    "id": "gNQJOqFW1OeE"
   },
   "outputs": [],
   "source": [
    "class DebugTargetStats(BaseEstimator, TransformerMixin):\n",
    "    def fit(self, X, y=None):\n",
    "        # If target y is provided, print class distribution counts\n",
    "        if y is not None:\n",
    "            counts = np.bincount(y)\n",
    "            print(f\"[Debug] Class distribution after balancing: Negative={counts[0]}, Positive={counts[1]}\")\n",
    "        return self\n",
    "\n",
    "    def transform(self, X):\n",
    "        # Pass data through unchanged\n",
    "        return X"
   ]
  },
  {
   "cell_type": "markdown",
   "metadata": {
    "id": "7i3FHGG51SYD"
   },
   "source": [
    "## If you want to skip adding a component within the pipeline"
   ]
  },
  {
   "cell_type": "code",
   "execution_count": 75,
   "metadata": {
    "ExecuteTime": {
     "end_time": "2025-07-09T21:57:38.141236Z",
     "start_time": "2025-07-09T21:57:38.115242Z"
    },
    "id": "M9ps48BS1SxT"
   },
   "outputs": [],
   "source": [
    "class NoOperation(BaseEstimator, TransformerMixin):\n",
    "    def fit(self, X, y=None):\n",
    "        # No fitting needed, return self\n",
    "        return self\n",
    "\n",
    "    def transform(self, X):\n",
    "        # Return input unchanged\n",
    "        return X"
   ]
  },
  {
   "cell_type": "markdown",
   "metadata": {
    "id": "xabZRLzN1W_k"
   },
   "source": [
    "## Function to create our imbalanced pipeline and set the steps"
   ]
  },
  {
   "cell_type": "code",
   "execution_count": 76,
   "metadata": {
    "ExecuteTime": {
     "end_time": "2025-07-09T21:57:42.506873Z",
     "start_time": "2025-07-09T21:57:42.495956Z"
    },
    "id": "a-A0IAuP1lN5"
   },
   "outputs": [],
   "source": [
    "def create_pipeline(imp_name, imputer, fs_name, selector, bal_name, balancer,\n",
    "                    model, apply_scaling = False):\n",
    "  steps = []\n",
    "\n",
    "  # 1. Drop features with too many nulls or no variance\n",
    "  steps.append(('preprocess', DropHighNullAndConstantFeatures()))\n",
    "\n",
    "  # 2. Imputation (wrapped with ScaledImputerWrapper)\n",
    "  steps.append(('impute', DataFramePreserver(imputer)))\n",
    "\n",
    "  # 3. Outlier capping (on original/unscaled values)\n",
    "  #steps.append(('cap', OutlierCapping()))\n",
    "\n",
    "  # 4. Final scaling (if needed for selector or model)\n",
    "  if apply_scaling:\n",
    "    steps.append(('scale', DataFramePreserver(RobustScaler())))\n",
    "\n",
    "  # 5. Feature selection\n",
    "  steps.append(('select', selector))\n",
    "\n",
    "  # 6. Balancing\n",
    "  steps.append(('balance', balancer))\n",
    "\n",
    "  # 7. Optional step to check class balance after resampling\n",
    "  debug_step = DebugTargetStats() if bal_name != 'none' else NoOperation()\n",
    "  steps.append(('debug', debug_step))\n",
    "\n",
    "  # 8. Model\n",
    "  steps.append(('clf', model))\n",
    "\n",
    "  # Logging the pipeline steps\n",
    "  print(\"\\nFinal Pipeline steps:\")\n",
    "  for name, step in steps:\n",
    "    print(f\" - {name}: {step}\")\n",
    "\n",
    "  return ImbPipeline(steps)"
   ]
  },
  {
   "cell_type": "markdown",
   "metadata": {
    "id": "JaBU5DtE1rup"
   },
   "source": [
    "## Pipeline Components"
   ]
  },
  {
   "cell_type": "code",
   "execution_count": 79,
   "metadata": {
    "ExecuteTime": {
     "end_time": "2025-07-09T21:58:08.128329Z",
     "start_time": "2025-07-09T21:58:08.101599Z"
    },
    "id": "g2V6Q0k51sFl"
   },
   "outputs": [],
   "source": [
    "# Since XGB doesn't have class_weight='balanced', we need to define one that can be used\n",
    "custom_class_weight = float(y_train['label'].value_counts()[0] / y_train['label'].value_counts()[1])\n",
    "\n",
    "# Define pipeline components\n",
    "imputers = {\n",
    "    # \"none\": lambda: NoOperation(),\n",
    "    #\"median\": lambda: ScaledImputerWrapper(SimpleImputer(strategy=\"median\"), apply_scaling=False),\n",
    "    \"knn\": lambda: ScaledImputerWrapper(KNNImputer(), apply_scaling=True),\n",
    "    \"mice\": lambda: ScaledImputerWrapper(IterativeImputer(random_state=42), apply_scaling=True)\n",
    "}\n",
    "\n",
    "feature_selectors = {\n",
    "    # \"none\": lambda: NoOperation(),\n",
    "    \"rfe\": lambda: FeatureSelector(method='rfe'),\n",
    "    \"lasso\": lambda: FeatureSelector(method='lasso'),\n",
    "    \"boruta\": lambda: FeatureSelector(method='boruta'),\n",
    "}\n",
    "\n",
    "balancers = {\n",
    "    # \"none\": lambda: NoOperation(),\n",
    "    \"smote\": lambda: SMOTE(random_state=42),\n",
    "    \"adasyn\": lambda: ADASYN(random_state=42),\n",
    "    \"rose\": lambda: RandomOverSampler(random_state=42)\n",
    "}\n",
    "\n",
    "models = {\n",
    "    #\"none\": lambda: NoOperation(),\n",
    "    # \"RandomForest\": lambda: RandomForestClassifier(n_estimators=300, max_depth=15, min_samples_leaf=5, random_state=42, n_jobs=-1),\n",
    "    # \"LogisticRegression\": lambda: LogisticRegression(max_iter=1000, random_state=42, n_jobs=-1),\n",
    "    # \"SVC\": lambda: SVC(probability=True, random_state=42), # try LinearSVC or use SVC with some kernel like rbf, rbf is default btw\n",
    "    # \"XGB\": lambda: XGBClassifier(\n",
    "    #     max_depth=6, n_estimators=300, subsample=0.8, colsample_bytree=0.8,\n",
    "    #     learning_rate=0.05, eval_metric='logloss', random_state=42, n_jobs=-1\n",
    "    #     ),\n",
    "    # \"SVC_test\": lambda **params: SVC(random_state=42, **params)\n",
    "    \"LogReg_test\": lambda **params: LogisticRegression(random_state=42, **params)\n",
    "    # \"XGB_test\": lambda **params: XGBClassifier(random_state=42, **params),\n",
    "    # \"CalibratedRF\": lambda: CalibratedClassifierCV(\n",
    "    #     estimator=RandomForestClassifier(\n",
    "    #         n_estimators=300, max_depth=15,\n",
    "    #         min_samples_leaf=3, class_weight='balanced',\n",
    "    #         random_state=42, n_jobs=-1\n",
    "    #     ),\n",
    "    #     method='isotonic',\n",
    "    #     cv=3\n",
    "    #   )\n",
    "}"
   ]
  },
  {
   "cell_type": "markdown",
   "metadata": {
    "id": "bSlb-Ej511hj"
   },
   "source": [
    "## Experimentation"
   ]
  },
  {
   "cell_type": "code",
   "execution_count": 84,
   "metadata": {
    "ExecuteTime": {
     "end_time": "2025-07-09T21:59:31.388837Z",
     "start_time": "2025-07-09T21:59:31.372986Z"
    },
    "id": "HD8VvkHRVnTM"
   },
   "outputs": [],
   "source": [
    "# extra code – code to save the figures as high-res PNGs for the book\n",
    "\n",
    "IMAGES_PATH = Path() / \"images\" / \"SVC_BEST\"\n",
    "IMAGES_PATH.mkdir(parents=True, exist_ok=True)\n",
    "\n",
    "def save_fig(fig_id, tight_layout=True, fig_extension=\"png\", resolution=300):\n",
    "    path = IMAGES_PATH / f\"{fig_id}.{fig_extension}\"\n",
    "    if tight_layout:\n",
    "        plt.tight_layout()\n",
    "    plt.savefig(path, format=fig_extension, dpi=resolution)"
   ]
  },
  {
   "cell_type": "code",
   "execution_count": 83,
   "metadata": {
    "ExecuteTime": {
     "end_time": "2025-07-09T21:59:17.463134Z",
     "start_time": "2025-07-09T21:59:17.445277Z"
    },
    "id": "9cs0cCN313SO"
   },
   "outputs": [],
   "source": [
    "def log_results(new_results, path=\"experiment_SVC_best_gridsearch.csv\"):\n",
    "    # Load existing results if file exists\n",
    "    if os.path.exists(path):\n",
    "        existing_df = pd.read_csv(path)\n",
    "        # Append new results to existing ones\n",
    "        combined_df = pd.concat([existing_df, pd.DataFrame(new_results)], ignore_index=True)\n",
    "    else:\n",
    "        # Create new DataFrame if no existing file\n",
    "        combined_df = pd.DataFrame(new_results)\n",
    "\n",
    "    # Save combined results back to CSV\n",
    "    combined_df.to_csv(path, index=False)\n",
    "    print(f\"Logged {len(new_results)} results to {path}\")"
   ]
  },
  {
   "cell_type": "code",
   "execution_count": 82,
   "metadata": {
    "ExecuteTime": {
     "end_time": "2025-07-09T21:59:00.881378Z",
     "start_time": "2025-07-09T21:58:57.529806Z"
    },
    "colab": {
     "base_uri": "https://localhost:8080/",
     "height": 917
    },
    "id": "tv92Ulhv17Kf",
    "outputId": "5589d689-1cd8-44c8-c514-d69c03943129"
   },
   "outputs": [
    {
     "name": "stdout",
     "output_type": "stream",
     "text": [
      "\n",
      "Training mice_rfe_rose_SVC_test_True...\n",
      "\n",
      "Final Pipeline steps:\n",
      " - preprocess: DropHighNullAndConstantFeatures()\n",
      " - impute: DataFramePreserver(transformer=ScaledImputerWrapper(imputer=IterativeImputer(random_state=42),\n",
      "                                                    scaler=RobustScaler()))\n",
      " - scale: DataFramePreserver(transformer=RobustScaler())\n",
      " - select: FeatureSelector()\n",
      " - balance: RandomOverSampler(random_state=42)\n",
      " - debug: DebugTargetStats()\n",
      " - clf: SVC(random_state=42)\n"
     ]
    },
    {
     "ename": "KeyboardInterrupt",
     "evalue": "",
     "output_type": "error",
     "traceback": [
      "\u001B[31m---------------------------------------------------------------------------\u001B[39m",
      "\u001B[31mKeyboardInterrupt\u001B[39m                         Traceback (most recent call last)",
      "\u001B[36mCell\u001B[39m\u001B[36m \u001B[39m\u001B[32mIn[82]\u001B[39m\u001B[32m, line 72\u001B[39m\n\u001B[32m     69\u001B[39m \u001B[38;5;66;03m# Cross-validation setup\u001B[39;00m\n\u001B[32m     70\u001B[39m cv = StratifiedKFold(n_splits=\u001B[32m5\u001B[39m, shuffle=\u001B[38;5;28;01mTrue\u001B[39;00m, random_state=\u001B[32m42\u001B[39m)\n\u001B[32m---> \u001B[39m\u001B[32m72\u001B[39m y_proba = \u001B[43mcross_val_predict\u001B[49m\u001B[43m(\u001B[49m\u001B[43mpipe\u001B[49m\u001B[43m,\u001B[49m\u001B[43m \u001B[49m\u001B[43mX_train\u001B[49m\u001B[43m,\u001B[49m\u001B[43m \u001B[49m\u001B[43my_train_arr\u001B[49m\u001B[43m,\u001B[49m\u001B[43m \u001B[49m\u001B[43mcv\u001B[49m\u001B[43m=\u001B[49m\u001B[43mcv\u001B[49m\u001B[43m,\u001B[49m\u001B[43m \u001B[49m\u001B[43mmethod\u001B[49m\u001B[43m=\u001B[49m\u001B[33;43m'\u001B[39;49m\u001B[33;43mpredict_proba\u001B[39;49m\u001B[33;43m'\u001B[39;49m\u001B[43m,\u001B[49m\u001B[43m \u001B[49m\u001B[43mn_jobs\u001B[49m\u001B[43m=\u001B[49m\u001B[43m-\u001B[49m\u001B[32;43m1\u001B[39;49m\u001B[43m)\u001B[49m[:, \u001B[32m1\u001B[39m]\n\u001B[32m     74\u001B[39m sns.histplot(y_proba[y_train_arr == \u001B[32m0\u001B[39m], color=\u001B[33m'\u001B[39m\u001B[33mblue\u001B[39m\u001B[33m'\u001B[39m, label=\u001B[33m'\u001B[39m\u001B[33mNegative class\u001B[39m\u001B[33m'\u001B[39m, stat=\u001B[33m'\u001B[39m\u001B[33mdensity\u001B[39m\u001B[33m'\u001B[39m, bins=\u001B[32m30\u001B[39m)\n\u001B[32m     75\u001B[39m sns.histplot(y_proba[y_train_arr == \u001B[32m1\u001B[39m], color=\u001B[33m'\u001B[39m\u001B[33mred\u001B[39m\u001B[33m'\u001B[39m, label=\u001B[33m'\u001B[39m\u001B[33mPositive class\u001B[39m\u001B[33m'\u001B[39m, stat=\u001B[33m'\u001B[39m\u001B[33mdensity\u001B[39m\u001B[33m'\u001B[39m, bins=\u001B[32m30\u001B[39m)\n",
      "\u001B[36mFile \u001B[39m\u001B[32m~/Desktop/Aprajita_SECOM/code/SECOM_DS2/.venv/lib/python3.11/site-packages/sklearn/utils/_param_validation.py:213\u001B[39m, in \u001B[36mvalidate_params.<locals>.decorator.<locals>.wrapper\u001B[39m\u001B[34m(*args, **kwargs)\u001B[39m\n\u001B[32m    207\u001B[39m \u001B[38;5;28;01mtry\u001B[39;00m:\n\u001B[32m    208\u001B[39m     \u001B[38;5;28;01mwith\u001B[39;00m config_context(\n\u001B[32m    209\u001B[39m         skip_parameter_validation=(\n\u001B[32m    210\u001B[39m             prefer_skip_nested_validation \u001B[38;5;129;01mor\u001B[39;00m global_skip_validation\n\u001B[32m    211\u001B[39m         )\n\u001B[32m    212\u001B[39m     ):\n\u001B[32m--> \u001B[39m\u001B[32m213\u001B[39m         \u001B[38;5;28;01mreturn\u001B[39;00m \u001B[43mfunc\u001B[49m\u001B[43m(\u001B[49m\u001B[43m*\u001B[49m\u001B[43margs\u001B[49m\u001B[43m,\u001B[49m\u001B[43m \u001B[49m\u001B[43m*\u001B[49m\u001B[43m*\u001B[49m\u001B[43mkwargs\u001B[49m\u001B[43m)\u001B[49m\n\u001B[32m    214\u001B[39m \u001B[38;5;28;01mexcept\u001B[39;00m InvalidParameterError \u001B[38;5;28;01mas\u001B[39;00m e:\n\u001B[32m    215\u001B[39m     \u001B[38;5;66;03m# When the function is just a wrapper around an estimator, we allow\u001B[39;00m\n\u001B[32m    216\u001B[39m     \u001B[38;5;66;03m# the function to delegate validation to the estimator, but we replace\u001B[39;00m\n\u001B[32m    217\u001B[39m     \u001B[38;5;66;03m# the name of the estimator by the name of the function in the error\u001B[39;00m\n\u001B[32m    218\u001B[39m     \u001B[38;5;66;03m# message to avoid confusion.\u001B[39;00m\n\u001B[32m    219\u001B[39m     msg = re.sub(\n\u001B[32m    220\u001B[39m         \u001B[33mr\u001B[39m\u001B[33m\"\u001B[39m\u001B[33mparameter of \u001B[39m\u001B[33m\\\u001B[39m\u001B[33mw+ must be\u001B[39m\u001B[33m\"\u001B[39m,\n\u001B[32m    221\u001B[39m         \u001B[33mf\u001B[39m\u001B[33m\"\u001B[39m\u001B[33mparameter of \u001B[39m\u001B[38;5;132;01m{\u001B[39;00mfunc.\u001B[34m__qualname__\u001B[39m\u001B[38;5;132;01m}\u001B[39;00m\u001B[33m must be\u001B[39m\u001B[33m\"\u001B[39m,\n\u001B[32m    222\u001B[39m         \u001B[38;5;28mstr\u001B[39m(e),\n\u001B[32m    223\u001B[39m     )\n",
      "\u001B[36mFile \u001B[39m\u001B[32m~/Desktop/Aprajita_SECOM/code/SECOM_DS2/.venv/lib/python3.11/site-packages/sklearn/model_selection/_validation.py:1293\u001B[39m, in \u001B[36mcross_val_predict\u001B[39m\u001B[34m(estimator, X, y, groups, cv, n_jobs, verbose, fit_params, params, pre_dispatch, method)\u001B[39m\n\u001B[32m   1290\u001B[39m \u001B[38;5;66;03m# We clone the estimator to make sure that all the folds are\u001B[39;00m\n\u001B[32m   1291\u001B[39m \u001B[38;5;66;03m# independent, and that it is pickle-able.\u001B[39;00m\n\u001B[32m   1292\u001B[39m parallel = Parallel(n_jobs=n_jobs, verbose=verbose, pre_dispatch=pre_dispatch)\n\u001B[32m-> \u001B[39m\u001B[32m1293\u001B[39m predictions = \u001B[43mparallel\u001B[49m\u001B[43m(\u001B[49m\n\u001B[32m   1294\u001B[39m \u001B[43m    \u001B[49m\u001B[43mdelayed\u001B[49m\u001B[43m(\u001B[49m\u001B[43m_fit_and_predict\u001B[49m\u001B[43m)\u001B[49m\u001B[43m(\u001B[49m\n\u001B[32m   1295\u001B[39m \u001B[43m        \u001B[49m\u001B[43mclone\u001B[49m\u001B[43m(\u001B[49m\u001B[43mestimator\u001B[49m\u001B[43m)\u001B[49m\u001B[43m,\u001B[49m\n\u001B[32m   1296\u001B[39m \u001B[43m        \u001B[49m\u001B[43mX\u001B[49m\u001B[43m,\u001B[49m\n\u001B[32m   1297\u001B[39m \u001B[43m        \u001B[49m\u001B[43my\u001B[49m\u001B[43m,\u001B[49m\n\u001B[32m   1298\u001B[39m \u001B[43m        \u001B[49m\u001B[43mtrain\u001B[49m\u001B[43m,\u001B[49m\n\u001B[32m   1299\u001B[39m \u001B[43m        \u001B[49m\u001B[43mtest\u001B[49m\u001B[43m,\u001B[49m\n\u001B[32m   1300\u001B[39m \u001B[43m        \u001B[49m\u001B[43mrouted_params\u001B[49m\u001B[43m.\u001B[49m\u001B[43mestimator\u001B[49m\u001B[43m.\u001B[49m\u001B[43mfit\u001B[49m\u001B[43m,\u001B[49m\n\u001B[32m   1301\u001B[39m \u001B[43m        \u001B[49m\u001B[43mmethod\u001B[49m\u001B[43m,\u001B[49m\n\u001B[32m   1302\u001B[39m \u001B[43m    \u001B[49m\u001B[43m)\u001B[49m\n\u001B[32m   1303\u001B[39m \u001B[43m    \u001B[49m\u001B[38;5;28;43;01mfor\u001B[39;49;00m\u001B[43m \u001B[49m\u001B[43mtrain\u001B[49m\u001B[43m,\u001B[49m\u001B[43m \u001B[49m\u001B[43mtest\u001B[49m\u001B[43m \u001B[49m\u001B[38;5;129;43;01min\u001B[39;49;00m\u001B[43m \u001B[49m\u001B[43msplits\u001B[49m\n\u001B[32m   1304\u001B[39m \u001B[43m\u001B[49m\u001B[43m)\u001B[49m\n\u001B[32m   1306\u001B[39m inv_test_indices = np.empty(\u001B[38;5;28mlen\u001B[39m(test_indices), dtype=\u001B[38;5;28mint\u001B[39m)\n\u001B[32m   1307\u001B[39m inv_test_indices[test_indices] = np.arange(\u001B[38;5;28mlen\u001B[39m(test_indices))\n",
      "\u001B[36mFile \u001B[39m\u001B[32m~/Desktop/Aprajita_SECOM/code/SECOM_DS2/.venv/lib/python3.11/site-packages/sklearn/utils/parallel.py:67\u001B[39m, in \u001B[36mParallel.__call__\u001B[39m\u001B[34m(self, iterable)\u001B[39m\n\u001B[32m     62\u001B[39m config = get_config()\n\u001B[32m     63\u001B[39m iterable_with_config = (\n\u001B[32m     64\u001B[39m     (_with_config(delayed_func, config), args, kwargs)\n\u001B[32m     65\u001B[39m     \u001B[38;5;28;01mfor\u001B[39;00m delayed_func, args, kwargs \u001B[38;5;129;01min\u001B[39;00m iterable\n\u001B[32m     66\u001B[39m )\n\u001B[32m---> \u001B[39m\u001B[32m67\u001B[39m \u001B[38;5;28;01mreturn\u001B[39;00m \u001B[38;5;28;43msuper\u001B[39;49m\u001B[43m(\u001B[49m\u001B[43m)\u001B[49m\u001B[43m.\u001B[49m\u001B[34;43m__call__\u001B[39;49m\u001B[43m(\u001B[49m\u001B[43miterable_with_config\u001B[49m\u001B[43m)\u001B[49m\n",
      "\u001B[36mFile \u001B[39m\u001B[32m~/Desktop/Aprajita_SECOM/code/SECOM_DS2/.venv/lib/python3.11/site-packages/joblib/parallel.py:1952\u001B[39m, in \u001B[36mParallel.__call__\u001B[39m\u001B[34m(self, iterable)\u001B[39m\n\u001B[32m   1946\u001B[39m \u001B[38;5;66;03m# The first item from the output is blank, but it makes the interpreter\u001B[39;00m\n\u001B[32m   1947\u001B[39m \u001B[38;5;66;03m# progress until it enters the Try/Except block of the generator and\u001B[39;00m\n\u001B[32m   1948\u001B[39m \u001B[38;5;66;03m# reach the first `yield` statement. This starts the aynchronous\u001B[39;00m\n\u001B[32m   1949\u001B[39m \u001B[38;5;66;03m# dispatch of the tasks to the workers.\u001B[39;00m\n\u001B[32m   1950\u001B[39m \u001B[38;5;28mnext\u001B[39m(output)\n\u001B[32m-> \u001B[39m\u001B[32m1952\u001B[39m \u001B[38;5;28;01mreturn\u001B[39;00m output \u001B[38;5;28;01mif\u001B[39;00m \u001B[38;5;28mself\u001B[39m.return_generator \u001B[38;5;28;01melse\u001B[39;00m \u001B[38;5;28mlist\u001B[39m(output)\n",
      "\u001B[36mFile \u001B[39m\u001B[32m~/Desktop/Aprajita_SECOM/code/SECOM_DS2/.venv/lib/python3.11/site-packages/joblib/parallel.py:1595\u001B[39m, in \u001B[36mParallel._get_outputs\u001B[39m\u001B[34m(self, iterator, pre_dispatch)\u001B[39m\n\u001B[32m   1592\u001B[39m     \u001B[38;5;28;01myield\u001B[39;00m\n\u001B[32m   1594\u001B[39m     \u001B[38;5;28;01mwith\u001B[39;00m \u001B[38;5;28mself\u001B[39m._backend.retrieval_context():\n\u001B[32m-> \u001B[39m\u001B[32m1595\u001B[39m         \u001B[38;5;28;01myield from\u001B[39;00m \u001B[38;5;28mself\u001B[39m._retrieve()\n\u001B[32m   1597\u001B[39m \u001B[38;5;28;01mexcept\u001B[39;00m \u001B[38;5;167;01mGeneratorExit\u001B[39;00m:\n\u001B[32m   1598\u001B[39m     \u001B[38;5;66;03m# The generator has been garbage collected before being fully\u001B[39;00m\n\u001B[32m   1599\u001B[39m     \u001B[38;5;66;03m# consumed. This aborts the remaining tasks if possible and warn\u001B[39;00m\n\u001B[32m   1600\u001B[39m     \u001B[38;5;66;03m# the user if necessary.\u001B[39;00m\n\u001B[32m   1601\u001B[39m     \u001B[38;5;28mself\u001B[39m._exception = \u001B[38;5;28;01mTrue\u001B[39;00m\n",
      "\u001B[36mFile \u001B[39m\u001B[32m~/Desktop/Aprajita_SECOM/code/SECOM_DS2/.venv/lib/python3.11/site-packages/joblib/parallel.py:1707\u001B[39m, in \u001B[36mParallel._retrieve\u001B[39m\u001B[34m(self)\u001B[39m\n\u001B[32m   1702\u001B[39m \u001B[38;5;66;03m# If the next job is not ready for retrieval yet, we just wait for\u001B[39;00m\n\u001B[32m   1703\u001B[39m \u001B[38;5;66;03m# async callbacks to progress.\u001B[39;00m\n\u001B[32m   1704\u001B[39m \u001B[38;5;28;01mif\u001B[39;00m ((\u001B[38;5;28mlen\u001B[39m(\u001B[38;5;28mself\u001B[39m._jobs) == \u001B[32m0\u001B[39m) \u001B[38;5;129;01mor\u001B[39;00m\n\u001B[32m   1705\u001B[39m     (\u001B[38;5;28mself\u001B[39m._jobs[\u001B[32m0\u001B[39m].get_status(\n\u001B[32m   1706\u001B[39m         timeout=\u001B[38;5;28mself\u001B[39m.timeout) == TASK_PENDING)):\n\u001B[32m-> \u001B[39m\u001B[32m1707\u001B[39m     time.sleep(\u001B[32m0.01\u001B[39m)\n\u001B[32m   1708\u001B[39m     \u001B[38;5;28;01mcontinue\u001B[39;00m\n\u001B[32m   1710\u001B[39m \u001B[38;5;66;03m# We need to be careful: the job list can be filling up as\u001B[39;00m\n\u001B[32m   1711\u001B[39m \u001B[38;5;66;03m# we empty it and Python list are not thread-safe by\u001B[39;00m\n\u001B[32m   1712\u001B[39m \u001B[38;5;66;03m# default hence the use of the lock\u001B[39;00m\n",
      "\u001B[31mKeyboardInterrupt\u001B[39m: "
     ]
    }
   ],
   "source": [
    "\n",
    "results = []\n",
    "\n",
    "test_mode = True\n",
    "\n",
    "if test_mode:\n",
    "  test_combinations = [\n",
    "      # ('knn', 'none', 'rose',\t'none',\t'RandomForest',\tTrue),\n",
    "      # ('knn', 'none',\t'adasyn',\t'none',\t'RandomForest',\tTrue),\n",
    "      # ('knn', 'none',\t'smote',\t'none',\t'RandomForest',\tTrue),\n",
    "      # ('mice',\t'none',\t'smote',\t'none',\t'RandomForest',\tTrue),\n",
    "\n",
    "      ('mice',\t'rfe',\t'rose', 'SVC_test'),\n",
    "      # ('knn',\t'rfe',\t'smote', 'XGB')\n",
    "\n",
    "      # ('mice',\t'lasso',\t'adasyn',\t'none',\t'RandomForest',\tTrue),\n",
    "      # ('mice',\t'rfe',\t'adasyn',\t'none',\t'RandomForest',\tTrue),\n",
    "      # ('mice',\t'none',\t'adasyn',\t'none',\t'RandomForest',\tTrue),\n",
    "      # ('mice',\t'boruta',\t'rose',\t'none',\t'RandomForest',\tTrue),\n",
    "      # ('mice',\t'lasso',\t'rose',\t'none',\t'RandomForest',\tTrue),\n",
    "      # ('mice',\t'rfe',\t'rose',\t'none',\t'RandomForest',\tTrue),\n",
    "      # ('mice',\t'none',\t'rose',\t'none',\t'RandomForest',\tTrue),\n",
    "      # ('mice',\t'boruta',\t'none',\t'none',\t'RandomForest',\tTrue),\n",
    "      # ('mice',\t'lasso',\t'none',\t'none',\t'RandomForest',\tTrue),\n",
    "      # ('mice',\t'rfe',\t'none',\t'none',\t'RandomForest',\tTrue),\n",
    "      # ('mice',\t'none',\t'none',\t'none',\t'RandomForest',\tTrue),\n",
    "  ]\n",
    "\n",
    "else:\n",
    "  test_combinations =[\n",
    "    (imp, fs, bal, model)\n",
    "    for imp in imputers\n",
    "    for fs in feature_selectors\n",
    "    for bal in balancers\n",
    "    for model in models\n",
    "  ]\n",
    "\n",
    "\n",
    "# Define the parameter grid for XGBoost\n",
    "param_grid = {\n",
    "    'max_depth': [4, 6, 8],\n",
    "    'learning_rate': [0.01, 0.05, 0.1],\n",
    "    'subsample': [0.6, 0.8],\n",
    "    'colsample_bytree': [0.6, 0.8],\n",
    "    'min_child_weight': [1, 3, 5]\n",
    "}\n",
    "\n",
    "\n",
    "\n",
    "# Replace the XGB model generator with tuned model\n",
    "best_xgb_params = grid_search.best_params_\n",
    "models['XGB'] = lambda: XGBClassifier(**best_xgb_params, use_label_encoder=False, random_state=42, n_jobs=-1)\n",
    "for imp_name, fs_name, bal_name, model_name in test_combinations:\n",
    "  # Fresh components for each fold\n",
    "  imputer = imputers[imp_name]()\n",
    "  selector = feature_selectors[fs_name]()\n",
    "  balancer = balancers[bal_name]()\n",
    "  model = models[model_name]()\n",
    "  apply_scaling = True\n",
    "  try:\n",
    "    # Define the pipeline name for logging\n",
    "    name = f\"{imp_name}_{fs_name}_{bal_name}_{model_name}_{apply_scaling}\"\n",
    "    print(f\"\\nTraining {name}...\")\n",
    "\n",
    "    start_time = time.time()\n",
    "\n",
    "    pipe = create_pipeline(imp_name, imputer, fs_name, selector,\n",
    "                           bal_name, balancer, model, apply_scaling)\n",
    "\n",
    "    # Cross-validation setup\n",
    "    cv = StratifiedKFold(n_splits=5, shuffle=True, random_state=42)\n",
    "\n",
    "    y_proba = cross_val_predict(pipe, X_train, y_train_arr, cv=cv, method='predict_proba', n_jobs=-1)[:, 1]\n",
    "\n",
    "    sns.histplot(y_proba[y_train_arr == 0], color='blue', label='Negative class', stat='density', bins=30)\n",
    "    sns.histplot(y_proba[y_train_arr == 1], color='red', label='Positive class', stat='density', bins=30)\n",
    "    plt.xlabel('Predicted Probability')\n",
    "    plt.title('Predicted Probabilities by Class')\n",
    "    plt.legend()\n",
    "    plt.show()\n",
    "\n",
    "    # Compute precision, recall, thresholds\n",
    "    precisions, recalls, thresholds = precision_recall_curve(y_train_arr, y_proba)\n",
    "\n",
    "    # Avoid division by zero\n",
    "    eps = 1e-10\n",
    "    f1_scores = 2 * (precisions * recalls) / (precisions + recalls + eps)\n",
    "    \n",
    "    beta2 = 2\n",
    "    f2_scores = (1 + beta2**2) * (precisions * recalls) / ((beta2**2 * precisions) + recalls + eps)\n",
    "\n",
    "    # Get the best threshold\n",
    "    best_idx = np.argmax(f1_scores)\n",
    "    best_threshold = thresholds[best_idx]\n",
    "    best_f1 = f1_scores[best_idx]\n",
    "    best_precision = precisions[best_idx]\n",
    "    best_recall = recalls[best_idx]\n",
    "\n",
    "    # Get the best F2 threshold\n",
    "    best_idx_f2 = np.argmax(f2_scores)\n",
    "    best_threshold_f2 = thresholds[best_idx_f2]\n",
    "    best_f2 = f2_scores[best_idx_f2]\n",
    "    best_precision_f2 = precisions[best_idx_f2]\n",
    "    best_recall_f2 = recalls[best_idx_f2]\n",
    "    \n",
    "    # ROC-AUC\n",
    "    roc_auc = roc_auc_score(y_train_arr, y_proba)\n",
    "    \n",
    "    # Visualize the P-R curve\n",
    "    plt.figure(figsize=(8, 5))\n",
    "    plt.plot(thresholds, precisions[:-1], label=f'Precision = {best_precision_f2:.3f}')\n",
    "    plt.plot(thresholds, recalls[:-1], label=f'Recall = {best_recall_f2:.3f}')\n",
    "    plt.plot(thresholds, f1_scores[:-1], label=f'F1 Score = {best_f1:.3f}', color='black')\n",
    "    plt.plot(thresholds, f2_scores[:-1], label=f'F2 Score = {best_f2:.3f}', color='green')\n",
    "    plt.axvline(best_threshold, linestyle='--', color='red', label=f'Best Threshold = {best_threshold:.3f}')\n",
    "    plt.axvline(best_threshold_f2, linestyle='--', color='green', label=f'Best F2 Threshold = {best_threshold_f2:.3f}')\n",
    "    plt.xlabel(\"Threshold\")\n",
    "    plt.ylabel(\"Score\")\n",
    "    plt.title(f\"Precision, Recall, and F1 vs. Threshold for {name}\")\n",
    "    plt.legend()\n",
    "    plt.grid(True)\n",
    "    save_fig(f\"{name}_pr_curve\")\n",
    "    plt.show()\n",
    "\n",
    "    # Plot ROC Curve\n",
    "    fpr, tpr, _ = roc_curve(y_train_arr, y_proba)\n",
    "    plt.figure(figsize=(6, 6))\n",
    "    plt.plot(fpr, tpr, label=f'(AUC = {roc_auc:.4f})', color='blue')\n",
    "    plt.plot([0, 1], [0, 1], linestyle='--', color='gray')\n",
    "    plt.xlabel(\"False Positive Rate\")\n",
    "    plt.ylabel(\"True Positive Rate\")\n",
    "    plt.title(f\"{name}: ROC Curve\")\n",
    "    plt.legend()\n",
    "    plt.grid(True)\n",
    "    save_fig(f\"{name}_roc_curve\")\n",
    "    plt.show()\n",
    "\n",
    "    # Confusion Matrix\n",
    "    y_pred = (y_proba >= best_threshold).astype(int)\n",
    "    cm = confusion_matrix(y_train_arr, y_pred)\n",
    "    disp = ConfusionMatrixDisplay(confusion_matrix=cm, display_labels=[\"Good Wafers\", \"Faulty Wafers\"])\n",
    "    disp.plot(cmap=plt.cm.Blues)\n",
    "    plt.title(f\"Confusion Matrix based on the f1 threshold for {name}\")\n",
    "    plt.grid(False)\n",
    "    save_fig(f\"{name}_confusion_matrix\")\n",
    "    plt.show()\n",
    "    \n",
    "    # Confusion Matrix based on F2 threshold\n",
    "    y_pred_f2 = (y_proba >= best_threshold_f2).astype(int)\n",
    "    cm2 = confusion_matrix(y_train_arr, y_pred_f2)\n",
    "    disp2 = ConfusionMatrixDisplay(confusion_matrix=cm2, display_labels=[\"Good Wafers\", \"Faulty Wafers\"])\n",
    "    disp2.plot(cmap=plt.cm.Blues)\n",
    "    plt.title(f\"Confusion Matrix based on the f2 threshold for {name}\")\n",
    "    plt.grid(False)\n",
    "    save_fig(f\"{name}_confusion_matrix_f2\")\n",
    "    plt.show()\n",
    "\n",
    "    # Hybrid approach to get feature counts\n",
    "    # feature_counts=[]\n",
    "    # for train_idx, val_idx in cv.split(X_train, y_train_arr):\n",
    "    #     X_tr, y_tr = X_train.iloc[train_idx], y_train_arr[train_idx]\n",
    "    #     print('\\n ----------------------------------------------------------------------------')\n",
    "    #     print(f\"Train Valid split done and finding the count of features selected by {fs_name}\")\n",
    "    # \n",
    "    #     # Use pipeline with \"none\" model for feature selection only\n",
    "    #     pipe = create_pipeline(imp_name, imputer, fs_name, selector,\n",
    "    #                        bal_name, balancer, models[\"none\"](), apply_scaling)\n",
    "    # \n",
    "    #     pipe.fit(X_tr, y_tr)\n",
    "    # \n",
    "    #     n_features = pipe.named_steps['select'].get_support().sum()\n",
    "    #     feature_counts.append(n_features)\n",
    "\n",
    "    # Measure execution time\n",
    "    execution_time = round(time.time() - start_time, 2)\n",
    "\n",
    "    results.append({\n",
    "      'Pipeline': name,\n",
    "      'Best_Threshold_F1': round(best_threshold, 4),\n",
    "      'F1': round(best_f1, 4),\n",
    "      'Precision': round(best_precision, 4),\n",
    "      'Recall': round(best_recall, 4),\n",
    "      'Best_Threshold_F2': round(best_threshold_f2, 4),\n",
    "      'F2': round(best_f2, 4),\n",
    "      'Precision_F2': round(best_precision_f2, 4),\n",
    "      'Recall_F2': round(best_recall_f2, 4),\n",
    "      'ROC_AUC': round(roc_auc, 4),\n",
    "      # 'Mean_of_Features_Selected': round(np.mean(feature_counts), 2),\n",
    "      # 'Std_of_Features_Selected': round(np.std(feature_counts), 2),\n",
    "      'Execution_Time_s': execution_time\n",
    "    })\n",
    "    log_results(results)\n",
    "\n",
    "\n",
    "  except Exception as e:\n",
    "    print(f\"Pipeline {name} failed: {e}\")"
   ]
  },
  {
   "cell_type": "code",
   "execution_count": null,
   "metadata": {
    "id": "gujjFbLC2CNG"
   },
   "outputs": [],
   "source": [
    "log_results(results)"
   ]
  },
  {
   "cell_type": "code",
   "execution_count": null,
   "metadata": {
    "id": "_WKZujYsVepk"
   },
   "outputs": [],
   "source": [
    "import optuna\n",
    "\n",
    "# Step 6: Optuna objective function for XGBoost\n",
    "def objective_xgboost(trial):\n",
    "    n_estimators = trial.suggest_int('n_estimators', 50, 300)\n",
    "    learning_rate = trial.suggest_float('learning_rate', 1e-4, 1e-1, log=True)\n",
    "    max_depth = trial.suggest_int('max_depth', 3, 10)\n",
    "\n",
    "    model_params = {\n",
    "        'n_estimators': n_estimators,\n",
    "        'learning_rate': learning_rate,\n",
    "        'max_depth': max_depth,\n",
    "        'eval_metric': 'logloss'\n",
    "    }\n",
    "\n",
    "    # Build pipeline with trial hyperparams\n",
    "    pipe = create_pipeline(\n",
    "        imp_name='knn',  # or other fixed/preferred\n",
    "        imputer=imputers['knn'](),\n",
    "        fs_name='boruta',\n",
    "        selector=feature_selectors['boruta'](),\n",
    "        bal_name='smote',\n",
    "        balancer=balancers['smote'](),\n",
    "        model=models[\"XGB_test\"](**model_params),\n",
    "        apply_scaling=True\n",
    "    )\n",
    "\n",
    "    # Cross-validate and compute mean F1\n",
    "    cv = StratifiedKFold(n_splits=5, shuffle=True, random_state=42)\n",
    "    y_proba = cross_val_predict(pipe, X_train, y_train_arr, cv=cv, method='predict_proba', n_jobs=-1)[:, 1]\n",
    "\n",
    "    precisions, recalls, thresholds = precision_recall_curve(y_train_arr, y_proba)\n",
    "    eps = 1e-10\n",
    "    f1_scores = 2 * (precisions * recalls) / (precisions + recalls + eps)\n",
    "    best_f1 = np.max(f1_scores)\n",
    "\n",
    "    return best_f1\n",
    "\n",
    "\n",
    "# Step 7: Run Optuna for XGBoost, log the best model only\n",
    "def run_optuna_and_evaluate():\n",
    "    study = optuna.create_study(direction=\"maximize\")\n",
    "    study.optimize(objective_xgboost, n_trials=30)\n",
    "\n",
    "    # Get the best parameters and log only the best model\n",
    "    best_params = study.best_params\n",
    "    print(\"Best hyperparameters:\", best_params)\n",
    "\n",
    "    final_model_params = {\n",
    "        'n_estimators': best_params['n_estimators'],\n",
    "        'learning_rate': best_params['learning_rate'],\n",
    "        'max_depth': best_params['max_depth'],\n",
    "        'eval_metric': 'logloss'\n",
    "    }\n",
    "\n",
    "    # Build final pipeline\n",
    "    final_pipe = create_pipeline(\n",
    "        imp_name='knn',\n",
    "        imputer=imputers['knn'](),\n",
    "        fs_name='boruta',\n",
    "        selector=feature_selectors['boruta'](),\n",
    "        bal_name='smote',\n",
    "        balancer=balancers['smote'](),\n",
    "        model=models['XGB_test'](**final_model_params),\n",
    "        apply_scaling=True\n",
    "    )\n",
    "\n",
    "    # Fit pipeline on full training set\n",
    "    final_pipe.fit(X_train, y_train_arr)\n",
    "\n",
    "    # Predict probabilities and evaluate\n",
    "    y_proba = final_pipe.predict_proba(X_train)[:, 1]\n",
    "\n",
    "    # Precision-recall curve and best threshold\n",
    "    precisions, recalls, thresholds = precision_recall_curve(y_train_arr, y_proba)\n",
    "    eps = 1e-10\n",
    "    f1_scores = 2 * (precisions * recalls) / (precisions + recalls + eps)\n",
    "    best_idx = np.argmax(f1_scores)\n",
    "    best_threshold = thresholds[best_idx]\n",
    "    best_f1 = f1_scores[best_idx]\n",
    "    best_precision = precisions[best_idx]\n",
    "    best_recall = recalls[best_idx]\n",
    "    roc_auc = roc_auc_score(y_train_arr, y_proba)\n",
    "\n",
    "    # Plot P-R curves and F1\n",
    "    # plt.figure(figsize=(8, 5))\n",
    "    # plt.plot(thresholds, precisions[:-1], label=f'Precision = {best_precision:.3f}')\n",
    "    # plt.plot(thresholds, recalls[:-1], label=f'Recall = {best_recall:.3f}')\n",
    "    # plt.plot(thresholds, f1_scores[:-1], label=f'F1 Score = {best_f1:.3f}', color='black')\n",
    "    # plt.axvline(best_threshold, linestyle='--', color='red', label=f'Best Threshold = {best_threshold:.3f}')\n",
    "    # plt.xlabel(\"Threshold\")\n",
    "    # plt.ylabel(\"Score\")\n",
    "    # plt.title(\"Precision, Recall, and F1 vs. Threshold (Final Model)\")\n",
    "    # plt.legend()\n",
    "    # plt.grid(True)\n",
    "    # plt.show()\n",
    "\n",
    "    # Plot ROC Curve\n",
    "    # fpr, tpr, _ = roc_curve(y_train_arr, y_proba)\n",
    "    # plt.figure(figsize=(6, 6))\n",
    "    # plt.plot(fpr, tpr, label=f'(AUC = {roc_auc:.4f})', color='blue')\n",
    "    # plt.plot([0, 1], [0, 1], linestyle='--', color='gray')\n",
    "    # plt.xlabel(\"False Positive Rate\")\n",
    "    # plt.ylabel(\"True Positive Rate\")\n",
    "    # plt.title(\"ROC Curve (Final Model)\")\n",
    "    # plt.legend()\n",
    "    # plt.grid(True)\n",
    "    # plt.show()\n",
    "\n",
    "    # Confusion Matrix\n",
    "    # y_pred = (y_proba >= best_threshold).astype(int)\n",
    "    # cm = confusion_matrix(y_train_arr, y_pred)\n",
    "    # disp = ConfusionMatrixDisplay(confusion_matrix=cm, display_labels=[\"Good Wafers\", \"Faulty Wafers\"])\n",
    "    # disp.plot(cmap=plt.cm.Blues)\n",
    "    # plt.title(\"Confusion Matrix (Final Model)\")\n",
    "    # plt.grid(False)\n",
    "    # plt.show()\n",
    "\n",
    "    return final_pipe\n",
    "\n",
    "    # Log the best model with MLflow, passing the algo_name as \"xgboost\"\n",
    "    # log_mlflow(\"XGBoost\", best_model, X_train, X_test, y_train, y_test)\n",
    "\n",
    "# Run the experiment for XGBoost\n"
   ]
  },
  {
   "cell_type": "code",
   "execution_count": 87,
   "metadata": {
    "ExecuteTime": {
     "end_time": "2025-07-09T22:05:48.758005Z",
     "start_time": "2025-07-09T22:05:48.709155Z"
    }
   },
   "outputs": [],
   "source": [
    "# Optuna objective function for SVC\n",
    "def objective_lr(trial):\n",
    "    # Modify the hyperparams below to appropriate ones for LogReg\n",
    "    C = trial.suggest_loguniform('C', 1e-2, 1e2)\n",
    "    gamma = trial.suggest_loguniform('gamma', 1e-4, 1e-1)\n",
    "    kernel = trial.suggest_categorical('kernel', ['rbf', 'poly', 'sigmoid'])\n",
    "    degree = trial.suggest_int('degree', 2, 5) if kernel == 'poly' else 3\n",
    "    \n",
    "    model_params = {\n",
    "        'C': C,\n",
    "        'gamma': gamma,\n",
    "        'kernel': kernel,\n",
    "        'degree': degree\n",
    "    }\n",
    "\n",
    "    # Build pipeline\n",
    "    # Manually put in the imp_name, fs_name etc that gave you the best F2 for LogReg\n",
    "    pipe = create_pipeline(\n",
    "        imp_name='mice',\n",
    "        imputer=imputers['mice'](),\n",
    "        fs_name='rfe',\n",
    "        selector=feature_selectors['rfe'](),\n",
    "        bal_name='rose',\n",
    "        balancer=balancers['rose'](),\n",
    "        model=models[\"LogReg_test\"](**model_params),\n",
    "        apply_scaling=True\n",
    "    )\n",
    "\n",
    "    # Cross-validate and compute mean F2\n",
    "    cv = StratifiedKFold(n_splits=5, shuffle=True, random_state=42)\n",
    "    y_proba = cross_val_predict(pipe, X_train, y_train_arr, cv=cv, method='predict_proba', n_jobs=-1)[:, 1]\n",
    "\n",
    "    precisions, recalls, thresholds = precision_recall_curve(y_train_arr, y_proba)\n",
    "    eps = 1e-10\n",
    "    \n",
    "    beta2 = 2\n",
    "    f2_scores = (1 + beta2**2) * (precisions * recalls) / ((beta2**2 * precisions) + recalls + eps)\n",
    "    best_f2 = np.max(f2_scores)\n",
    "\n",
    "    return best_f2\n",
    "\n",
    "\n",
    "# Run Optuna for SVC, log the best model only\n",
    "def run_optuna_and_evaluate():\n",
    "    study = optuna.create_study(direction=\"maximize\")\n",
    "    study.optimize(objective_lr, n_trials=30)\n",
    "\n",
    "    # Get the best parameters and log only the best model\n",
    "    best_params = study.best_params\n",
    "    print(\"Best hyperparameters:\", best_params)\n",
    "    \n",
    "    start_time = time.time()\n",
    "\n",
    "    # Build final pipeline\n",
    "    # Agin manually put in the imp_name, fs_name etc that gave you the best F2 for LogReg\n",
    "    final_pipe = create_pipeline(\n",
    "        imp_name='mice',\n",
    "        imputer=imputers['mice'](),\n",
    "        fs_name='rfe',\n",
    "        selector=feature_selectors['rfe'](),\n",
    "        bal_name='rose',\n",
    "        balancer=balancers['rose'](),\n",
    "        model=models[\"LogReg_test\"](**best_params),\n",
    "        apply_scaling=True\n",
    "    )\n",
    "    \n",
    "    # Change the name accordingly\n",
    "    name = \"mice_rfe_rose_LR_best_True\"\n",
    "\n",
    "    # Fit pipeline on full training set\n",
    "    final_pipe.fit(X_train, y_train_arr)\n",
    "\n",
    "    # Predict probabilities and evaluate\n",
    "    y_proba = final_pipe.predict_proba(X_train)[:, 1]\n",
    "    \n",
    "    # Compute precision, recall, thresholds\n",
    "    precisions, recalls, thresholds = precision_recall_curve(y_train_arr, y_proba)\n",
    "\n",
    "    # Avoid division by zero\n",
    "    eps = 1e-10\n",
    "    f1_scores = 2 * (precisions * recalls) / (precisions + recalls + eps)\n",
    "    \n",
    "    beta2 = 2\n",
    "    f2_scores = (1 + beta2**2) * (precisions * recalls) / ((beta2**2 * precisions) + recalls + eps)\n",
    "\n",
    "    # Get the best threshold\n",
    "    best_idx = np.argmax(f1_scores)\n",
    "    best_threshold = thresholds[best_idx]\n",
    "    best_f1 = f1_scores[best_idx]\n",
    "    best_precision = precisions[best_idx]\n",
    "    best_recall = recalls[best_idx]\n",
    "\n",
    "    # Get the best F2 threshold\n",
    "    best_idx_f2 = np.argmax(f2_scores)\n",
    "    best_threshold_f2 = thresholds[best_idx_f2]\n",
    "    best_f2 = f2_scores[best_idx_f2]\n",
    "    best_precision_f2 = precisions[best_idx_f2]\n",
    "    best_recall_f2 = recalls[best_idx_f2]\n",
    "    \n",
    "    # ROC-AUC\n",
    "    roc_auc = roc_auc_score(y_train_arr, y_proba)\n",
    "    \n",
    "    # Visualize the P-R curve\n",
    "    plt.figure(figsize=(8, 5))\n",
    "    plt.plot(thresholds, precisions[:-1], label=f'Precision = {best_precision_f2:.3f}')\n",
    "    plt.plot(thresholds, recalls[:-1], label=f'Recall = {best_recall_f2:.3f}')\n",
    "    plt.plot(thresholds, f1_scores[:-1], label=f'F1 Score = {best_f1:.3f}', color='black')\n",
    "    plt.plot(thresholds, f2_scores[:-1], label=f'F2 Score = {best_f2:.3f}', color='green')\n",
    "    plt.axvline(best_threshold, linestyle='--', color='red', label=f'Best Threshold = {best_threshold:.3f}')\n",
    "    plt.axvline(best_threshold_f2, linestyle='--', color='green', label=f'Best F2 Threshold = {best_threshold_f2:.3f}')\n",
    "    plt.xlabel(\"Threshold\")\n",
    "    plt.ylabel(\"Score\")\n",
    "    plt.title(f\"Precision, Recall, and F1 vs. Threshold for {name}\")\n",
    "    plt.legend()\n",
    "    plt.grid(True)\n",
    "    save_fig(f\"{name}_pr_curve_best\")\n",
    "    plt.show()\n",
    "\n",
    "    # Plot ROC Curve\n",
    "    fpr, tpr, _ = roc_curve(y_train_arr, y_proba)\n",
    "    plt.figure(figsize=(6, 6))\n",
    "    plt.plot(fpr, tpr, label=f'(AUC = {roc_auc:.4f})', color='blue')\n",
    "    plt.plot([0, 1], [0, 1], linestyle='--', color='gray')\n",
    "    plt.xlabel(\"False Positive Rate\")\n",
    "    plt.ylabel(\"True Positive Rate\")\n",
    "    plt.title(f\"{name}: ROC Curve\")\n",
    "    plt.legend()\n",
    "    plt.grid(True)\n",
    "    save_fig(f\"{name}_roc_curve_best\")\n",
    "    plt.show()\n",
    "\n",
    "    # Confusion Matrix based in F1 threshold\n",
    "    y_pred = (y_proba >= best_threshold).astype(int)\n",
    "    cm = confusion_matrix(y_train_arr, y_pred)\n",
    "    disp = ConfusionMatrixDisplay(confusion_matrix=cm, display_labels=[\"Good Wafers\", \"Faulty Wafers\"])\n",
    "    disp.plot(cmap=plt.cm.Blues)\n",
    "    plt.title(f\"Confusion Matrix based on the f1 threshold for {name}\")\n",
    "    plt.grid(False)\n",
    "    save_fig(f\"{name}_confusion_matrix_f1_best\")\n",
    "    plt.show()\n",
    "    \n",
    "    # Confusion Matrix based on F2 threshold\n",
    "    y_pred_f2 = (y_proba >= best_threshold_f2).astype(int)\n",
    "    cm2 = confusion_matrix(y_train_arr, y_pred_f2)\n",
    "    disp2 = ConfusionMatrixDisplay(confusion_matrix=cm2, display_labels=[\"Good Wafers\", \"Faulty Wafers\"])\n",
    "    disp2.plot(cmap=plt.cm.Blues)\n",
    "    plt.title(f\"Confusion Matrix based on the f2 threshold for {name}\")\n",
    "    plt.grid(False)\n",
    "    save_fig(f\"{name}_confusion_matrix_f2_best\")\n",
    "    plt.show()\n",
    "    \n",
    "    # Measure execution time\n",
    "    execution_time = round(time.time() - start_time, 2)\n",
    "\n",
    "    results.append({\n",
    "      'Pipeline': name,\n",
    "      'Best_Threshold_F1': round(best_threshold, 4),\n",
    "      'F1': round(best_f1, 4),\n",
    "      'Precision': round(best_precision, 4),\n",
    "      'Recall': round(best_recall, 4),\n",
    "      'Best_Threshold_F2': round(best_threshold_f2, 4),\n",
    "      'F2': round(best_f2, 4),\n",
    "      'Precision_F2': round(best_precision_f2, 4),\n",
    "      'Recall_F2': round(best_recall_f2, 4),\n",
    "      'ROC_AUC': round(roc_auc, 4),\n",
    "      'Execution_Time_s': execution_time\n",
    "    })\n",
    "    \n",
    "    log_results(results)\n",
    "\n",
    "    return final_pipe"
   ]
  },
  {
   "cell_type": "code",
   "execution_count": 86,
   "metadata": {
    "ExecuteTime": {
     "end_time": "2025-07-09T22:05:17.906246Z",
     "start_time": "2025-07-09T22:05:17.538319Z"
    }
   },
   "outputs": [
    {
     "name": "stderr",
     "output_type": "stream",
     "text": [
      "[I 2025-07-10 00:05:17,577] A new study created in memory with name: no-name-c11b87f2-6a61-4b69-86d9-634f35756f15\n",
      "/var/folders/cq/0fxss7jx4pdb14ytj0zbbywh0000gp/T/ipykernel_93829/1821988741.py:3: FutureWarning: suggest_loguniform has been deprecated in v3.0.0. This feature will be removed in v6.0.0. See https://github.com/optuna/optuna/releases/tag/v3.0.0. Use suggest_float(..., log=True) instead.\n",
      "  C = trial.suggest_loguniform('C', 1e-2, 1e2)\n",
      "/var/folders/cq/0fxss7jx4pdb14ytj0zbbywh0000gp/T/ipykernel_93829/1821988741.py:4: FutureWarning: suggest_loguniform has been deprecated in v3.0.0. This feature will be removed in v6.0.0. See https://github.com/optuna/optuna/releases/tag/v3.0.0. Use suggest_float(..., log=True) instead.\n",
      "  gamma = trial.suggest_loguniform('gamma', 1e-4, 1e-1)\n",
      "[W 2025-07-10 00:05:17,625] Trial 0 failed with parameters: {'C': 8.005056852055075, 'gamma': 0.0016746235293720229, 'kernel': 'rbf'} because of the following error: TypeError(\"SVC.__init__() got an unexpected keyword argument 'gamam'\").\n",
      "Traceback (most recent call last):\n",
      "  File \"/Users/aprajita/Desktop/Aprajita_SECOM/code/SECOM_DS2/.venv/lib/python3.11/site-packages/optuna/study/_optimize.py\", line 201, in _run_trial\n",
      "    value_or_values = func(trial)\n",
      "                      ^^^^^^^^^^^\n",
      "  File \"/var/folders/cq/0fxss7jx4pdb14ytj0zbbywh0000gp/T/ipykernel_93829/1821988741.py\", line 23, in objective_svc\n",
      "    model=models[\"SVC_test\"](**model_params),\n",
      "          ^^^^^^^^^^^^^^^^^^^^^^^^^^^^^^^^^^\n",
      "  File \"/var/folders/cq/0fxss7jx4pdb14ytj0zbbywh0000gp/T/ipykernel_93829/3331763516.py\", line 35, in <lambda>\n",
      "    \"SVC_test\": lambda **params: SVC(random_state=42, **params)\n",
      "                                 ^^^^^^^^^^^^^^^^^^^^^^^^^^^^^^\n",
      "TypeError: SVC.__init__() got an unexpected keyword argument 'gamam'\n",
      "[W 2025-07-10 00:05:17,630] Trial 0 failed with value None.\n"
     ]
    },
    {
     "ename": "TypeError",
     "evalue": "SVC.__init__() got an unexpected keyword argument 'gamam'",
     "output_type": "error",
     "traceback": [
      "\u001B[31m---------------------------------------------------------------------------\u001B[39m",
      "\u001B[31mTypeError\u001B[39m                                 Traceback (most recent call last)",
      "\u001B[36mCell\u001B[39m\u001B[36m \u001B[39m\u001B[32mIn[86]\u001B[39m\u001B[32m, line 1\u001B[39m\n\u001B[32m----> \u001B[39m\u001B[32m1\u001B[39m best_svc_pipe = \u001B[43mrun_optuna_and_evaluate\u001B[49m\u001B[43m(\u001B[49m\u001B[43m)\u001B[49m\n",
      "\u001B[36mCell\u001B[39m\u001B[36m \u001B[39m\u001B[32mIn[85]\u001B[39m\u001B[32m, line 44\u001B[39m, in \u001B[36mrun_optuna_and_evaluate\u001B[39m\u001B[34m()\u001B[39m\n\u001B[32m     42\u001B[39m \u001B[38;5;28;01mdef\u001B[39;00m\u001B[38;5;250m \u001B[39m\u001B[34mrun_optuna_and_evaluate\u001B[39m():\n\u001B[32m     43\u001B[39m     study = optuna.create_study(direction=\u001B[33m\"\u001B[39m\u001B[33mmaximize\u001B[39m\u001B[33m\"\u001B[39m)\n\u001B[32m---> \u001B[39m\u001B[32m44\u001B[39m     \u001B[43mstudy\u001B[49m\u001B[43m.\u001B[49m\u001B[43moptimize\u001B[49m\u001B[43m(\u001B[49m\u001B[43mobjective_svc\u001B[49m\u001B[43m,\u001B[49m\u001B[43m \u001B[49m\u001B[43mn_trials\u001B[49m\u001B[43m=\u001B[49m\u001B[32;43m30\u001B[39;49m\u001B[43m)\u001B[49m\n\u001B[32m     46\u001B[39m     \u001B[38;5;66;03m# Get the best parameters and log only the best model\u001B[39;00m\n\u001B[32m     47\u001B[39m     best_params = study.best_params\n",
      "\u001B[36mFile \u001B[39m\u001B[32m~/Desktop/Aprajita_SECOM/code/SECOM_DS2/.venv/lib/python3.11/site-packages/optuna/study/study.py:489\u001B[39m, in \u001B[36mStudy.optimize\u001B[39m\u001B[34m(self, func, n_trials, timeout, n_jobs, catch, callbacks, gc_after_trial, show_progress_bar)\u001B[39m\n\u001B[32m    387\u001B[39m \u001B[38;5;28;01mdef\u001B[39;00m\u001B[38;5;250m \u001B[39m\u001B[34moptimize\u001B[39m(\n\u001B[32m    388\u001B[39m     \u001B[38;5;28mself\u001B[39m,\n\u001B[32m    389\u001B[39m     func: ObjectiveFuncType,\n\u001B[32m   (...)\u001B[39m\u001B[32m    396\u001B[39m     show_progress_bar: \u001B[38;5;28mbool\u001B[39m = \u001B[38;5;28;01mFalse\u001B[39;00m,\n\u001B[32m    397\u001B[39m ) -> \u001B[38;5;28;01mNone\u001B[39;00m:\n\u001B[32m    398\u001B[39m \u001B[38;5;250m    \u001B[39m\u001B[33;03m\"\"\"Optimize an objective function.\u001B[39;00m\n\u001B[32m    399\u001B[39m \n\u001B[32m    400\u001B[39m \u001B[33;03m    Optimization is done by choosing a suitable set of hyperparameter values from a given\u001B[39;00m\n\u001B[32m   (...)\u001B[39m\u001B[32m    487\u001B[39m \u001B[33;03m            If nested invocation of this method occurs.\u001B[39;00m\n\u001B[32m    488\u001B[39m \u001B[33;03m    \"\"\"\u001B[39;00m\n\u001B[32m--> \u001B[39m\u001B[32m489\u001B[39m     \u001B[43m_optimize\u001B[49m\u001B[43m(\u001B[49m\n\u001B[32m    490\u001B[39m \u001B[43m        \u001B[49m\u001B[43mstudy\u001B[49m\u001B[43m=\u001B[49m\u001B[38;5;28;43mself\u001B[39;49m\u001B[43m,\u001B[49m\n\u001B[32m    491\u001B[39m \u001B[43m        \u001B[49m\u001B[43mfunc\u001B[49m\u001B[43m=\u001B[49m\u001B[43mfunc\u001B[49m\u001B[43m,\u001B[49m\n\u001B[32m    492\u001B[39m \u001B[43m        \u001B[49m\u001B[43mn_trials\u001B[49m\u001B[43m=\u001B[49m\u001B[43mn_trials\u001B[49m\u001B[43m,\u001B[49m\n\u001B[32m    493\u001B[39m \u001B[43m        \u001B[49m\u001B[43mtimeout\u001B[49m\u001B[43m=\u001B[49m\u001B[43mtimeout\u001B[49m\u001B[43m,\u001B[49m\n\u001B[32m    494\u001B[39m \u001B[43m        \u001B[49m\u001B[43mn_jobs\u001B[49m\u001B[43m=\u001B[49m\u001B[43mn_jobs\u001B[49m\u001B[43m,\u001B[49m\n\u001B[32m    495\u001B[39m \u001B[43m        \u001B[49m\u001B[43mcatch\u001B[49m\u001B[43m=\u001B[49m\u001B[38;5;28;43mtuple\u001B[39;49m\u001B[43m(\u001B[49m\u001B[43mcatch\u001B[49m\u001B[43m)\u001B[49m\u001B[43m \u001B[49m\u001B[38;5;28;43;01mif\u001B[39;49;00m\u001B[43m \u001B[49m\u001B[38;5;28;43misinstance\u001B[39;49m\u001B[43m(\u001B[49m\u001B[43mcatch\u001B[49m\u001B[43m,\u001B[49m\u001B[43m \u001B[49m\u001B[43mIterable\u001B[49m\u001B[43m)\u001B[49m\u001B[43m \u001B[49m\u001B[38;5;28;43;01melse\u001B[39;49;00m\u001B[43m \u001B[49m\u001B[43m(\u001B[49m\u001B[43mcatch\u001B[49m\u001B[43m,\u001B[49m\u001B[43m)\u001B[49m\u001B[43m,\u001B[49m\n\u001B[32m    496\u001B[39m \u001B[43m        \u001B[49m\u001B[43mcallbacks\u001B[49m\u001B[43m=\u001B[49m\u001B[43mcallbacks\u001B[49m\u001B[43m,\u001B[49m\n\u001B[32m    497\u001B[39m \u001B[43m        \u001B[49m\u001B[43mgc_after_trial\u001B[49m\u001B[43m=\u001B[49m\u001B[43mgc_after_trial\u001B[49m\u001B[43m,\u001B[49m\n\u001B[32m    498\u001B[39m \u001B[43m        \u001B[49m\u001B[43mshow_progress_bar\u001B[49m\u001B[43m=\u001B[49m\u001B[43mshow_progress_bar\u001B[49m\u001B[43m,\u001B[49m\n\u001B[32m    499\u001B[39m \u001B[43m    \u001B[49m\u001B[43m)\u001B[49m\n",
      "\u001B[36mFile \u001B[39m\u001B[32m~/Desktop/Aprajita_SECOM/code/SECOM_DS2/.venv/lib/python3.11/site-packages/optuna/study/_optimize.py:64\u001B[39m, in \u001B[36m_optimize\u001B[39m\u001B[34m(study, func, n_trials, timeout, n_jobs, catch, callbacks, gc_after_trial, show_progress_bar)\u001B[39m\n\u001B[32m     62\u001B[39m \u001B[38;5;28;01mtry\u001B[39;00m:\n\u001B[32m     63\u001B[39m     \u001B[38;5;28;01mif\u001B[39;00m n_jobs == \u001B[32m1\u001B[39m:\n\u001B[32m---> \u001B[39m\u001B[32m64\u001B[39m         \u001B[43m_optimize_sequential\u001B[49m\u001B[43m(\u001B[49m\n\u001B[32m     65\u001B[39m \u001B[43m            \u001B[49m\u001B[43mstudy\u001B[49m\u001B[43m,\u001B[49m\n\u001B[32m     66\u001B[39m \u001B[43m            \u001B[49m\u001B[43mfunc\u001B[49m\u001B[43m,\u001B[49m\n\u001B[32m     67\u001B[39m \u001B[43m            \u001B[49m\u001B[43mn_trials\u001B[49m\u001B[43m,\u001B[49m\n\u001B[32m     68\u001B[39m \u001B[43m            \u001B[49m\u001B[43mtimeout\u001B[49m\u001B[43m,\u001B[49m\n\u001B[32m     69\u001B[39m \u001B[43m            \u001B[49m\u001B[43mcatch\u001B[49m\u001B[43m,\u001B[49m\n\u001B[32m     70\u001B[39m \u001B[43m            \u001B[49m\u001B[43mcallbacks\u001B[49m\u001B[43m,\u001B[49m\n\u001B[32m     71\u001B[39m \u001B[43m            \u001B[49m\u001B[43mgc_after_trial\u001B[49m\u001B[43m,\u001B[49m\n\u001B[32m     72\u001B[39m \u001B[43m            \u001B[49m\u001B[43mreseed_sampler_rng\u001B[49m\u001B[43m=\u001B[49m\u001B[38;5;28;43;01mFalse\u001B[39;49;00m\u001B[43m,\u001B[49m\n\u001B[32m     73\u001B[39m \u001B[43m            \u001B[49m\u001B[43mtime_start\u001B[49m\u001B[43m=\u001B[49m\u001B[38;5;28;43;01mNone\u001B[39;49;00m\u001B[43m,\u001B[49m\n\u001B[32m     74\u001B[39m \u001B[43m            \u001B[49m\u001B[43mprogress_bar\u001B[49m\u001B[43m=\u001B[49m\u001B[43mprogress_bar\u001B[49m\u001B[43m,\u001B[49m\n\u001B[32m     75\u001B[39m \u001B[43m        \u001B[49m\u001B[43m)\u001B[49m\n\u001B[32m     76\u001B[39m     \u001B[38;5;28;01melse\u001B[39;00m:\n\u001B[32m     77\u001B[39m         \u001B[38;5;28;01mif\u001B[39;00m n_jobs == -\u001B[32m1\u001B[39m:\n",
      "\u001B[36mFile \u001B[39m\u001B[32m~/Desktop/Aprajita_SECOM/code/SECOM_DS2/.venv/lib/python3.11/site-packages/optuna/study/_optimize.py:161\u001B[39m, in \u001B[36m_optimize_sequential\u001B[39m\u001B[34m(study, func, n_trials, timeout, catch, callbacks, gc_after_trial, reseed_sampler_rng, time_start, progress_bar)\u001B[39m\n\u001B[32m    158\u001B[39m         \u001B[38;5;28;01mbreak\u001B[39;00m\n\u001B[32m    160\u001B[39m \u001B[38;5;28;01mtry\u001B[39;00m:\n\u001B[32m--> \u001B[39m\u001B[32m161\u001B[39m     frozen_trial = \u001B[43m_run_trial\u001B[49m\u001B[43m(\u001B[49m\u001B[43mstudy\u001B[49m\u001B[43m,\u001B[49m\u001B[43m \u001B[49m\u001B[43mfunc\u001B[49m\u001B[43m,\u001B[49m\u001B[43m \u001B[49m\u001B[43mcatch\u001B[49m\u001B[43m)\u001B[49m\n\u001B[32m    162\u001B[39m \u001B[38;5;28;01mfinally\u001B[39;00m:\n\u001B[32m    163\u001B[39m     \u001B[38;5;66;03m# The following line mitigates memory problems that can be occurred in some\u001B[39;00m\n\u001B[32m    164\u001B[39m     \u001B[38;5;66;03m# environments (e.g., services that use computing containers such as GitHub Actions).\u001B[39;00m\n\u001B[32m    165\u001B[39m     \u001B[38;5;66;03m# Please refer to the following PR for further details:\u001B[39;00m\n\u001B[32m    166\u001B[39m     \u001B[38;5;66;03m# https://github.com/optuna/optuna/pull/325.\u001B[39;00m\n\u001B[32m    167\u001B[39m     \u001B[38;5;28;01mif\u001B[39;00m gc_after_trial:\n",
      "\u001B[36mFile \u001B[39m\u001B[32m~/Desktop/Aprajita_SECOM/code/SECOM_DS2/.venv/lib/python3.11/site-packages/optuna/study/_optimize.py:253\u001B[39m, in \u001B[36m_run_trial\u001B[39m\u001B[34m(study, func, catch)\u001B[39m\n\u001B[32m    246\u001B[39m         \u001B[38;5;28;01massert\u001B[39;00m \u001B[38;5;28;01mFalse\u001B[39;00m, \u001B[33m\"\u001B[39m\u001B[33mShould not reach.\u001B[39m\u001B[33m\"\u001B[39m\n\u001B[32m    248\u001B[39m \u001B[38;5;28;01mif\u001B[39;00m (\n\u001B[32m    249\u001B[39m     frozen_trial.state == TrialState.FAIL\n\u001B[32m    250\u001B[39m     \u001B[38;5;129;01mand\u001B[39;00m func_err \u001B[38;5;129;01mis\u001B[39;00m \u001B[38;5;129;01mnot\u001B[39;00m \u001B[38;5;28;01mNone\u001B[39;00m\n\u001B[32m    251\u001B[39m     \u001B[38;5;129;01mand\u001B[39;00m \u001B[38;5;129;01mnot\u001B[39;00m \u001B[38;5;28misinstance\u001B[39m(func_err, catch)\n\u001B[32m    252\u001B[39m ):\n\u001B[32m--> \u001B[39m\u001B[32m253\u001B[39m     \u001B[38;5;28;01mraise\u001B[39;00m func_err\n\u001B[32m    254\u001B[39m \u001B[38;5;28;01mreturn\u001B[39;00m frozen_trial\n",
      "\u001B[36mFile \u001B[39m\u001B[32m~/Desktop/Aprajita_SECOM/code/SECOM_DS2/.venv/lib/python3.11/site-packages/optuna/study/_optimize.py:201\u001B[39m, in \u001B[36m_run_trial\u001B[39m\u001B[34m(study, func, catch)\u001B[39m\n\u001B[32m    199\u001B[39m \u001B[38;5;28;01mwith\u001B[39;00m get_heartbeat_thread(trial._trial_id, study._storage):\n\u001B[32m    200\u001B[39m     \u001B[38;5;28;01mtry\u001B[39;00m:\n\u001B[32m--> \u001B[39m\u001B[32m201\u001B[39m         value_or_values = \u001B[43mfunc\u001B[49m\u001B[43m(\u001B[49m\u001B[43mtrial\u001B[49m\u001B[43m)\u001B[49m\n\u001B[32m    202\u001B[39m     \u001B[38;5;28;01mexcept\u001B[39;00m exceptions.TrialPruned \u001B[38;5;28;01mas\u001B[39;00m e:\n\u001B[32m    203\u001B[39m         \u001B[38;5;66;03m# TODO(mamu): Handle multi-objective cases.\u001B[39;00m\n\u001B[32m    204\u001B[39m         state = TrialState.PRUNED\n",
      "\u001B[36mCell\u001B[39m\u001B[36m \u001B[39m\u001B[32mIn[85]\u001B[39m\u001B[32m, line 23\u001B[39m, in \u001B[36mobjective_svc\u001B[39m\u001B[34m(trial)\u001B[39m\n\u001B[32m      8\u001B[39m model_params = {\n\u001B[32m      9\u001B[39m     \u001B[33m'\u001B[39m\u001B[33mC\u001B[39m\u001B[33m'\u001B[39m: C,\n\u001B[32m     10\u001B[39m     \u001B[33m'\u001B[39m\u001B[33mgamam\u001B[39m\u001B[33m'\u001B[39m: gamma,\n\u001B[32m     11\u001B[39m     \u001B[33m'\u001B[39m\u001B[33mkernel\u001B[39m\u001B[33m'\u001B[39m: kernel,\n\u001B[32m     12\u001B[39m     \u001B[33m'\u001B[39m\u001B[33mdegree\u001B[39m\u001B[33m'\u001B[39m: degree\n\u001B[32m     13\u001B[39m }\n\u001B[32m     15\u001B[39m \u001B[38;5;66;03m# Build pipeline with trial hyperparams\u001B[39;00m\n\u001B[32m     16\u001B[39m pipe = create_pipeline(\n\u001B[32m     17\u001B[39m     imp_name=\u001B[33m'\u001B[39m\u001B[33mmice\u001B[39m\u001B[33m'\u001B[39m,\n\u001B[32m     18\u001B[39m     imputer=imputers[\u001B[33m'\u001B[39m\u001B[33mmice\u001B[39m\u001B[33m'\u001B[39m](),\n\u001B[32m     19\u001B[39m     fs_name=\u001B[33m'\u001B[39m\u001B[33mrfe\u001B[39m\u001B[33m'\u001B[39m,\n\u001B[32m     20\u001B[39m     selector=feature_selectors[\u001B[33m'\u001B[39m\u001B[33mrfe\u001B[39m\u001B[33m'\u001B[39m](),\n\u001B[32m     21\u001B[39m     bal_name=\u001B[33m'\u001B[39m\u001B[33mrose\u001B[39m\u001B[33m'\u001B[39m,\n\u001B[32m     22\u001B[39m     balancer=balancers[\u001B[33m'\u001B[39m\u001B[33mrose\u001B[39m\u001B[33m'\u001B[39m](),\n\u001B[32m---> \u001B[39m\u001B[32m23\u001B[39m     model=\u001B[43mmodels\u001B[49m\u001B[43m[\u001B[49m\u001B[33;43m\"\u001B[39;49m\u001B[33;43mSVC_test\u001B[39;49m\u001B[33;43m\"\u001B[39;49m\u001B[43m]\u001B[49m\u001B[43m(\u001B[49m\u001B[43m*\u001B[49m\u001B[43m*\u001B[49m\u001B[43mmodel_params\u001B[49m\u001B[43m)\u001B[49m,\n\u001B[32m     24\u001B[39m     apply_scaling=\u001B[38;5;28;01mTrue\u001B[39;00m\n\u001B[32m     25\u001B[39m )\n\u001B[32m     27\u001B[39m \u001B[38;5;66;03m# Cross-validate and compute mean F2\u001B[39;00m\n\u001B[32m     28\u001B[39m cv = StratifiedKFold(n_splits=\u001B[32m5\u001B[39m, shuffle=\u001B[38;5;28;01mTrue\u001B[39;00m, random_state=\u001B[32m42\u001B[39m)\n",
      "\u001B[36mCell\u001B[39m\u001B[36m \u001B[39m\u001B[32mIn[79]\u001B[39m\u001B[32m, line 35\u001B[39m, in \u001B[36m<lambda>\u001B[39m\u001B[34m(**params)\u001B[39m\n\u001B[32m     12\u001B[39m feature_selectors = {\n\u001B[32m     13\u001B[39m     \u001B[38;5;66;03m# \"none\": lambda: NoOperation(),\u001B[39;00m\n\u001B[32m     14\u001B[39m     \u001B[33m\"\u001B[39m\u001B[33mrfe\u001B[39m\u001B[33m\"\u001B[39m: \u001B[38;5;28;01mlambda\u001B[39;00m: FeatureSelector(method=\u001B[33m'\u001B[39m\u001B[33mrfe\u001B[39m\u001B[33m'\u001B[39m),\n\u001B[32m     15\u001B[39m     \u001B[33m\"\u001B[39m\u001B[33mlasso\u001B[39m\u001B[33m\"\u001B[39m: \u001B[38;5;28;01mlambda\u001B[39;00m: FeatureSelector(method=\u001B[33m'\u001B[39m\u001B[33mlasso\u001B[39m\u001B[33m'\u001B[39m),\n\u001B[32m     16\u001B[39m     \u001B[33m\"\u001B[39m\u001B[33mboruta\u001B[39m\u001B[33m\"\u001B[39m: \u001B[38;5;28;01mlambda\u001B[39;00m: FeatureSelector(method=\u001B[33m'\u001B[39m\u001B[33mboruta\u001B[39m\u001B[33m'\u001B[39m),\n\u001B[32m     17\u001B[39m }\n\u001B[32m     19\u001B[39m balancers = {\n\u001B[32m     20\u001B[39m     \u001B[38;5;66;03m# \"none\": lambda: NoOperation(),\u001B[39;00m\n\u001B[32m     21\u001B[39m     \u001B[33m\"\u001B[39m\u001B[33msmote\u001B[39m\u001B[33m\"\u001B[39m: \u001B[38;5;28;01mlambda\u001B[39;00m: SMOTE(random_state=\u001B[32m42\u001B[39m),\n\u001B[32m     22\u001B[39m     \u001B[33m\"\u001B[39m\u001B[33madasyn\u001B[39m\u001B[33m\"\u001B[39m: \u001B[38;5;28;01mlambda\u001B[39;00m: ADASYN(random_state=\u001B[32m42\u001B[39m),\n\u001B[32m     23\u001B[39m     \u001B[33m\"\u001B[39m\u001B[33mrose\u001B[39m\u001B[33m\"\u001B[39m: \u001B[38;5;28;01mlambda\u001B[39;00m: RandomOverSampler(random_state=\u001B[32m42\u001B[39m)\n\u001B[32m     24\u001B[39m }\n\u001B[32m     26\u001B[39m models = {\n\u001B[32m     27\u001B[39m     \u001B[38;5;66;03m#\"none\": lambda: NoOperation(),\u001B[39;00m\n\u001B[32m     28\u001B[39m     \u001B[38;5;66;03m# \"RandomForest\": lambda: RandomForestClassifier(n_estimators=300, max_depth=15, min_samples_leaf=5, random_state=42, n_jobs=-1),\u001B[39;00m\n\u001B[32m     29\u001B[39m     \u001B[38;5;66;03m# \"LogisticRegression\": lambda: LogisticRegression(max_iter=1000, random_state=42, n_jobs=-1),\u001B[39;00m\n\u001B[32m     30\u001B[39m     \u001B[38;5;66;03m# \"SVC\": lambda: SVC(probability=True, random_state=42), # try LinearSVC or use SVC with some kernel like rbf, rbf is default btw\u001B[39;00m\n\u001B[32m     31\u001B[39m     \u001B[38;5;66;03m# \"XGB\": lambda: XGBClassifier(\u001B[39;00m\n\u001B[32m     32\u001B[39m     \u001B[38;5;66;03m#     max_depth=6, n_estimators=300, subsample=0.8, colsample_bytree=0.8,\u001B[39;00m\n\u001B[32m     33\u001B[39m     \u001B[38;5;66;03m#     learning_rate=0.05, eval_metric='logloss', random_state=42, n_jobs=-1\u001B[39;00m\n\u001B[32m     34\u001B[39m     \u001B[38;5;66;03m#     ),\u001B[39;00m\n\u001B[32m---> \u001B[39m\u001B[32m35\u001B[39m     \u001B[33m\"\u001B[39m\u001B[33mSVC_test\u001B[39m\u001B[33m\"\u001B[39m: \u001B[38;5;28;01mlambda\u001B[39;00m **params: \u001B[43mSVC\u001B[49m\u001B[43m(\u001B[49m\u001B[43mrandom_state\u001B[49m\u001B[43m=\u001B[49m\u001B[32;43m42\u001B[39;49m\u001B[43m,\u001B[49m\u001B[43m \u001B[49m\u001B[43m*\u001B[49m\u001B[43m*\u001B[49m\u001B[43mparams\u001B[49m\u001B[43m)\u001B[49m\n\u001B[32m     36\u001B[39m     \u001B[38;5;66;03m# \"XGB_test\": lambda **params: XGBClassifier(random_state=42, **params),\u001B[39;00m\n\u001B[32m     37\u001B[39m     \u001B[38;5;66;03m# \"CalibratedRF\": lambda: CalibratedClassifierCV(\u001B[39;00m\n\u001B[32m     38\u001B[39m     \u001B[38;5;66;03m#     estimator=RandomForestClassifier(\u001B[39;00m\n\u001B[32m     39\u001B[39m     \u001B[38;5;66;03m#         n_estimators=300, max_depth=15,\u001B[39;00m\n\u001B[32m     40\u001B[39m     \u001B[38;5;66;03m#         min_samples_leaf=3, class_weight='balanced',\u001B[39;00m\n\u001B[32m     41\u001B[39m     \u001B[38;5;66;03m#         random_state=42, n_jobs=-1\u001B[39;00m\n\u001B[32m     42\u001B[39m     \u001B[38;5;66;03m#     ),\u001B[39;00m\n\u001B[32m     43\u001B[39m     \u001B[38;5;66;03m#     method='isotonic',\u001B[39;00m\n\u001B[32m     44\u001B[39m     \u001B[38;5;66;03m#     cv=3\u001B[39;00m\n\u001B[32m     45\u001B[39m     \u001B[38;5;66;03m#   )\u001B[39;00m\n\u001B[32m     46\u001B[39m }\n",
      "\u001B[31mTypeError\u001B[39m: SVC.__init__() got an unexpected keyword argument 'gamam'"
     ]
    }
   ],
   "source": "best_lr_pipe = run_optuna_and_evaluate()"
  },
  {
   "cell_type": "code",
   "execution_count": null,
   "metadata": {
    "id": "-DZlGAeBjK5n"
   },
   "outputs": [],
   "source": [
    "def evaluate_on_test(final_pipe, X_test, y_test_arr):\n",
    "    # Again put in the correct name\n",
    "    name = \"mice_rfe_rose_LR_best_True\"\n",
    "    \n",
    "    # Predict probabilities on test set\n",
    "    y_proba_test = final_pipe.predict_proba(X_test)[:, 1]\n",
    "\n",
    "    # Compute precision, recall, thresholds\n",
    "    precisions, recalls, thresholds = precision_recall_curve(y_test_arr, y_proba_test)\n",
    "\n",
    "    # Avoid division by zero\n",
    "    eps = 1e-10\n",
    "    f1_scores = 2 * (precisions * recalls) / (precisions + recalls + eps)\n",
    "    \n",
    "    beta2 = 2\n",
    "    f2_scores = (1 + beta2**2) * (precisions * recalls) / ((beta2**2 * precisions) + recalls + eps)\n",
    "\n",
    "    # Get the best threshold\n",
    "    best_idx = np.argmax(f1_scores)\n",
    "    best_threshold = thresholds[best_idx]\n",
    "    best_f1 = f1_scores[best_idx]\n",
    "    best_precision = precisions[best_idx]\n",
    "    best_recall = recalls[best_idx]\n",
    "\n",
    "    # Get the best F2 threshold\n",
    "    best_idx_f2 = np.argmax(f2_scores)\n",
    "    best_threshold_f2 = thresholds[best_idx_f2]\n",
    "    best_f2 = f2_scores[best_idx_f2]\n",
    "    best_precision_f2 = precisions[best_idx_f2]\n",
    "    best_recall_f2 = recalls[best_idx_f2]\n",
    "    \n",
    "    # ROC-AUC\n",
    "    roc_auc = roc_auc_score(y_train_arr, y_proba)\n",
    "    \n",
    "    # Visualize the P-R curve\n",
    "    plt.figure(figsize=(8, 5))\n",
    "    plt.plot(thresholds, precisions[:-1], label=f'Precision = {best_precision_f2:.3f}')\n",
    "    plt.plot(thresholds, recalls[:-1], label=f'Recall = {best_recall_f2:.3f}')\n",
    "    plt.plot(thresholds, f1_scores[:-1], label=f'F1 Score = {best_f1:.3f}', color='black')\n",
    "    plt.plot(thresholds, f2_scores[:-1], label=f'F2 Score = {best_f2:.3f}', color='green')\n",
    "    plt.axvline(best_threshold, linestyle='--', color='red', label=f'Best Threshold = {best_threshold:.3f}')\n",
    "    plt.axvline(best_threshold_f2, linestyle='--', color='green', label=f'Best F2 Threshold = {best_threshold_f2:.3f}')\n",
    "    plt.xlabel(\"Threshold\")\n",
    "    plt.ylabel(\"Score\")\n",
    "    plt.title(f\"Precision, Recall, and F1 vs. Threshold for {name} on test set\")\n",
    "    plt.legend()\n",
    "    plt.grid(True)\n",
    "    save_fig(f\"{name}_pr_curve_test\")\n",
    "    plt.show()\n",
    "\n",
    "    # Plot ROC Curve\n",
    "    fpr, tpr, _ = roc_curve(y_train_arr, y_proba)\n",
    "    plt.figure(figsize=(6, 6))\n",
    "    plt.plot(fpr, tpr, label=f'(AUC = {roc_auc:.4f})', color='blue')\n",
    "    plt.plot([0, 1], [0, 1], linestyle='--', color='gray')\n",
    "    plt.xlabel(\"False Positive Rate\")\n",
    "    plt.ylabel(\"True Positive Rate\")\n",
    "    plt.title(f\"{name}: ROC Curve on test set\")\n",
    "    plt.legend()\n",
    "    plt.grid(True)\n",
    "    save_fig(f\"{name}_roc_curve_test\")\n",
    "    plt.show()\n",
    "\n",
    "    # Confusion Matrix based in F1 threshold\n",
    "    y_pred = (y_proba >= best_threshold).astype(int)\n",
    "    cm = confusion_matrix(y_train_arr, y_pred)\n",
    "    disp = ConfusionMatrixDisplay(confusion_matrix=cm, display_labels=[\"Good Wafers\", \"Faulty Wafers\"])\n",
    "    disp.plot(cmap=plt.cm.Blues)\n",
    "    plt.title(f\"Confusion Matrix based on the f1 threshold for {name} on test set\")\n",
    "    plt.grid(False)\n",
    "    save_fig(f\"{name}_confusion_matrix_test\")\n",
    "    plt.show()\n",
    "    \n",
    "    # Confusion Matrix based on F2 threshold\n",
    "    y_pred_f2 = (y_proba >= best_threshold_f2).astype(int)\n",
    "    cm2 = confusion_matrix(y_train_arr, y_pred_f2)\n",
    "    disp2 = ConfusionMatrixDisplay(confusion_matrix=cm2, display_labels=[\"Good Wafers\", \"Faulty Wafers\"])\n",
    "    disp2.plot(cmap=plt.cm.Blues)\n",
    "    plt.title(f\"Confusion Matrix based on the f2 threshold for {name} on test set\")\n",
    "    plt.grid(False)\n",
    "    save_fig(f\"{name}_confusion_matrix_f2_test\")\n",
    "    plt.show()\n",
    "    \n",
    "    # Measure execution time\n",
    "    execution_time = round(time.time() - start_time, 2)\n",
    "\n",
    "    results.append({\n",
    "      'Pipeline': name,\n",
    "      'Best_Threshold_F1': round(best_threshold, 4),\n",
    "      'F1': round(best_f1, 4),\n",
    "      'Precision': round(best_precision, 4),\n",
    "      'Recall': round(best_recall, 4),\n",
    "      'Best_Threshold_F2': round(best_threshold_f2, 4),\n",
    "      'F2': round(best_f2, 4),\n",
    "      'Precision_F2': round(best_precision_f2, 4),\n",
    "      'Recall_F2': round(best_recall_f2, 4),\n",
    "      'ROC_AUC': round(roc_auc, 4),\n",
    "      'Execution_Time_s': execution_time\n",
    "    })\n",
    "    \n",
    "    log_results(results)\n",
    "\n",
    "    # Optionally, print key metrics\n",
    "    print(f\"Test set evaluation metrics:\\n\"\n",
    "          f\"F1 Score: {best_f1:.4f}\\n\"\n",
    "          f\"Precision: {best_precision:.4f}\\n\"\n",
    "          f\"Recall: {best_recall:.4f}\\n\"\n",
    "          f\"ROC-AUC: {roc_auc:.4f}\\n\"\n",
    "          f\"Best threshold for classification: {best_threshold:.4f}\")\n",
    "\n"
   ]
  },
  {
   "cell_type": "code",
   "execution_count": null,
   "metadata": {
    "colab": {
     "base_uri": "https://localhost:8080/",
     "height": 1000
    },
    "id": "aA1R6hOgkfK3",
    "outputId": "730f8071-bfe6-4a76-9643-97f804d58657"
   },
   "outputs": [
    {
     "data": {
      "image/png": "[encoded data removed]",
      "text/plain": [
       "<Figure size 800x500 with 1 Axes>"
      ]
     },
     "metadata": {},
     "output_type": "display_data"
    },
    {
     "data": {
      "image/png": "[encoded data removed]",
      "text/plain": [
       "<Figure size 600x600 with 1 Axes>"
      ]
     },
     "metadata": {},
     "output_type": "display_data"
    },
    {
     "data": {
      "image/png": "[encoded data removed]",
      "text/plain": [
       "<Figure size 640x480 with 2 Axes>"
      ]
     },
     "metadata": {},
     "output_type": "display_data"
    },
    {
     "name": "stdout",
     "output_type": "stream",
     "text": [
      "Test set evaluation metrics:\n",
      "F1 Score: 0.3429\n",
      "Precision: 0.2449\n",
      "Recall: 0.5714\n",
      "ROC-AUC: 0.6891\n",
      "Best threshold for classification: 0.1112\n"
     ]
    }
   ],
   "source": [
    "# Then call test evaluation\n",
    "y_test_arr = y_test.drop(columns='date_time').values\n",
    "evaluate_on_test(best_lr_pipe, X_test, y_test_arr)"
   ]
  },
  {
   "cell_type": "code",
   "execution_count": null,
   "metadata": {
    "colab": {
     "base_uri": "https://localhost:8080/",
     "height": 206
    },
    "id": "FInvlvldcDVC",
    "outputId": "c0e573ca-dd4f-4d6c-db39-9d1aed572d89"
   },
   "outputs": [
    {
     "data": {
      "application/vnd.google.colaboratory.intrinsic+json": {
       "repr_error": "0",
       "type": "dataframe",
       "variable_name": "y_test"
      },
      "text/html": [
       "\n",
       "  <div id=\"df-4f8f92b4-c8f8-4f56-ac00-7a1016928b0e\" class=\"colab-df-container\">\n",
       "    <div>\n",
       "<style scoped>\n",
       "    .dataframe tbody tr th:only-of-type {\n",
       "        vertical-align: middle;\n",
       "    }\n",
       "\n",
       "    .dataframe tbody tr th {\n",
       "        vertical-align: top;\n",
       "    }\n",
       "\n",
       "    .dataframe thead th {\n",
       "        text-align: right;\n",
       "    }\n",
       "</style>\n",
       "<table border=\"1\" class=\"dataframe\">\n",
       "  <thead>\n",
       "    <tr style=\"text-align: right;\">\n",
       "      <th></th>\n",
       "      <th>label</th>\n",
       "      <th>date_time</th>\n",
       "    </tr>\n",
       "  </thead>\n",
       "  <tbody>\n",
       "    <tr>\n",
       "      <th>246</th>\n",
       "      <td>0</td>\n",
       "      <td>18/08/2008 04:35:00</td>\n",
       "    </tr>\n",
       "    <tr>\n",
       "      <th>1315</th>\n",
       "      <td>0</td>\n",
       "      <td>05/10/2008 09:47:00</td>\n",
       "    </tr>\n",
       "    <tr>\n",
       "      <th>444</th>\n",
       "      <td>0</td>\n",
       "      <td>24/08/2008 07:12:00</td>\n",
       "    </tr>\n",
       "    <tr>\n",
       "      <th>296</th>\n",
       "      <td>0</td>\n",
       "      <td>19/08/2008 08:07:00</td>\n",
       "    </tr>\n",
       "    <tr>\n",
       "      <th>1295</th>\n",
       "      <td>0</td>\n",
       "      <td>04/10/2008 18:25:00</td>\n",
       "    </tr>\n",
       "  </tbody>\n",
       "</table>\n",
       "</div>\n",
       "    <div class=\"colab-df-buttons\">\n",
       "\n",
       "  <div class=\"colab-df-container\">\n",
       "    <button class=\"colab-df-convert\" onclick=\"convertToInteractive('df-4f8f92b4-c8f8-4f56-ac00-7a1016928b0e')\"\n",
       "            title=\"Convert this dataframe to an interactive table.\"\n",
       "            style=\"display:none;\">\n",
       "\n",
       "  <svg xmlns=\"http://www.w3.org/2000/svg\" height=\"24px\" viewBox=\"0 -960 960 960\">\n",
       "    <path d=\"M120-120v-720h720v720H120Zm60-500h600v-160H180v160Zm220 220h160v-160H400v160Zm0 220h160v-160H400v160ZM180-400h160v-160H180v160Zm440 0h160v-160H620v160ZM180-180h160v-160H180v160Zm440 0h160v-160H620v160Z\"/>\n",
       "  </svg>\n",
       "    </button>\n",
       "\n",
       "  <style>\n",
       "    .colab-df-container {\n",
       "      display:flex;\n",
       "      gap: 12px;\n",
       "    }\n",
       "\n",
       "    .colab-df-convert {\n",
       "      background-color: #E8F0FE;\n",
       "      border: none;\n",
       "      border-radius: 50%;\n",
       "      cursor: pointer;\n",
       "      display: none;\n",
       "      fill: #1967D2;\n",
       "      height: 32px;\n",
       "      padding: 0 0 0 0;\n",
       "      width: 32px;\n",
       "    }\n",
       "\n",
       "    .colab-df-convert:hover {\n",
       "      background-color: #E2EBFA;\n",
       "      box-shadow: 0px 1px 2px rgba(60, 64, 67, 0.3), 0px 1px 3px 1px rgba(60, 64, 67, 0.15);\n",
       "      fill: #174EA6;\n",
       "    }\n",
       "\n",
       "    .colab-df-buttons div {\n",
       "      margin-bottom: 4px;\n",
       "    }\n",
       "\n",
       "    [theme=dark] .colab-df-convert {\n",
       "      background-color: #3B4455;\n",
       "      fill: #D2E3FC;\n",
       "    }\n",
       "\n",
       "    [theme=dark] .colab-df-convert:hover {\n",
       "      background-color: #434B5C;\n",
       "      box-shadow: 0px 1px 3px 1px rgba(0, 0, 0, 0.15);\n",
       "      filter: drop-shadow(0px 1px 2px rgba(0, 0, 0, 0.3));\n",
       "      fill: #FFFFFF;\n",
       "    }\n",
       "  </style>\n",
       "\n",
       "    <script>\n",
       "      const buttonEl =\n",
       "        document.querySelector('#df-4f8f92b4-c8f8-4f56-ac00-7a1016928b0e button.colab-df-convert');\n",
       "      buttonEl.style.display =\n",
       "        google.colab.kernel.accessAllowed ? 'block' : 'none';\n",
       "\n",
       "      async function convertToInteractive(key) {\n",
       "        const element = document.querySelector('#df-4f8f92b4-c8f8-4f56-ac00-7a1016928b0e');\n",
       "        const dataTable =\n",
       "          await google.colab.kernel.invokeFunction('convertToInteractive',\n",
       "                                                    [key], {});\n",
       "        if (!dataTable) return;\n",
       "\n",
       "        const docLinkHtml = 'Like what you see? Visit the ' +\n",
       "          '<a target=\"_blank\" href=https://colab.research.google.com/notebooks/data_table.ipynb>data table notebook</a>'\n",
       "          + ' to learn more about interactive tables.';\n",
       "        element.innerHTML = '';\n",
       "        dataTable['output_type'] = 'display_data';\n",
       "        await google.colab.output.renderOutput(dataTable, element);\n",
       "        const docLink = document.createElement('div');\n",
       "        docLink.innerHTML = docLinkHtml;\n",
       "        element.appendChild(docLink);\n",
       "      }\n",
       "    </script>\n",
       "  </div>\n",
       "\n",
       "\n",
       "    <div id=\"df-e1fa092b-b1c1-43cc-88b2-59708bbcdfd6\">\n",
       "      <button class=\"colab-df-quickchart\" onclick=\"quickchart('df-e1fa092b-b1c1-43cc-88b2-59708bbcdfd6')\"\n",
       "                title=\"Suggest charts\"\n",
       "                style=\"display:none;\">\n",
       "\n",
       "<svg xmlns=\"http://www.w3.org/2000/svg\" height=\"24px\"viewBox=\"0 0 24 24\"\n",
       "     width=\"24px\">\n",
       "    <g>\n",
       "        <path d=\"M19 3H5c-1.1 0-2 .9-2 2v14c0 1.1.9 2 2 2h14c1.1 0 2-.9 2-2V5c0-1.1-.9-2-2-2zM9 17H7v-7h2v7zm4 0h-2V7h2v10zm4 0h-2v-4h2v4z\"/>\n",
       "    </g>\n",
       "</svg>\n",
       "      </button>\n",
       "\n",
       "<style>\n",
       "  .colab-df-quickchart {\n",
       "      --bg-color: #E8F0FE;\n",
       "      --fill-color: #1967D2;\n",
       "      --hover-bg-color: #E2EBFA;\n",
       "      --hover-fill-color: #174EA6;\n",
       "      --disabled-fill-color: #AAA;\n",
       "      --disabled-bg-color: #DDD;\n",
       "  }\n",
       "\n",
       "  [theme=dark] .colab-df-quickchart {\n",
       "      --bg-color: #3B4455;\n",
       "      --fill-color: #D2E3FC;\n",
       "      --hover-bg-color: #434B5C;\n",
       "      --hover-fill-color: #FFFFFF;\n",
       "      --disabled-bg-color: #3B4455;\n",
       "      --disabled-fill-color: #666;\n",
       "  }\n",
       "\n",
       "  .colab-df-quickchart {\n",
       "    background-color: var(--bg-color);\n",
       "    border: none;\n",
       "    border-radius: 50%;\n",
       "    cursor: pointer;\n",
       "    display: none;\n",
       "    fill: var(--fill-color);\n",
       "    height: 32px;\n",
       "    padding: 0;\n",
       "    width: 32px;\n",
       "  }\n",
       "\n",
       "  .colab-df-quickchart:hover {\n",
       "    background-color: var(--hover-bg-color);\n",
       "    box-shadow: 0 1px 2px rgba(60, 64, 67, 0.3), 0 1px 3px 1px rgba(60, 64, 67, 0.15);\n",
       "    fill: var(--button-hover-fill-color);\n",
       "  }\n",
       "\n",
       "  .colab-df-quickchart-complete:disabled,\n",
       "  .colab-df-quickchart-complete:disabled:hover {\n",
       "    background-color: var(--disabled-bg-color);\n",
       "    fill: var(--disabled-fill-color);\n",
       "    box-shadow: none;\n",
       "  }\n",
       "\n",
       "  .colab-df-spinner {\n",
       "    border: 2px solid var(--fill-color);\n",
       "    border-color: transparent;\n",
       "    border-bottom-color: var(--fill-color);\n",
       "    animation:\n",
       "      spin 1s steps(1) infinite;\n",
       "  }\n",
       "\n",
       "  @keyframes spin {\n",
       "    0% {\n",
       "      border-color: transparent;\n",
       "      border-bottom-color: var(--fill-color);\n",
       "      border-left-color: var(--fill-color);\n",
       "    }\n",
       "    20% {\n",
       "      border-color: transparent;\n",
       "      border-left-color: var(--fill-color);\n",
       "      border-top-color: var(--fill-color);\n",
       "    }\n",
       "    30% {\n",
       "      border-color: transparent;\n",
       "      border-left-color: var(--fill-color);\n",
       "      border-top-color: var(--fill-color);\n",
       "      border-right-color: var(--fill-color);\n",
       "    }\n",
       "    40% {\n",
       "      border-color: transparent;\n",
       "      border-right-color: var(--fill-color);\n",
       "      border-top-color: var(--fill-color);\n",
       "    }\n",
       "    60% {\n",
       "      border-color: transparent;\n",
       "      border-right-color: var(--fill-color);\n",
       "    }\n",
       "    80% {\n",
       "      border-color: transparent;\n",
       "      border-right-color: var(--fill-color);\n",
       "      border-bottom-color: var(--fill-color);\n",
       "    }\n",
       "    90% {\n",
       "      border-color: transparent;\n",
       "      border-bottom-color: var(--fill-color);\n",
       "    }\n",
       "  }\n",
       "</style>\n",
       "\n",
       "      <script>\n",
       "        async function quickchart(key) {\n",
       "          const quickchartButtonEl =\n",
       "            document.querySelector('#' + key + ' button');\n",
       "          quickchartButtonEl.disabled = true;  // To prevent multiple clicks.\n",
       "          quickchartButtonEl.classList.add('colab-df-spinner');\n",
       "          try {\n",
       "            const charts = await google.colab.kernel.invokeFunction(\n",
       "                'suggestCharts', [key], {});\n",
       "          } catch (error) {\n",
       "            console.error('Error during call to suggestCharts:', error);\n",
       "          }\n",
       "          quickchartButtonEl.classList.remove('colab-df-spinner');\n",
       "          quickchartButtonEl.classList.add('colab-df-quickchart-complete');\n",
       "        }\n",
       "        (() => {\n",
       "          let quickchartButtonEl =\n",
       "            document.querySelector('#df-e1fa092b-b1c1-43cc-88b2-59708bbcdfd6 button');\n",
       "          quickchartButtonEl.style.display =\n",
       "            google.colab.kernel.accessAllowed ? 'block' : 'none';\n",
       "        })();\n",
       "      </script>\n",
       "    </div>\n",
       "\n",
       "    </div>\n",
       "  </div>\n"
      ],
      "text/plain": [
       "      label            date_time\n",
       "246       0  18/08/2008 04:35:00\n",
       "1315      0  05/10/2008 09:47:00\n",
       "444       0  24/08/2008 07:12:00\n",
       "296       0  19/08/2008 08:07:00\n",
       "1295      0  04/10/2008 18:25:00"
      ]
     },
     "execution_count": 45,
     "metadata": {},
     "output_type": "execute_result"
    }
   ],
   "source": [
    "y_test.head()"
   ]
  },
  {
   "metadata": {},
   "cell_type": "markdown",
   "source": "## Ignore below"
  },
  {
   "cell_type": "code",
   "execution_count": null,
   "metadata": {
    "colab": {
     "base_uri": "https://localhost:8080/",
     "height": 472
    },
    "id": "SbB7rjecYWuW",
    "outputId": "855c6632-f067-46f5-d4d6-a280e4eb7a62"
   },
   "outputs": [
    {
     "data": {
      "image/png": "[encoded data removed]",
      "text/plain": [
       "<Figure size 640x480 with 2 Axes>"
      ]
     },
     "metadata": {},
     "output_type": "display_data"
    }
   ],
   "source": [
    "best_xgb = XGBClassifier(n_estimators=225, learning_rate=0.0021672201404243393, max_depth=10, random_state=42)\n",
    "#classification_report(y_test.drop(columns='date_time').values, model.fit(X_train, y_train_arr).predict(X_test))\n",
    "y_pred_test = best_xgb.fit(X_train, y_train_arr).predict(X_test)\n",
    "#y_test_arr = y_test.drop(columns='date_time').values\n",
    "cm = confusion_matrix(y_test_arr, y_pred_test)\n",
    "disp = ConfusionMatrixDisplay(confusion_matrix=cm, display_labels=[\"Good Wafers\", \"Faulty Wafers\"])\n",
    "disp.plot(cmap=plt.cm.Blues)\n",
    "plt.title(f\"Confusion Matrix for {name}\")\n",
    "plt.grid(False)\n",
    "plt.show()"
   ]
  },
  {
   "cell_type": "code",
   "execution_count": null,
   "metadata": {
    "id": "2jrXP-4dG1zq"
   },
   "outputs": [],
   "source": [
    "y_proba_test = final_pipe.predict_proba(X_test_boruta)[:, 1]\n",
    "best_threshold = 0.478\n",
    "y_pred_test = (y_proba_test >= best_threshold).astype(int)\n",
    "\n",
    "# STEP 6: Evaluate\n",
    "precision = precision_score(y_test, y_pred_test)\n",
    "recall = recall_score(y_test, y_pred_test)\n",
    "f1 = f1_score(y_test, y_pred_test)\n",
    "f2 = fbeta_score(y_test, y_pred_test, beta=2)\n",
    "roc_auc = roc_auc_score(y_test, y_proba_test)\n",
    "cm = confusion_matrix(y_test, y_pred_test)\n",
    "\n",
    "print(\"\\n📊 Final Evaluation on Unseen Test Set\")\n",
    "print(f\"Threshold: {best_threshold}\")\n",
    "print(f\"Precision: {precision:.3f}\")\n",
    "print(f\"Recall: {recall:.3f}\")\n",
    "print(f\"F1 Score: {f1:.3f}\")\n",
    "print(f\"F2 Score: {f2:.3f}\")\n",
    "print(f\"ROC AUC: {roc_auc:.3f}\")\n",
    "print(\"Confusion Matrix:\\n\", cm)\n",
    "\n",
    "# STEP 7: Visualize Confusion Matrix\n",
    "disp = ConfusionMatrixDisplay(cm, display_labels=[\"Good Wafers\", \"Faulty Wafers\"])\n",
    "disp.plot(cmap=plt.cm.Blues)\n",
    "plt.title(\"Confusion Matrix @ F2 Threshold (0.478)\")\n",
    "plt.grid(False)\n",
    "plt.tight_layout()\n",
    "plt.show()"
   ]
  }
 ],
 "metadata": {
  "accelerator": "TPU",
  "colab": {
   "gpuType": "V28",
   "machine_shape": "hm",
   "provenance": []
  },
  "kernelspec": {
   "display_name": "Python 3 (ipykernel)",
   "language": "python",
   "name": "python3"
  },
  "language_info": {
   "name": "python"
  }
 },
 "nbformat": 4,
 "nbformat_minor": 0
}
