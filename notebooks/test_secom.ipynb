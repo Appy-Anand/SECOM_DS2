{
 "cells": [
  {
   "cell_type": "code",
   "execution_count": 56,
   "id": "15fd0f36-587d-4289-abb2-d97f12d1b042",
   "metadata": {},
   "outputs": [],
   "source": [
    "import numpy as np\n",
    "import pandas as pd\n",
    "import matplotlib.pyplot as plt\n",
    "import seaborn as sns\n",
    "\n",
    "from sklearn.datasets import make_classification\n",
    "from sklearn.model_selection import train_test_split, StratifiedKFold, cross_validate\n",
    "from sklearn.impute import SimpleImputer, KNNImputer\n",
    "from sklearn.experimental import enable_iterative_imputer\n",
    "from sklearn.impute import IterativeImputer\n",
    "from sklearn.preprocessing import StandardScaler\n",
    "from sklearn.linear_model import LogisticRegression, Lasso\n",
    "from sklearn.feature_selection import RFE, SelectFromModel, mutual_info_classif\n",
    "from sklearn.ensemble import RandomForestClassifier\n",
    "from sklearn.svm import SVC\n",
    "from sklearn.base import BaseEstimator, TransformerMixin, clone\n",
    "from sklearn.metrics import make_scorer, f1_score, precision_score, recall_score\n",
    "\n",
    "from imblearn.over_sampling import SMOTE, ADASYN\n",
    "from imblearn.pipeline import Pipeline as ImbPipeline\n",
    "from boruta import BorutaPy\n",
    "\n",
    "import time\n",
    "\n",
    "import warnings\n",
    "from sklearn.exceptions import ConvergenceWarning\n",
    "\n",
    "warnings.filterwarnings(\"ignore\", category=ConvergenceWarning)"
   ]
  },
  {
   "cell_type": "code",
   "execution_count": 2,
   "id": "ff5025fa-f66b-4d6b-94c1-2496401c16c7",
   "metadata": {},
   "outputs": [
    {
     "data": {
      "text/html": [
       "<div>\n",
       "<style scoped>\n",
       "    .dataframe tbody tr th:only-of-type {\n",
       "        vertical-align: middle;\n",
       "    }\n",
       "\n",
       "    .dataframe tbody tr th {\n",
       "        vertical-align: top;\n",
       "    }\n",
       "\n",
       "    .dataframe thead th {\n",
       "        text-align: right;\n",
       "    }\n",
       "</style>\n",
       "<table border=\"1\" class=\"dataframe\">\n",
       "  <thead>\n",
       "    <tr style=\"text-align: right;\">\n",
       "      <th></th>\n",
       "      <th>feature1</th>\n",
       "      <th>feature2</th>\n",
       "      <th>feature3</th>\n",
       "      <th>feature4</th>\n",
       "      <th>feature5</th>\n",
       "      <th>feature6</th>\n",
       "      <th>feature7</th>\n",
       "      <th>feature8</th>\n",
       "      <th>feature9</th>\n",
       "      <th>feature10</th>\n",
       "      <th>...</th>\n",
       "      <th>feature581</th>\n",
       "      <th>feature582</th>\n",
       "      <th>feature583</th>\n",
       "      <th>feature584</th>\n",
       "      <th>feature585</th>\n",
       "      <th>feature586</th>\n",
       "      <th>feature587</th>\n",
       "      <th>feature588</th>\n",
       "      <th>feature589</th>\n",
       "      <th>feature590</th>\n",
       "    </tr>\n",
       "  </thead>\n",
       "  <tbody>\n",
       "    <tr>\n",
       "      <th>0</th>\n",
       "      <td>3030.93</td>\n",
       "      <td>2564.00</td>\n",
       "      <td>2187.7333</td>\n",
       "      <td>1411.1265</td>\n",
       "      <td>1.3602</td>\n",
       "      <td>100.0</td>\n",
       "      <td>97.6133</td>\n",
       "      <td>0.1242</td>\n",
       "      <td>1.5005</td>\n",
       "      <td>0.0162</td>\n",
       "      <td>...</td>\n",
       "      <td>NaN</td>\n",
       "      <td>NaN</td>\n",
       "      <td>0.5005</td>\n",
       "      <td>0.0118</td>\n",
       "      <td>0.0035</td>\n",
       "      <td>2.3630</td>\n",
       "      <td>NaN</td>\n",
       "      <td>NaN</td>\n",
       "      <td>NaN</td>\n",
       "      <td>NaN</td>\n",
       "    </tr>\n",
       "    <tr>\n",
       "      <th>1</th>\n",
       "      <td>3095.78</td>\n",
       "      <td>2465.14</td>\n",
       "      <td>2230.4222</td>\n",
       "      <td>1463.6606</td>\n",
       "      <td>0.8294</td>\n",
       "      <td>100.0</td>\n",
       "      <td>102.3433</td>\n",
       "      <td>0.1247</td>\n",
       "      <td>1.4966</td>\n",
       "      <td>-0.0005</td>\n",
       "      <td>...</td>\n",
       "      <td>0.0060</td>\n",
       "      <td>208.2045</td>\n",
       "      <td>0.5019</td>\n",
       "      <td>0.0223</td>\n",
       "      <td>0.0055</td>\n",
       "      <td>4.4447</td>\n",
       "      <td>0.0096</td>\n",
       "      <td>0.0201</td>\n",
       "      <td>0.0060</td>\n",
       "      <td>208.2045</td>\n",
       "    </tr>\n",
       "    <tr>\n",
       "      <th>2</th>\n",
       "      <td>2932.61</td>\n",
       "      <td>2559.94</td>\n",
       "      <td>2186.4111</td>\n",
       "      <td>1698.0172</td>\n",
       "      <td>1.5102</td>\n",
       "      <td>100.0</td>\n",
       "      <td>95.4878</td>\n",
       "      <td>0.1241</td>\n",
       "      <td>1.4436</td>\n",
       "      <td>0.0041</td>\n",
       "      <td>...</td>\n",
       "      <td>0.0148</td>\n",
       "      <td>82.8602</td>\n",
       "      <td>0.4958</td>\n",
       "      <td>0.0157</td>\n",
       "      <td>0.0039</td>\n",
       "      <td>3.1745</td>\n",
       "      <td>0.0584</td>\n",
       "      <td>0.0484</td>\n",
       "      <td>0.0148</td>\n",
       "      <td>82.8602</td>\n",
       "    </tr>\n",
       "    <tr>\n",
       "      <th>3</th>\n",
       "      <td>2988.72</td>\n",
       "      <td>2479.90</td>\n",
       "      <td>2199.0333</td>\n",
       "      <td>909.7926</td>\n",
       "      <td>1.3204</td>\n",
       "      <td>100.0</td>\n",
       "      <td>104.2367</td>\n",
       "      <td>0.1217</td>\n",
       "      <td>1.4882</td>\n",
       "      <td>-0.0124</td>\n",
       "      <td>...</td>\n",
       "      <td>0.0044</td>\n",
       "      <td>73.8432</td>\n",
       "      <td>0.4990</td>\n",
       "      <td>0.0103</td>\n",
       "      <td>0.0025</td>\n",
       "      <td>2.0544</td>\n",
       "      <td>0.0202</td>\n",
       "      <td>0.0149</td>\n",
       "      <td>0.0044</td>\n",
       "      <td>73.8432</td>\n",
       "    </tr>\n",
       "    <tr>\n",
       "      <th>4</th>\n",
       "      <td>3032.24</td>\n",
       "      <td>2502.87</td>\n",
       "      <td>2233.3667</td>\n",
       "      <td>1326.5200</td>\n",
       "      <td>1.5334</td>\n",
       "      <td>100.0</td>\n",
       "      <td>100.3967</td>\n",
       "      <td>0.1235</td>\n",
       "      <td>1.5031</td>\n",
       "      <td>-0.0031</td>\n",
       "      <td>...</td>\n",
       "      <td>NaN</td>\n",
       "      <td>NaN</td>\n",
       "      <td>0.4800</td>\n",
       "      <td>0.4766</td>\n",
       "      <td>0.1045</td>\n",
       "      <td>99.3032</td>\n",
       "      <td>0.0202</td>\n",
       "      <td>0.0149</td>\n",
       "      <td>0.0044</td>\n",
       "      <td>73.8432</td>\n",
       "    </tr>\n",
       "  </tbody>\n",
       "</table>\n",
       "<p>5 rows × 590 columns</p>\n",
       "</div>"
      ],
      "text/plain": [
       "   feature1  feature2   feature3   feature4  feature5  feature6  feature7  \\\n",
       "0   3030.93   2564.00  2187.7333  1411.1265    1.3602     100.0   97.6133   \n",
       "1   3095.78   2465.14  2230.4222  1463.6606    0.8294     100.0  102.3433   \n",
       "2   2932.61   2559.94  2186.4111  1698.0172    1.5102     100.0   95.4878   \n",
       "3   2988.72   2479.90  2199.0333   909.7926    1.3204     100.0  104.2367   \n",
       "4   3032.24   2502.87  2233.3667  1326.5200    1.5334     100.0  100.3967   \n",
       "\n",
       "   feature8  feature9  feature10  ...  feature581  feature582  feature583  \\\n",
       "0    0.1242    1.5005     0.0162  ...         NaN         NaN      0.5005   \n",
       "1    0.1247    1.4966    -0.0005  ...      0.0060    208.2045      0.5019   \n",
       "2    0.1241    1.4436     0.0041  ...      0.0148     82.8602      0.4958   \n",
       "3    0.1217    1.4882    -0.0124  ...      0.0044     73.8432      0.4990   \n",
       "4    0.1235    1.5031    -0.0031  ...         NaN         NaN      0.4800   \n",
       "\n",
       "   feature584  feature585  feature586  feature587  feature588  feature589  \\\n",
       "0      0.0118      0.0035      2.3630         NaN         NaN         NaN   \n",
       "1      0.0223      0.0055      4.4447      0.0096      0.0201      0.0060   \n",
       "2      0.0157      0.0039      3.1745      0.0584      0.0484      0.0148   \n",
       "3      0.0103      0.0025      2.0544      0.0202      0.0149      0.0044   \n",
       "4      0.4766      0.1045     99.3032      0.0202      0.0149      0.0044   \n",
       "\n",
       "   feature590  \n",
       "0         NaN  \n",
       "1    208.2045  \n",
       "2     82.8602  \n",
       "3     73.8432  \n",
       "4     73.8432  \n",
       "\n",
       "[5 rows x 590 columns]"
      ]
     },
     "execution_count": 2,
     "metadata": {},
     "output_type": "execute_result"
    }
   ],
   "source": [
    "X = pd.read_csv('secom/secom.data', sep=' ', header=None)\n",
    "feature_names = [f'feature{i+1}' for i in range(X.shape[1])]\n",
    "X.columns = feature_names\n",
    "X.head()"
   ]
  },
  {
   "cell_type": "code",
   "execution_count": 3,
   "id": "a7e37dae-2867-40f4-8366-215e51d13b82",
   "metadata": {},
   "outputs": [
    {
     "data": {
      "text/html": [
       "<div>\n",
       "<style scoped>\n",
       "    .dataframe tbody tr th:only-of-type {\n",
       "        vertical-align: middle;\n",
       "    }\n",
       "\n",
       "    .dataframe tbody tr th {\n",
       "        vertical-align: top;\n",
       "    }\n",
       "\n",
       "    .dataframe thead th {\n",
       "        text-align: right;\n",
       "    }\n",
       "</style>\n",
       "<table border=\"1\" class=\"dataframe\">\n",
       "  <thead>\n",
       "    <tr style=\"text-align: right;\">\n",
       "      <th></th>\n",
       "      <th>label</th>\n",
       "      <th>date_time</th>\n",
       "    </tr>\n",
       "  </thead>\n",
       "  <tbody>\n",
       "    <tr>\n",
       "      <th>0</th>\n",
       "      <td>-1</td>\n",
       "      <td>19/07/2008 11:55:00</td>\n",
       "    </tr>\n",
       "    <tr>\n",
       "      <th>1</th>\n",
       "      <td>-1</td>\n",
       "      <td>19/07/2008 12:32:00</td>\n",
       "    </tr>\n",
       "    <tr>\n",
       "      <th>2</th>\n",
       "      <td>1</td>\n",
       "      <td>19/07/2008 13:17:00</td>\n",
       "    </tr>\n",
       "    <tr>\n",
       "      <th>3</th>\n",
       "      <td>-1</td>\n",
       "      <td>19/07/2008 14:43:00</td>\n",
       "    </tr>\n",
       "    <tr>\n",
       "      <th>4</th>\n",
       "      <td>-1</td>\n",
       "      <td>19/07/2008 15:22:00</td>\n",
       "    </tr>\n",
       "  </tbody>\n",
       "</table>\n",
       "</div>"
      ],
      "text/plain": [
       "   label            date_time\n",
       "0     -1  19/07/2008 11:55:00\n",
       "1     -1  19/07/2008 12:32:00\n",
       "2      1  19/07/2008 13:17:00\n",
       "3     -1  19/07/2008 14:43:00\n",
       "4     -1  19/07/2008 15:22:00"
      ]
     },
     "execution_count": 3,
     "metadata": {},
     "output_type": "execute_result"
    }
   ],
   "source": [
    "y = pd.read_csv('secom/secom_labels.data', sep=' ', header=None)\n",
    "label_columns = ['label', 'date_time']\n",
    "y.columns = label_columns\n",
    "y.head()"
   ]
  },
  {
   "cell_type": "code",
   "execution_count": 4,
   "id": "b766095c-e177-4728-b903-e7c33a0cd9da",
   "metadata": {},
   "outputs": [],
   "source": [
    "# Split the data into training and testing sets (75% train, 25% test)\n",
    "X_train, X_test, y_train, y_test = train_test_split(\n",
    "    X, y,\n",
    "    test_size=0.25,\n",
    "    random_state=42,\n",
    "    stratify=y['label']\n",
    ")"
   ]
  },
  {
   "cell_type": "code",
   "execution_count": 5,
   "id": "e5497697-467d-46be-af1a-819641997b48",
   "metadata": {},
   "outputs": [
    {
     "name": "stdout",
     "output_type": "stream",
     "text": [
      "Training set size: 1175, Test set size: 392\n"
     ]
    }
   ],
   "source": [
    "# Check the sizes of the resulting datasets\n",
    "print(f\"Training set size: {X_train.shape[0]}, Test set size: {X_test.shape[0]}\")"
   ]
  },
  {
   "cell_type": "code",
   "execution_count": 6,
   "id": "e65d5d4d-0782-47f3-8942-d6c4255f366c",
   "metadata": {},
   "outputs": [
    {
     "name": "stdout",
     "output_type": "stream",
     "text": [
      "Original label distribution: \n",
      "label\n",
      "-1    0.933631\n",
      " 1    0.066369\n",
      "Name: proportion, dtype: float64\n",
      "\n",
      "Training label distribution: \n",
      "label\n",
      "-1    0.933617\n",
      " 1    0.066383\n",
      "Name: proportion, dtype: float64\n",
      "\n",
      "Test label distribution: \n",
      "label\n",
      "-1    0.933673\n",
      " 1    0.066327\n",
      "Name: proportion, dtype: float64\n"
     ]
    }
   ],
   "source": [
    "# Checking Class Distributions after splitting the data\n",
    "print('Original label distribution: ')\n",
    "print(y['label'].value_counts(normalize=True))\n",
    "\n",
    "print('\\nTraining label distribution: ')\n",
    "print(y_train['label'].value_counts(normalize=True))\n",
    "\n",
    "print('\\nTest label distribution: ')\n",
    "print(y_test['label'].value_counts(normalize=True))"
   ]
  },
  {
   "cell_type": "code",
   "execution_count": 7,
   "id": "168d1f70-88e6-45e2-b24b-f0baf9efc5d4",
   "metadata": {},
   "outputs": [
    {
     "data": {
      "image/png": "[encoded data removed]",
      "text/plain": [
       "<Figure size 1500x1000 with 6 Axes>"
      ]
     },
     "metadata": {},
     "output_type": "display_data"
    }
   ],
   "source": [
    "# Descriptive Analysis on the Test Set\n",
    "X_train.sample(5, axis=1).hist(bins=30, figsize=(15, 10))\n",
    "plt.suptitle('Histogram of 5 random features in the train set')\n",
    "plt.show()"
   ]
  },
  {
   "cell_type": "code",
   "execution_count": 8,
   "id": "a9a1ad9e-134f-4aac-b75e-afef1022eefd",
   "metadata": {},
   "outputs": [
    {
     "name": "stdout",
     "output_type": "stream",
     "text": [
      "Number of duplicated rows in X_train: 0\n"
     ]
    }
   ],
   "source": [
    "# Checking for duplicate rows\n",
    "duplicates = X_train.duplicated()\n",
    "\n",
    "# Count the number of duplicates\n",
    "no_of_duplicates = duplicates.sum()\n",
    "print(f'Number of duplicated rows in X_train: {no_of_duplicates}')"
   ]
  },
  {
   "cell_type": "code",
   "execution_count": 9,
   "id": "61200807-813f-48e6-b6d3-23603754ea12",
   "metadata": {},
   "outputs": [
    {
     "data": {
      "image/png": "[encoded data removed]",
      "text/plain": [
       "<Figure size 1000x600 with 1 Axes>"
      ]
     },
     "metadata": {},
     "output_type": "display_data"
    }
   ],
   "source": [
    "# Distribution of Null Values across features\n",
    "missing_percent_per_feature = (X_train.isnull().sum() / len(X_train)) * 100\n",
    "\n",
    "plt.figure(figsize=(10,6))\n",
    "sns.histplot(missing_percent_per_feature, bins=30, kde=False, color='salmon')\n",
    "plt.title('Distribution of Null Value (%) Across Features')\n",
    "plt.xlabel('Percent of Missing Values')\n",
    "plt.ylabel('Number of Features')\n",
    "plt.tight_layout()\n",
    "plt.show()\n",
    "\n",
    "features_with_high_null_values = missing_percent_per_feature[\n",
    "    missing_percent_per_feature >= 44.5].index.tolist()"
   ]
  },
  {
   "cell_type": "code",
   "execution_count": 10,
   "id": "9690685f-940c-4e7b-a14a-b45f8c2e1a78",
   "metadata": {},
   "outputs": [
    {
     "name": "stdout",
     "output_type": "stream",
     "text": [
      "Number of features with a high proportion of null values: 32\n",
      "High proportion of null value features: ['feature73', 'feature74', 'feature86', 'feature110', 'feature111', 'feature112', 'feature113', 'feature158', 'feature159', 'feature221', 'feature245', 'feature246', 'feature247', 'feature248', 'feature293', 'feature294', 'feature346', 'feature347', 'feature359', 'feature383', 'feature384', 'feature385', 'feature386', 'feature493', 'feature517', 'feature518', 'feature519', 'feature520', 'feature579', 'feature580', 'feature581', 'feature582']\n"
     ]
    }
   ],
   "source": [
    "print(f\"Number of features with a high proportion of null values: {len(features_with_high_null_values)}\")\n",
    "print(\"High proportion of null value features:\", features_with_high_null_values)"
   ]
  },
  {
   "cell_type": "code",
   "execution_count": 11,
   "id": "4ac1b83c-7852-47a4-a460-79cbc5faf273",
   "metadata": {},
   "outputs": [
    {
     "name": "stdout",
     "output_type": "stream",
     "text": [
      "Number of zero-variance features: 116\n",
      "Zero-variance features: ['feature6', 'feature14', 'feature43', 'feature50', 'feature53', 'feature70', 'feature98', 'feature142', 'feature150', 'feature179', 'feature180', 'feature187', 'feature190', 'feature191', 'feature192', 'feature193', 'feature194', 'feature195', 'feature227', 'feature230', 'feature231', 'feature232', 'feature233', 'feature234', 'feature235', 'feature236', 'feature237', 'feature238', 'feature241', 'feature242', 'feature243', 'feature244', 'feature257', 'feature258', 'feature259', 'feature260', 'feature261', 'feature262', 'feature263', 'feature264', 'feature265', 'feature266', 'feature267', 'feature277', 'feature285', 'feature314', 'feature315', 'feature316', 'feature323', 'feature326', 'feature327', 'feature328', 'feature329', 'feature330', 'feature331', 'feature365', 'feature370', 'feature371', 'feature372', 'feature373', 'feature374', 'feature375', 'feature376', 'feature379', 'feature380', 'feature381', 'feature382', 'feature395', 'feature396', 'feature397', 'feature398', 'feature399', 'feature400', 'feature401', 'feature402', 'feature403', 'feature404', 'feature405', 'feature415', 'feature423', 'feature450', 'feature451', 'feature452', 'feature459', 'feature462', 'feature463', 'feature464', 'feature465', 'feature466', 'feature467', 'feature482', 'feature499', 'feature502', 'feature503', 'feature504', 'feature505', 'feature506', 'feature507', 'feature508', 'feature509', 'feature510', 'feature513', 'feature514', 'feature515', 'feature516', 'feature529', 'feature530', 'feature531', 'feature532', 'feature533', 'feature534', 'feature535', 'feature536', 'feature537', 'feature538', 'feature539']\n"
     ]
    }
   ],
   "source": [
    "# Finding features with no volatility (i.e. std dev = 0)\n",
    "zero_std_dev_cols = X_train.loc[:, X_train.std() == 0].columns\n",
    "zero_std_dev_cols = list(zero_std_dev_cols)\n",
    "print(f\"Number of zero-variance features: {len(zero_std_dev_cols)}\")\n",
    "print(\"Zero-variance features:\", zero_std_dev_cols)"
   ]
  },
  {
   "cell_type": "code",
   "execution_count": 12,
   "id": "85f43460-78fd-416c-aba6-e1db6b63921b",
   "metadata": {},
   "outputs": [
    {
     "name": "stdout",
     "output_type": "stream",
     "text": [
      "148\n"
     ]
    }
   ],
   "source": [
    "# Combining the list of features that have a high percent of missing values and features that have 0 volatility to eventually drop\n",
    "features_to_drop = features_with_high_null_values + zero_std_dev_cols\n",
    "print(len(features_to_drop))"
   ]
  },
  {
   "cell_type": "code",
   "execution_count": 13,
   "id": "64d93322-fb4b-4426-9815-adae0a799969",
   "metadata": {},
   "outputs": [
    {
     "name": "stdout",
     "output_type": "stream",
     "text": [
      "Remaining features after drop: 442 features.\n"
     ]
    }
   ],
   "source": [
    "# Drop the identified features from train set for now\n",
    "X_train_cleaned = X_train.drop(columns=features_to_drop)\n",
    "# X_test_cleaned = X_test.drop(columns=features_to_drop)\n",
    "\n",
    "print(f\"Remaining features after drop: {X_train_cleaned.shape[1]} features.\")"
   ]
  },
  {
   "cell_type": "code",
   "execution_count": 14,
   "id": "3e7076a0-e500-4fcf-8fc0-7929edffa5b2",
   "metadata": {},
   "outputs": [],
   "source": [
    "y_train_arr = y_train.drop(columns='date_time')\n",
    "y_train_arr = y_train_arr.to_numpy().ravel()"
   ]
  },
  {
   "cell_type": "code",
   "execution_count": 15,
   "id": "6c6401a5-a606-49cf-9701-88e5efe5ee6e",
   "metadata": {},
   "outputs": [
    {
     "data": {
      "text/plain": [
       "(1175,)"
      ]
     },
     "execution_count": 15,
     "metadata": {},
     "output_type": "execute_result"
    }
   ],
   "source": [
    "y_train_arr.shape"
   ]
  },
  {
   "cell_type": "code",
   "execution_count": 16,
   "id": "0e2ac069-c58d-4d21-b1f9-652f850a1382",
   "metadata": {},
   "outputs": [
    {
     "data": {
      "text/plain": [
       "pandas.core.frame.DataFrame"
      ]
     },
     "execution_count": 16,
     "metadata": {},
     "output_type": "execute_result"
    }
   ],
   "source": [
    "type(X_train_cleaned)"
   ]
  },
  {
   "cell_type": "code",
   "execution_count": 57,
   "id": "cbb6c0df-680b-4e55-8342-e110757611dc",
   "metadata": {},
   "outputs": [],
   "source": [
    "# Correlation Filter\n",
    "class CorrelationFilter(BaseEstimator, TransformerMixin):\n",
    "    def __init__(self, threshold=0.8):\n",
    "        self.threshold = threshold\n",
    "        self.to_drop_ = []\n",
    "\n",
    "    def fit(self, X, y):\n",
    "        # print(\"[CorrelationFilter] fit called.\")\n",
    "        df = pd.DataFrame(X)\n",
    "        corr_matrix = df.corr().abs()\n",
    "        upper = corr_matrix.where(np.triu(np.ones(corr_matrix.shape), k=1).astype(bool))\n",
    "\n",
    "        # Compute mutual information with target\n",
    "        mi_scores = mutual_info_classif(df, y)\n",
    "        mi_series = pd.Series(mi_scores, index=df.columns)\n",
    "\n",
    "        to_drop = set()\n",
    "        for i in range(len(upper.columns)):\n",
    "            col = upper[i]\n",
    "            for j in range(i):\n",
    "                row = upper.index[j]\n",
    "                if upper.iloc[j, i] > self.threshold:\n",
    "                    # Compare MI and drop the lower one\n",
    "                    if mi_series[col] < mi_series[row]:\n",
    "                        to_drop.add(col)\n",
    "                    else:\n",
    "                        to_drop.add(row)\n",
    "        \n",
    "        self.to_drop_ = list(to_drop)\n",
    "        return self\n",
    "\n",
    "    def transform(self, X):\n",
    "        # print(\"[CorrelationFilter] transform called.\")\n",
    "        df = pd.DataFrame(X)\n",
    "        return df.drop(columns=self.to_drop_, errors='ignore').to_numpy()"
   ]
  },
  {
   "cell_type": "code",
   "execution_count": 40,
   "id": "b45069e5-bf45-4b68-bfbd-4a9f49f47316",
   "metadata": {},
   "outputs": [],
   "source": [
    "# Feature Selectors\n",
    "class FeatureSelector(BaseEstimator, TransformerMixin):\n",
    "    def __init__(self, method='rfe', estimator=None, n_features_to_select=25, n_estimators=100, max_iter=100):\n",
    "        self.method = method\n",
    "        self.estimator = estimator\n",
    "        self.n_features_to_select = n_features_to_select\n",
    "        self.n_estimators = n_estimators\n",
    "        self.max_iter = max_iter\n",
    "\n",
    "    def fit(self, X, y):\n",
    "        # print(\"[FeatureSelector] fit called.\")\n",
    "        X = np.array(X)\n",
    "        \n",
    "        if self.method == 'rfe':\n",
    "            if self.estimator is None:\n",
    "                raise ValueError(\"An estimator must be provided for RFE.\")\n",
    "            self.selector_ = RFE(estimator=clone(self.estimator), n_features_to_select=self.n_features_to_select)\n",
    "        elif self.method == 'lasso':\n",
    "            self.selector_ = SelectFromModel(Lasso(alpha=0.01, random_state=42))\n",
    "        elif self.method == 'boruta':\n",
    "            # Using BorutaPy for feature selection\n",
    "            if self.estimator is None:\n",
    "                self.estimator = RandomForestClassifier(n_jobs=-1, class_weight='balanced', max_depth=5)\n",
    "            self.selector_ = BorutaPy(estimator=self.estimator,\n",
    "                                  n_estimators=self.n_estimators,\n",
    "                                  max_iter=self.max_iter,\n",
    "                                  random_state=42)\n",
    "        else:\n",
    "            raise ValueError(\"Unsupported method. Use 'rfe', 'lasso' or 'boruta'.\")\n",
    "            \n",
    "        self.selector_.fit(X, y)\n",
    "        # print(\"[FeatureSelector] fit complete.\")\n",
    "        return self\n",
    "\n",
    "    def transform(self, X):\n",
    "        # print(\"[FeatureSelector] transform called.\")\n",
    "        if not hasattr(self, 'selector_'):\n",
    "            raise RuntimeError(\"You must fit the transformer before calling transform.\")\n",
    "        return self.selector_.transform(np.array(X))\n",
    "\n",
    "    def get_support(self):\n",
    "        if not hasattr(self, 'selector_'):\n",
    "            raise RuntimeError(\"fit() must be called before get_support().\")\n",
    "\n",
    "        # For Boruta, useing support_ attribute directly\n",
    "        if self.method == 'boruta':\n",
    "            return self.selector_.support_\n",
    "\n",
    "        # For RFE and Lasso, using get_support() method\n",
    "        return self.selector_.get_support()"
   ]
  },
  {
   "cell_type": "code",
   "execution_count": 42,
   "id": "dcea7c57-4161-4d8f-8ca7-ca086f42c063",
   "metadata": {},
   "outputs": [],
   "source": [
    "# Define pipeline components\n",
    "imputers = {\n",
    "    \"median\": SimpleImputer(strategy=\"median\"),\n",
    "    \"knn\": KNNImputer(n_neighbors=5),\n",
    "    \"mice\": IterativeImputer(random_state=42)\n",
    "}\n",
    "\n",
    "feature_selectors = {\n",
    "    \"rfe\": FeatureSelector(method='rfe', estimator=LogisticRegression(max_iter=1000), n_features_to_select=25),\n",
    "    \"lasso\": FeatureSelector(method='lasso'),\n",
    "    \"boruta\": FeatureSelector(method='boruta', estimator=None, n_estimators=100, max_iter=100)\n",
    "}\n",
    "\n",
    "balancers = {\n",
    "    \"SMOTE\": SMOTE(random_state=42, n_jobs=-1),\n",
    "    \"ADASYN\": ADASYN(random_state=42, n_jobs=-1)\n",
    "}\n",
    "\n",
    "models = {\n",
    "    \"RandomForest\": RandomForestClassifier(random_state=42, n_jobs=-1),\n",
    "    \"LogisticRegression\": LogisticRegression(max_iter=1000, random_state=42, n_jobs=-1),\n",
    "    \"SVC\": SVC(probability=True, random_state=42)\n",
    "}\n",
    "\n",
    "scoring = {\n",
    "    'f1': make_scorer(f1_score, pos_label=1),\n",
    "    'precision': make_scorer(precision_score, pos_label=1),\n",
    "    'recall': make_scorer(recall_score, pos_label=1)\n",
    "}"
   ]
  },
  {
   "cell_type": "code",
   "execution_count": 62,
   "id": "6079da80-17cb-4962-90af-30a6b750da11",
   "metadata": {},
   "outputs": [
    {
     "name": "stdout",
     "output_type": "stream",
     "text": [
      "\n",
      "Training median_rfe_SMOTE_RandomForest...\n"
     ]
    },
    {
     "name": "stderr",
     "output_type": "stream",
     "text": [
      "C:\\Users\\MadhavKoodanaMadhu\\Documents\\MPMD\\Sem2\\Adv_Data_Analytics\\project\\venv\\lib\\site-packages\\imblearn\\over_sampling\\_smote\\base.py:370: FutureWarning: The parameter `n_jobs` has been deprecated in 0.10 and will be removed in 0.12. You can pass an nearest neighbors estimator where `n_jobs` is already set instead.\n",
      "  warnings.warn(\n",
      "C:\\Users\\MadhavKoodanaMadhu\\Documents\\MPMD\\Sem2\\Adv_Data_Analytics\\project\\venv\\lib\\site-packages\\imblearn\\over_sampling\\_smote\\base.py:370: FutureWarning: The parameter `n_jobs` has been deprecated in 0.10 and will be removed in 0.12. You can pass an nearest neighbors estimator where `n_jobs` is already set instead.\n",
      "  warnings.warn(\n",
      "C:\\Users\\MadhavKoodanaMadhu\\Documents\\MPMD\\Sem2\\Adv_Data_Analytics\\project\\venv\\lib\\site-packages\\imblearn\\over_sampling\\_smote\\base.py:370: FutureWarning: The parameter `n_jobs` has been deprecated in 0.10 and will be removed in 0.12. You can pass an nearest neighbors estimator where `n_jobs` is already set instead.\n",
      "  warnings.warn(\n",
      "C:\\Users\\MadhavKoodanaMadhu\\Documents\\MPMD\\Sem2\\Adv_Data_Analytics\\project\\venv\\lib\\site-packages\\imblearn\\over_sampling\\_smote\\base.py:370: FutureWarning: The parameter `n_jobs` has been deprecated in 0.10 and will be removed in 0.12. You can pass an nearest neighbors estimator where `n_jobs` is already set instead.\n",
      "  warnings.warn(\n",
      "C:\\Users\\MadhavKoodanaMadhu\\Documents\\MPMD\\Sem2\\Adv_Data_Analytics\\project\\venv\\lib\\site-packages\\imblearn\\over_sampling\\_smote\\base.py:370: FutureWarning: The parameter `n_jobs` has been deprecated in 0.10 and will be removed in 0.12. You can pass an nearest neighbors estimator where `n_jobs` is already set instead.\n",
      "  warnings.warn(\n",
      "C:\\Users\\MadhavKoodanaMadhu\\Documents\\MPMD\\Sem2\\Adv_Data_Analytics\\project\\venv\\lib\\site-packages\\imblearn\\over_sampling\\_smote\\base.py:370: FutureWarning: The parameter `n_jobs` has been deprecated in 0.10 and will be removed in 0.12. You can pass an nearest neighbors estimator where `n_jobs` is already set instead.\n",
      "  warnings.warn(\n"
     ]
    },
    {
     "name": "stdout",
     "output_type": "stream",
     "text": [
      "\n",
      "Training median_rfe_SMOTE_LogisticRegression...\n"
     ]
    },
    {
     "name": "stderr",
     "output_type": "stream",
     "text": [
      "C:\\Users\\MadhavKoodanaMadhu\\Documents\\MPMD\\Sem2\\Adv_Data_Analytics\\project\\venv\\lib\\site-packages\\imblearn\\over_sampling\\_smote\\base.py:370: FutureWarning: The parameter `n_jobs` has been deprecated in 0.10 and will be removed in 0.12. You can pass an nearest neighbors estimator where `n_jobs` is already set instead.\n",
      "  warnings.warn(\n",
      "C:\\Users\\MadhavKoodanaMadhu\\Documents\\MPMD\\Sem2\\Adv_Data_Analytics\\project\\venv\\lib\\site-packages\\imblearn\\over_sampling\\_smote\\base.py:370: FutureWarning: The parameter `n_jobs` has been deprecated in 0.10 and will be removed in 0.12. You can pass an nearest neighbors estimator where `n_jobs` is already set instead.\n",
      "  warnings.warn(\n",
      "C:\\Users\\MadhavKoodanaMadhu\\Documents\\MPMD\\Sem2\\Adv_Data_Analytics\\project\\venv\\lib\\site-packages\\imblearn\\over_sampling\\_smote\\base.py:370: FutureWarning: The parameter `n_jobs` has been deprecated in 0.10 and will be removed in 0.12. You can pass an nearest neighbors estimator where `n_jobs` is already set instead.\n",
      "  warnings.warn(\n",
      "C:\\Users\\MadhavKoodanaMadhu\\Documents\\MPMD\\Sem2\\Adv_Data_Analytics\\project\\venv\\lib\\site-packages\\imblearn\\over_sampling\\_smote\\base.py:370: FutureWarning: The parameter `n_jobs` has been deprecated in 0.10 and will be removed in 0.12. You can pass an nearest neighbors estimator where `n_jobs` is already set instead.\n",
      "  warnings.warn(\n",
      "C:\\Users\\MadhavKoodanaMadhu\\Documents\\MPMD\\Sem2\\Adv_Data_Analytics\\project\\venv\\lib\\site-packages\\imblearn\\over_sampling\\_smote\\base.py:370: FutureWarning: The parameter `n_jobs` has been deprecated in 0.10 and will be removed in 0.12. You can pass an nearest neighbors estimator where `n_jobs` is already set instead.\n",
      "  warnings.warn(\n",
      "C:\\Users\\MadhavKoodanaMadhu\\Documents\\MPMD\\Sem2\\Adv_Data_Analytics\\project\\venv\\lib\\site-packages\\imblearn\\over_sampling\\_smote\\base.py:370: FutureWarning: The parameter `n_jobs` has been deprecated in 0.10 and will be removed in 0.12. You can pass an nearest neighbors estimator where `n_jobs` is already set instead.\n",
      "  warnings.warn(\n"
     ]
    },
    {
     "name": "stdout",
     "output_type": "stream",
     "text": [
      "\n",
      "Training median_rfe_SMOTE_SVC...\n"
     ]
    },
    {
     "name": "stderr",
     "output_type": "stream",
     "text": [
      "C:\\Users\\MadhavKoodanaMadhu\\Documents\\MPMD\\Sem2\\Adv_Data_Analytics\\project\\venv\\lib\\site-packages\\imblearn\\over_sampling\\_smote\\base.py:370: FutureWarning: The parameter `n_jobs` has been deprecated in 0.10 and will be removed in 0.12. You can pass an nearest neighbors estimator where `n_jobs` is already set instead.\n",
      "  warnings.warn(\n",
      "C:\\Users\\MadhavKoodanaMadhu\\Documents\\MPMD\\Sem2\\Adv_Data_Analytics\\project\\venv\\lib\\site-packages\\imblearn\\over_sampling\\_smote\\base.py:370: FutureWarning: The parameter `n_jobs` has been deprecated in 0.10 and will be removed in 0.12. You can pass an nearest neighbors estimator where `n_jobs` is already set instead.\n",
      "  warnings.warn(\n",
      "C:\\Users\\MadhavKoodanaMadhu\\Documents\\MPMD\\Sem2\\Adv_Data_Analytics\\project\\venv\\lib\\site-packages\\imblearn\\over_sampling\\_smote\\base.py:370: FutureWarning: The parameter `n_jobs` has been deprecated in 0.10 and will be removed in 0.12. You can pass an nearest neighbors estimator where `n_jobs` is already set instead.\n",
      "  warnings.warn(\n",
      "C:\\Users\\MadhavKoodanaMadhu\\Documents\\MPMD\\Sem2\\Adv_Data_Analytics\\project\\venv\\lib\\site-packages\\imblearn\\over_sampling\\_smote\\base.py:370: FutureWarning: The parameter `n_jobs` has been deprecated in 0.10 and will be removed in 0.12. You can pass an nearest neighbors estimator where `n_jobs` is already set instead.\n",
      "  warnings.warn(\n",
      "C:\\Users\\MadhavKoodanaMadhu\\Documents\\MPMD\\Sem2\\Adv_Data_Analytics\\project\\venv\\lib\\site-packages\\imblearn\\over_sampling\\_smote\\base.py:370: FutureWarning: The parameter `n_jobs` has been deprecated in 0.10 and will be removed in 0.12. You can pass an nearest neighbors estimator where `n_jobs` is already set instead.\n",
      "  warnings.warn(\n",
      "C:\\Users\\MadhavKoodanaMadhu\\Documents\\MPMD\\Sem2\\Adv_Data_Analytics\\project\\venv\\lib\\site-packages\\imblearn\\over_sampling\\_smote\\base.py:370: FutureWarning: The parameter `n_jobs` has been deprecated in 0.10 and will be removed in 0.12. You can pass an nearest neighbors estimator where `n_jobs` is already set instead.\n",
      "  warnings.warn(\n"
     ]
    },
    {
     "name": "stdout",
     "output_type": "stream",
     "text": [
      "\n",
      "Training median_rfe_ADASYN_RandomForest...\n"
     ]
    },
    {
     "name": "stderr",
     "output_type": "stream",
     "text": [
      "C:\\Users\\MadhavKoodanaMadhu\\Documents\\MPMD\\Sem2\\Adv_Data_Analytics\\project\\venv\\lib\\site-packages\\imblearn\\over_sampling\\_adasyn.py:156: FutureWarning: The parameter `n_jobs` has been deprecated in 0.10 and will be removed in 0.12. You can pass an nearest neighbors estimator where `n_jobs` is already set instead.\n",
      "  warnings.warn(\n",
      "C:\\Users\\MadhavKoodanaMadhu\\Documents\\MPMD\\Sem2\\Adv_Data_Analytics\\project\\venv\\lib\\site-packages\\imblearn\\over_sampling\\_adasyn.py:156: FutureWarning: The parameter `n_jobs` has been deprecated in 0.10 and will be removed in 0.12. You can pass an nearest neighbors estimator where `n_jobs` is already set instead.\n",
      "  warnings.warn(\n",
      "C:\\Users\\MadhavKoodanaMadhu\\Documents\\MPMD\\Sem2\\Adv_Data_Analytics\\project\\venv\\lib\\site-packages\\imblearn\\over_sampling\\_adasyn.py:156: FutureWarning: The parameter `n_jobs` has been deprecated in 0.10 and will be removed in 0.12. You can pass an nearest neighbors estimator where `n_jobs` is already set instead.\n",
      "  warnings.warn(\n",
      "C:\\Users\\MadhavKoodanaMadhu\\Documents\\MPMD\\Sem2\\Adv_Data_Analytics\\project\\venv\\lib\\site-packages\\imblearn\\over_sampling\\_adasyn.py:156: FutureWarning: The parameter `n_jobs` has been deprecated in 0.10 and will be removed in 0.12. You can pass an nearest neighbors estimator where `n_jobs` is already set instead.\n",
      "  warnings.warn(\n",
      "C:\\Users\\MadhavKoodanaMadhu\\Documents\\MPMD\\Sem2\\Adv_Data_Analytics\\project\\venv\\lib\\site-packages\\imblearn\\over_sampling\\_adasyn.py:156: FutureWarning: The parameter `n_jobs` has been deprecated in 0.10 and will be removed in 0.12. You can pass an nearest neighbors estimator where `n_jobs` is already set instead.\n",
      "  warnings.warn(\n",
      "C:\\Users\\MadhavKoodanaMadhu\\Documents\\MPMD\\Sem2\\Adv_Data_Analytics\\project\\venv\\lib\\site-packages\\imblearn\\over_sampling\\_adasyn.py:156: FutureWarning: The parameter `n_jobs` has been deprecated in 0.10 and will be removed in 0.12. You can pass an nearest neighbors estimator where `n_jobs` is already set instead.\n",
      "  warnings.warn(\n"
     ]
    },
    {
     "name": "stdout",
     "output_type": "stream",
     "text": [
      "\n",
      "Training median_rfe_ADASYN_LogisticRegression...\n"
     ]
    },
    {
     "name": "stderr",
     "output_type": "stream",
     "text": [
      "C:\\Users\\MadhavKoodanaMadhu\\Documents\\MPMD\\Sem2\\Adv_Data_Analytics\\project\\venv\\lib\\site-packages\\imblearn\\over_sampling\\_adasyn.py:156: FutureWarning: The parameter `n_jobs` has been deprecated in 0.10 and will be removed in 0.12. You can pass an nearest neighbors estimator where `n_jobs` is already set instead.\n",
      "  warnings.warn(\n",
      "C:\\Users\\MadhavKoodanaMadhu\\Documents\\MPMD\\Sem2\\Adv_Data_Analytics\\project\\venv\\lib\\site-packages\\imblearn\\over_sampling\\_adasyn.py:156: FutureWarning: The parameter `n_jobs` has been deprecated in 0.10 and will be removed in 0.12. You can pass an nearest neighbors estimator where `n_jobs` is already set instead.\n",
      "  warnings.warn(\n",
      "C:\\Users\\MadhavKoodanaMadhu\\Documents\\MPMD\\Sem2\\Adv_Data_Analytics\\project\\venv\\lib\\site-packages\\imblearn\\over_sampling\\_adasyn.py:156: FutureWarning: The parameter `n_jobs` has been deprecated in 0.10 and will be removed in 0.12. You can pass an nearest neighbors estimator where `n_jobs` is already set instead.\n",
      "  warnings.warn(\n",
      "C:\\Users\\MadhavKoodanaMadhu\\Documents\\MPMD\\Sem2\\Adv_Data_Analytics\\project\\venv\\lib\\site-packages\\imblearn\\over_sampling\\_adasyn.py:156: FutureWarning: The parameter `n_jobs` has been deprecated in 0.10 and will be removed in 0.12. You can pass an nearest neighbors estimator where `n_jobs` is already set instead.\n",
      "  warnings.warn(\n",
      "C:\\Users\\MadhavKoodanaMadhu\\Documents\\MPMD\\Sem2\\Adv_Data_Analytics\\project\\venv\\lib\\site-packages\\imblearn\\over_sampling\\_adasyn.py:156: FutureWarning: The parameter `n_jobs` has been deprecated in 0.10 and will be removed in 0.12. You can pass an nearest neighbors estimator where `n_jobs` is already set instead.\n",
      "  warnings.warn(\n",
      "C:\\Users\\MadhavKoodanaMadhu\\Documents\\MPMD\\Sem2\\Adv_Data_Analytics\\project\\venv\\lib\\site-packages\\imblearn\\over_sampling\\_adasyn.py:156: FutureWarning: The parameter `n_jobs` has been deprecated in 0.10 and will be removed in 0.12. You can pass an nearest neighbors estimator where `n_jobs` is already set instead.\n",
      "  warnings.warn(\n"
     ]
    },
    {
     "name": "stdout",
     "output_type": "stream",
     "text": [
      "\n",
      "Training median_rfe_ADASYN_SVC...\n"
     ]
    },
    {
     "name": "stderr",
     "output_type": "stream",
     "text": [
      "C:\\Users\\MadhavKoodanaMadhu\\Documents\\MPMD\\Sem2\\Adv_Data_Analytics\\project\\venv\\lib\\site-packages\\imblearn\\over_sampling\\_adasyn.py:156: FutureWarning: The parameter `n_jobs` has been deprecated in 0.10 and will be removed in 0.12. You can pass an nearest neighbors estimator where `n_jobs` is already set instead.\n",
      "  warnings.warn(\n",
      "C:\\Users\\MadhavKoodanaMadhu\\Documents\\MPMD\\Sem2\\Adv_Data_Analytics\\project\\venv\\lib\\site-packages\\imblearn\\over_sampling\\_adasyn.py:156: FutureWarning: The parameter `n_jobs` has been deprecated in 0.10 and will be removed in 0.12. You can pass an nearest neighbors estimator where `n_jobs` is already set instead.\n",
      "  warnings.warn(\n",
      "C:\\Users\\MadhavKoodanaMadhu\\Documents\\MPMD\\Sem2\\Adv_Data_Analytics\\project\\venv\\lib\\site-packages\\imblearn\\over_sampling\\_adasyn.py:156: FutureWarning: The parameter `n_jobs` has been deprecated in 0.10 and will be removed in 0.12. You can pass an nearest neighbors estimator where `n_jobs` is already set instead.\n",
      "  warnings.warn(\n",
      "C:\\Users\\MadhavKoodanaMadhu\\Documents\\MPMD\\Sem2\\Adv_Data_Analytics\\project\\venv\\lib\\site-packages\\imblearn\\over_sampling\\_adasyn.py:156: FutureWarning: The parameter `n_jobs` has been deprecated in 0.10 and will be removed in 0.12. You can pass an nearest neighbors estimator where `n_jobs` is already set instead.\n",
      "  warnings.warn(\n",
      "C:\\Users\\MadhavKoodanaMadhu\\Documents\\MPMD\\Sem2\\Adv_Data_Analytics\\project\\venv\\lib\\site-packages\\imblearn\\over_sampling\\_adasyn.py:156: FutureWarning: The parameter `n_jobs` has been deprecated in 0.10 and will be removed in 0.12. You can pass an nearest neighbors estimator where `n_jobs` is already set instead.\n",
      "  warnings.warn(\n",
      "C:\\Users\\MadhavKoodanaMadhu\\Documents\\MPMD\\Sem2\\Adv_Data_Analytics\\project\\venv\\lib\\site-packages\\imblearn\\over_sampling\\_adasyn.py:156: FutureWarning: The parameter `n_jobs` has been deprecated in 0.10 and will be removed in 0.12. You can pass an nearest neighbors estimator where `n_jobs` is already set instead.\n",
      "  warnings.warn(\n"
     ]
    },
    {
     "name": "stdout",
     "output_type": "stream",
     "text": [
      "\n",
      "Training median_lasso_SMOTE_RandomForest...\n"
     ]
    },
    {
     "name": "stderr",
     "output_type": "stream",
     "text": [
      "C:\\Users\\MadhavKoodanaMadhu\\Documents\\MPMD\\Sem2\\Adv_Data_Analytics\\project\\venv\\lib\\site-packages\\imblearn\\over_sampling\\_smote\\base.py:370: FutureWarning: The parameter `n_jobs` has been deprecated in 0.10 and will be removed in 0.12. You can pass an nearest neighbors estimator where `n_jobs` is already set instead.\n",
      "  warnings.warn(\n",
      "C:\\Users\\MadhavKoodanaMadhu\\Documents\\MPMD\\Sem2\\Adv_Data_Analytics\\project\\venv\\lib\\site-packages\\imblearn\\over_sampling\\_smote\\base.py:370: FutureWarning: The parameter `n_jobs` has been deprecated in 0.10 and will be removed in 0.12. You can pass an nearest neighbors estimator where `n_jobs` is already set instead.\n",
      "  warnings.warn(\n",
      "C:\\Users\\MadhavKoodanaMadhu\\Documents\\MPMD\\Sem2\\Adv_Data_Analytics\\project\\venv\\lib\\site-packages\\imblearn\\over_sampling\\_smote\\base.py:370: FutureWarning: The parameter `n_jobs` has been deprecated in 0.10 and will be removed in 0.12. You can pass an nearest neighbors estimator where `n_jobs` is already set instead.\n",
      "  warnings.warn(\n",
      "C:\\Users\\MadhavKoodanaMadhu\\Documents\\MPMD\\Sem2\\Adv_Data_Analytics\\project\\venv\\lib\\site-packages\\imblearn\\over_sampling\\_smote\\base.py:370: FutureWarning: The parameter `n_jobs` has been deprecated in 0.10 and will be removed in 0.12. You can pass an nearest neighbors estimator where `n_jobs` is already set instead.\n",
      "  warnings.warn(\n",
      "C:\\Users\\MadhavKoodanaMadhu\\Documents\\MPMD\\Sem2\\Adv_Data_Analytics\\project\\venv\\lib\\site-packages\\sklearn\\metrics\\_classification.py:1471: UndefinedMetricWarning: Precision is ill-defined and being set to 0.0 due to no predicted samples. Use `zero_division` parameter to control this behavior.\n",
      "  _warn_prf(average, modifier, msg_start, len(result))\n",
      "C:\\Users\\MadhavKoodanaMadhu\\Documents\\MPMD\\Sem2\\Adv_Data_Analytics\\project\\venv\\lib\\site-packages\\imblearn\\over_sampling\\_smote\\base.py:370: FutureWarning: The parameter `n_jobs` has been deprecated in 0.10 and will be removed in 0.12. You can pass an nearest neighbors estimator where `n_jobs` is already set instead.\n",
      "  warnings.warn(\n",
      "C:\\Users\\MadhavKoodanaMadhu\\Documents\\MPMD\\Sem2\\Adv_Data_Analytics\\project\\venv\\lib\\site-packages\\imblearn\\over_sampling\\_smote\\base.py:370: FutureWarning: The parameter `n_jobs` has been deprecated in 0.10 and will be removed in 0.12. You can pass an nearest neighbors estimator where `n_jobs` is already set instead.\n",
      "  warnings.warn(\n"
     ]
    },
    {
     "name": "stdout",
     "output_type": "stream",
     "text": [
      "\n",
      "Training median_lasso_SMOTE_LogisticRegression...\n"
     ]
    },
    {
     "name": "stderr",
     "output_type": "stream",
     "text": [
      "C:\\Users\\MadhavKoodanaMadhu\\Documents\\MPMD\\Sem2\\Adv_Data_Analytics\\project\\venv\\lib\\site-packages\\imblearn\\over_sampling\\_smote\\base.py:370: FutureWarning: The parameter `n_jobs` has been deprecated in 0.10 and will be removed in 0.12. You can pass an nearest neighbors estimator where `n_jobs` is already set instead.\n",
      "  warnings.warn(\n",
      "C:\\Users\\MadhavKoodanaMadhu\\Documents\\MPMD\\Sem2\\Adv_Data_Analytics\\project\\venv\\lib\\site-packages\\imblearn\\over_sampling\\_smote\\base.py:370: FutureWarning: The parameter `n_jobs` has been deprecated in 0.10 and will be removed in 0.12. You can pass an nearest neighbors estimator where `n_jobs` is already set instead.\n",
      "  warnings.warn(\n",
      "C:\\Users\\MadhavKoodanaMadhu\\Documents\\MPMD\\Sem2\\Adv_Data_Analytics\\project\\venv\\lib\\site-packages\\imblearn\\over_sampling\\_smote\\base.py:370: FutureWarning: The parameter `n_jobs` has been deprecated in 0.10 and will be removed in 0.12. You can pass an nearest neighbors estimator where `n_jobs` is already set instead.\n",
      "  warnings.warn(\n",
      "C:\\Users\\MadhavKoodanaMadhu\\Documents\\MPMD\\Sem2\\Adv_Data_Analytics\\project\\venv\\lib\\site-packages\\imblearn\\over_sampling\\_smote\\base.py:370: FutureWarning: The parameter `n_jobs` has been deprecated in 0.10 and will be removed in 0.12. You can pass an nearest neighbors estimator where `n_jobs` is already set instead.\n",
      "  warnings.warn(\n",
      "C:\\Users\\MadhavKoodanaMadhu\\Documents\\MPMD\\Sem2\\Adv_Data_Analytics\\project\\venv\\lib\\site-packages\\imblearn\\over_sampling\\_smote\\base.py:370: FutureWarning: The parameter `n_jobs` has been deprecated in 0.10 and will be removed in 0.12. You can pass an nearest neighbors estimator where `n_jobs` is already set instead.\n",
      "  warnings.warn(\n",
      "C:\\Users\\MadhavKoodanaMadhu\\Documents\\MPMD\\Sem2\\Adv_Data_Analytics\\project\\venv\\lib\\site-packages\\imblearn\\over_sampling\\_smote\\base.py:370: FutureWarning: The parameter `n_jobs` has been deprecated in 0.10 and will be removed in 0.12. You can pass an nearest neighbors estimator where `n_jobs` is already set instead.\n",
      "  warnings.warn(\n"
     ]
    },
    {
     "name": "stdout",
     "output_type": "stream",
     "text": [
      "\n",
      "Training median_lasso_SMOTE_SVC...\n"
     ]
    },
    {
     "name": "stderr",
     "output_type": "stream",
     "text": [
      "C:\\Users\\MadhavKoodanaMadhu\\Documents\\MPMD\\Sem2\\Adv_Data_Analytics\\project\\venv\\lib\\site-packages\\imblearn\\over_sampling\\_smote\\base.py:370: FutureWarning: The parameter `n_jobs` has been deprecated in 0.10 and will be removed in 0.12. You can pass an nearest neighbors estimator where `n_jobs` is already set instead.\n",
      "  warnings.warn(\n",
      "C:\\Users\\MadhavKoodanaMadhu\\Documents\\MPMD\\Sem2\\Adv_Data_Analytics\\project\\venv\\lib\\site-packages\\sklearn\\metrics\\_classification.py:1471: UndefinedMetricWarning: Precision is ill-defined and being set to 0.0 due to no predicted samples. Use `zero_division` parameter to control this behavior.\n",
      "  _warn_prf(average, modifier, msg_start, len(result))\n",
      "C:\\Users\\MadhavKoodanaMadhu\\Documents\\MPMD\\Sem2\\Adv_Data_Analytics\\project\\venv\\lib\\site-packages\\imblearn\\over_sampling\\_smote\\base.py:370: FutureWarning: The parameter `n_jobs` has been deprecated in 0.10 and will be removed in 0.12. You can pass an nearest neighbors estimator where `n_jobs` is already set instead.\n",
      "  warnings.warn(\n",
      "C:\\Users\\MadhavKoodanaMadhu\\Documents\\MPMD\\Sem2\\Adv_Data_Analytics\\project\\venv\\lib\\site-packages\\imblearn\\over_sampling\\_smote\\base.py:370: FutureWarning: The parameter `n_jobs` has been deprecated in 0.10 and will be removed in 0.12. You can pass an nearest neighbors estimator where `n_jobs` is already set instead.\n",
      "  warnings.warn(\n",
      "C:\\Users\\MadhavKoodanaMadhu\\Documents\\MPMD\\Sem2\\Adv_Data_Analytics\\project\\venv\\lib\\site-packages\\imblearn\\over_sampling\\_smote\\base.py:370: FutureWarning: The parameter `n_jobs` has been deprecated in 0.10 and will be removed in 0.12. You can pass an nearest neighbors estimator where `n_jobs` is already set instead.\n",
      "  warnings.warn(\n",
      "C:\\Users\\MadhavKoodanaMadhu\\Documents\\MPMD\\Sem2\\Adv_Data_Analytics\\project\\venv\\lib\\site-packages\\imblearn\\over_sampling\\_smote\\base.py:370: FutureWarning: The parameter `n_jobs` has been deprecated in 0.10 and will be removed in 0.12. You can pass an nearest neighbors estimator where `n_jobs` is already set instead.\n",
      "  warnings.warn(\n",
      "C:\\Users\\MadhavKoodanaMadhu\\Documents\\MPMD\\Sem2\\Adv_Data_Analytics\\project\\venv\\lib\\site-packages\\imblearn\\over_sampling\\_smote\\base.py:370: FutureWarning: The parameter `n_jobs` has been deprecated in 0.10 and will be removed in 0.12. You can pass an nearest neighbors estimator where `n_jobs` is already set instead.\n",
      "  warnings.warn(\n"
     ]
    },
    {
     "name": "stdout",
     "output_type": "stream",
     "text": [
      "\n",
      "Training median_lasso_ADASYN_RandomForest...\n"
     ]
    },
    {
     "name": "stderr",
     "output_type": "stream",
     "text": [
      "C:\\Users\\MadhavKoodanaMadhu\\Documents\\MPMD\\Sem2\\Adv_Data_Analytics\\project\\venv\\lib\\site-packages\\imblearn\\over_sampling\\_adasyn.py:156: FutureWarning: The parameter `n_jobs` has been deprecated in 0.10 and will be removed in 0.12. You can pass an nearest neighbors estimator where `n_jobs` is already set instead.\n",
      "  warnings.warn(\n",
      "C:\\Users\\MadhavKoodanaMadhu\\Documents\\MPMD\\Sem2\\Adv_Data_Analytics\\project\\venv\\lib\\site-packages\\sklearn\\metrics\\_classification.py:1471: UndefinedMetricWarning: Precision is ill-defined and being set to 0.0 due to no predicted samples. Use `zero_division` parameter to control this behavior.\n",
      "  _warn_prf(average, modifier, msg_start, len(result))\n",
      "C:\\Users\\MadhavKoodanaMadhu\\Documents\\MPMD\\Sem2\\Adv_Data_Analytics\\project\\venv\\lib\\site-packages\\imblearn\\over_sampling\\_adasyn.py:156: FutureWarning: The parameter `n_jobs` has been deprecated in 0.10 and will be removed in 0.12. You can pass an nearest neighbors estimator where `n_jobs` is already set instead.\n",
      "  warnings.warn(\n",
      "C:\\Users\\MadhavKoodanaMadhu\\Documents\\MPMD\\Sem2\\Adv_Data_Analytics\\project\\venv\\lib\\site-packages\\sklearn\\metrics\\_classification.py:1471: UndefinedMetricWarning: Precision is ill-defined and being set to 0.0 due to no predicted samples. Use `zero_division` parameter to control this behavior.\n",
      "  _warn_prf(average, modifier, msg_start, len(result))\n",
      "C:\\Users\\MadhavKoodanaMadhu\\Documents\\MPMD\\Sem2\\Adv_Data_Analytics\\project\\venv\\lib\\site-packages\\imblearn\\over_sampling\\_adasyn.py:156: FutureWarning: The parameter `n_jobs` has been deprecated in 0.10 and will be removed in 0.12. You can pass an nearest neighbors estimator where `n_jobs` is already set instead.\n",
      "  warnings.warn(\n",
      "C:\\Users\\MadhavKoodanaMadhu\\Documents\\MPMD\\Sem2\\Adv_Data_Analytics\\project\\venv\\lib\\site-packages\\imblearn\\over_sampling\\_adasyn.py:156: FutureWarning: The parameter `n_jobs` has been deprecated in 0.10 and will be removed in 0.12. You can pass an nearest neighbors estimator where `n_jobs` is already set instead.\n",
      "  warnings.warn(\n",
      "C:\\Users\\MadhavKoodanaMadhu\\Documents\\MPMD\\Sem2\\Adv_Data_Analytics\\project\\venv\\lib\\site-packages\\sklearn\\metrics\\_classification.py:1471: UndefinedMetricWarning: Precision is ill-defined and being set to 0.0 due to no predicted samples. Use `zero_division` parameter to control this behavior.\n",
      "  _warn_prf(average, modifier, msg_start, len(result))\n",
      "C:\\Users\\MadhavKoodanaMadhu\\Documents\\MPMD\\Sem2\\Adv_Data_Analytics\\project\\venv\\lib\\site-packages\\imblearn\\over_sampling\\_adasyn.py:156: FutureWarning: The parameter `n_jobs` has been deprecated in 0.10 and will be removed in 0.12. You can pass an nearest neighbors estimator where `n_jobs` is already set instead.\n",
      "  warnings.warn(\n",
      "C:\\Users\\MadhavKoodanaMadhu\\Documents\\MPMD\\Sem2\\Adv_Data_Analytics\\project\\venv\\lib\\site-packages\\imblearn\\over_sampling\\_adasyn.py:156: FutureWarning: The parameter `n_jobs` has been deprecated in 0.10 and will be removed in 0.12. You can pass an nearest neighbors estimator where `n_jobs` is already set instead.\n",
      "  warnings.warn(\n"
     ]
    }
   ],
   "source": [
    "# Run cross-validation for all combinations\n",
    "results = []\n",
    "\n",
    "run_count = 0\n",
    "max_runs = 10\n",
    "\n",
    "for imp_name, imputer in imputers.items():\n",
    "    for fs_name, selector in feature_selectors.items():\n",
    "        for bal_name, balancer in balancers.items():\n",
    "            for model_name, model in models.items():\n",
    "                if run_count >= max_runs:\n",
    "                    break\n",
    "                try:\n",
    "                    pipe = ImbPipeline([\n",
    "                        ('impute', imputer),\n",
    "                        ('corr', CorrelationFilter(threshold=0.8)),\n",
    "                        ('select', selector),\n",
    "                        ('scale', StandardScaler()),\n",
    "                        ('balance', balancer),\n",
    "                        ('clf', model)\n",
    "                    ])\n",
    "\n",
    "                    # Define the pipeline name for logging\n",
    "                    name = f\"{imp_name}_{fs_name}_{bal_name}_{model_name}\"\n",
    "                    print(f\"\\nTraining {name}...\")\n",
    "\n",
    "                    # Start timing\n",
    "                    start_time = time.time()\n",
    "\n",
    "                    # Cross-validation setup\n",
    "                    cv = StratifiedKFold(n_splits=5, shuffle=True, random_state=42)\n",
    "                    scores = cross_validate(pipe, X_train_cleaned, y_train_arr, scoring=scoring, cv=cv)\n",
    "\n",
    "                    # Measure execution time\n",
    "                    execution_time = round(time.time() - start_time, 2)\n",
    "\n",
    "                    pipe.fit(X_train_cleaned, y_train_arr)\n",
    "\n",
    "                    # Get the number of features selected after correlation and feature selection\n",
    "                    selector_step = pipe.named_steps.get('select', None)\n",
    "                    n_features_selected = None\n",
    "                    \n",
    "                    if selector_step is not None and hasattr(selector_step, 'get_support'):\n",
    "                        n_features_selected = np.sum(selector_step.get_support())\n",
    "                    else:\n",
    "                        # fallback if get_support isn't available\n",
    "                        n_features_selected = 'unknown'\n",
    "                    \n",
    "                    results.append({\n",
    "                        'Pipeline': name,\n",
    "                        'F1': np.mean(scores['test_f1']),\n",
    "                        'Precision': np.mean(scores['test_precision']),\n",
    "                        'Recall': np.mean(scores['test_recall']),\n",
    "                        'Num Features Selected': n_features_selected,\n",
    "                        'Execution Time (s)': execution_time\n",
    "                    })\n",
    "\n",
    "                    run_count += 1\n",
    "\n",
    "                    \n",
    "                except Exception as e:\n",
    "                    print(f\"Pipeline {name} failed: {e}\")"
   ]
  },
  {
   "cell_type": "code",
   "execution_count": 63,
   "id": "72b54c71-76b8-464a-8c98-1d2c9f842e34",
   "metadata": {},
   "outputs": [],
   "source": [
    "# Results DataFrame\n",
    "results_df = pd.DataFrame(results).sort_values(by='F1', ascending=False)\n",
    "\n",
    "top_results = results_df.head(10)"
   ]
  },
  {
   "cell_type": "code",
   "execution_count": 64,
   "id": "389d5dbd-c1cd-4f9c-82c2-0501105c1cbd",
   "metadata": {},
   "outputs": [
    {
     "data": {
      "text/html": [
       "<div>\n",
       "<style scoped>\n",
       "    .dataframe tbody tr th:only-of-type {\n",
       "        vertical-align: middle;\n",
       "    }\n",
       "\n",
       "    .dataframe tbody tr th {\n",
       "        vertical-align: top;\n",
       "    }\n",
       "\n",
       "    .dataframe thead th {\n",
       "        text-align: right;\n",
       "    }\n",
       "</style>\n",
       "<table border=\"1\" class=\"dataframe\">\n",
       "  <thead>\n",
       "    <tr style=\"text-align: right;\">\n",
       "      <th></th>\n",
       "      <th>Pipeline</th>\n",
       "      <th>F1</th>\n",
       "      <th>Precision</th>\n",
       "      <th>Recall</th>\n",
       "      <th>Num Features Selected</th>\n",
       "      <th>Execution Time (s)</th>\n",
       "    </tr>\n",
       "  </thead>\n",
       "  <tbody>\n",
       "    <tr>\n",
       "      <th>7</th>\n",
       "      <td>median_lasso_SMOTE_LogisticRegression</td>\n",
       "      <td>0.179012</td>\n",
       "      <td>0.119945</td>\n",
       "      <td>0.359167</td>\n",
       "      <td>92</td>\n",
       "      <td>21.62</td>\n",
       "    </tr>\n",
       "    <tr>\n",
       "      <th>3</th>\n",
       "      <td>median_rfe_ADASYN_RandomForest</td>\n",
       "      <td>0.160655</td>\n",
       "      <td>0.225325</td>\n",
       "      <td>0.128333</td>\n",
       "      <td>25</td>\n",
       "      <td>325.76</td>\n",
       "    </tr>\n",
       "    <tr>\n",
       "      <th>1</th>\n",
       "      <td>median_rfe_SMOTE_LogisticRegression</td>\n",
       "      <td>0.153246</td>\n",
       "      <td>0.094006</td>\n",
       "      <td>0.423333</td>\n",
       "      <td>25</td>\n",
       "      <td>330.33</td>\n",
       "    </tr>\n",
       "    <tr>\n",
       "      <th>4</th>\n",
       "      <td>median_rfe_ADASYN_LogisticRegression</td>\n",
       "      <td>0.151222</td>\n",
       "      <td>0.092393</td>\n",
       "      <td>0.421667</td>\n",
       "      <td>25</td>\n",
       "      <td>325.76</td>\n",
       "    </tr>\n",
       "    <tr>\n",
       "      <th>2</th>\n",
       "      <td>median_rfe_SMOTE_SVC</td>\n",
       "      <td>0.148067</td>\n",
       "      <td>0.135576</td>\n",
       "      <td>0.165833</td>\n",
       "      <td>25</td>\n",
       "      <td>326.55</td>\n",
       "    </tr>\n",
       "    <tr>\n",
       "      <th>5</th>\n",
       "      <td>median_rfe_ADASYN_SVC</td>\n",
       "      <td>0.139355</td>\n",
       "      <td>0.120111</td>\n",
       "      <td>0.168333</td>\n",
       "      <td>25</td>\n",
       "      <td>331.16</td>\n",
       "    </tr>\n",
       "    <tr>\n",
       "      <th>0</th>\n",
       "      <td>median_rfe_SMOTE_RandomForest</td>\n",
       "      <td>0.138061</td>\n",
       "      <td>0.206508</td>\n",
       "      <td>0.104167</td>\n",
       "      <td>25</td>\n",
       "      <td>311.85</td>\n",
       "    </tr>\n",
       "    <tr>\n",
       "      <th>8</th>\n",
       "      <td>median_lasso_SMOTE_SVC</td>\n",
       "      <td>0.103258</td>\n",
       "      <td>0.273333</td>\n",
       "      <td>0.064167</td>\n",
       "      <td>86</td>\n",
       "      <td>18.60</td>\n",
       "    </tr>\n",
       "    <tr>\n",
       "      <th>9</th>\n",
       "      <td>median_lasso_ADASYN_RandomForest</td>\n",
       "      <td>0.086550</td>\n",
       "      <td>0.333333</td>\n",
       "      <td>0.050000</td>\n",
       "      <td>90</td>\n",
       "      <td>19.42</td>\n",
       "    </tr>\n",
       "    <tr>\n",
       "      <th>6</th>\n",
       "      <td>median_lasso_SMOTE_RandomForest</td>\n",
       "      <td>0.067974</td>\n",
       "      <td>0.400000</td>\n",
       "      <td>0.037500</td>\n",
       "      <td>92</td>\n",
       "      <td>19.11</td>\n",
       "    </tr>\n",
       "  </tbody>\n",
       "</table>\n",
       "</div>"
      ],
      "text/plain": [
       "                                Pipeline        F1  Precision    Recall  \\\n",
       "7  median_lasso_SMOTE_LogisticRegression  0.179012   0.119945  0.359167   \n",
       "3         median_rfe_ADASYN_RandomForest  0.160655   0.225325  0.128333   \n",
       "1    median_rfe_SMOTE_LogisticRegression  0.153246   0.094006  0.423333   \n",
       "4   median_rfe_ADASYN_LogisticRegression  0.151222   0.092393  0.421667   \n",
       "2                   median_rfe_SMOTE_SVC  0.148067   0.135576  0.165833   \n",
       "5                  median_rfe_ADASYN_SVC  0.139355   0.120111  0.168333   \n",
       "0          median_rfe_SMOTE_RandomForest  0.138061   0.206508  0.104167   \n",
       "8                 median_lasso_SMOTE_SVC  0.103258   0.273333  0.064167   \n",
       "9       median_lasso_ADASYN_RandomForest  0.086550   0.333333  0.050000   \n",
       "6        median_lasso_SMOTE_RandomForest  0.067974   0.400000  0.037500   \n",
       "\n",
       "   Num Features Selected  Execution Time (s)  \n",
       "7                     92               21.62  \n",
       "3                     25              325.76  \n",
       "1                     25              330.33  \n",
       "4                     25              325.76  \n",
       "2                     25              326.55  \n",
       "5                     25              331.16  \n",
       "0                     25              311.85  \n",
       "8                     86               18.60  \n",
       "9                     90               19.42  \n",
       "6                     92               19.11  "
      ]
     },
     "execution_count": 64,
     "metadata": {},
     "output_type": "execute_result"
    }
   ],
   "source": [
    "top_results"
   ]
  },
  {
   "cell_type": "code",
   "execution_count": null,
   "id": "488b4813-9146-4960-a52b-63c5df1ba14a",
   "metadata": {},
   "outputs": [],
   "source": []
  },
  {
   "cell_type": "markdown",
   "id": "34c724ae-4657-41cb-a10f-8be5bc027703",
   "metadata": {},
   "source": [
    "Was debugging. Needn't run whatever is below"
   ]
  },
  {
   "cell_type": "code",
   "execution_count": 30,
   "id": "f0a31493-a5d9-4a7c-99e7-ab0009e6ce77",
   "metadata": {},
   "outputs": [
    {
     "name": "stdout",
     "output_type": "stream",
     "text": [
      "[Pipeline] Creating pipeline...\n",
      "\n",
      "Training model_...\n",
      "[Pipeline] Starting cross-validation...\n",
      "[CorrelationFilter] fit called.\n",
      "[CorrelationFilter] transform called.\n",
      "[FeatureSelector] fit called.\n",
      "[FeatureSelector] fit complete.\n",
      "[FeatureSelector] transform called.\n"
     ]
    },
    {
     "name": "stderr",
     "output_type": "stream",
     "text": [
      "C:\\Users\\MadhavKoodanaMadhu\\Documents\\MPMD\\Sem2\\Adv_Data_Analytics\\project\\venv\\lib\\site-packages\\imblearn\\over_sampling\\_smote\\base.py:370: FutureWarning: The parameter `n_jobs` has been deprecated in 0.10 and will be removed in 0.12. You can pass an nearest neighbors estimator where `n_jobs` is already set instead.\n",
      "  warnings.warn(\n"
     ]
    },
    {
     "name": "stdout",
     "output_type": "stream",
     "text": [
      "[CorrelationFilter] transform called.\n",
      "[FeatureSelector] transform called.\n",
      "[CorrelationFilter] fit called.\n",
      "[CorrelationFilter] transform called.\n",
      "[FeatureSelector] fit called.\n",
      "[FeatureSelector] fit complete.\n",
      "[FeatureSelector] transform called.\n"
     ]
    },
    {
     "name": "stderr",
     "output_type": "stream",
     "text": [
      "C:\\Users\\MadhavKoodanaMadhu\\Documents\\MPMD\\Sem2\\Adv_Data_Analytics\\project\\venv\\lib\\site-packages\\imblearn\\over_sampling\\_smote\\base.py:370: FutureWarning: The parameter `n_jobs` has been deprecated in 0.10 and will be removed in 0.12. You can pass an nearest neighbors estimator where `n_jobs` is already set instead.\n",
      "  warnings.warn(\n"
     ]
    },
    {
     "name": "stdout",
     "output_type": "stream",
     "text": [
      "[CorrelationFilter] transform called.\n",
      "[FeatureSelector] transform called.\n",
      "[CorrelationFilter] fit called.\n",
      "[CorrelationFilter] transform called.\n",
      "[FeatureSelector] fit called.\n",
      "[FeatureSelector] fit complete.\n",
      "[FeatureSelector] transform called.\n"
     ]
    },
    {
     "name": "stderr",
     "output_type": "stream",
     "text": [
      "C:\\Users\\MadhavKoodanaMadhu\\Documents\\MPMD\\Sem2\\Adv_Data_Analytics\\project\\venv\\lib\\site-packages\\imblearn\\over_sampling\\_smote\\base.py:370: FutureWarning: The parameter `n_jobs` has been deprecated in 0.10 and will be removed in 0.12. You can pass an nearest neighbors estimator where `n_jobs` is already set instead.\n",
      "  warnings.warn(\n"
     ]
    },
    {
     "name": "stdout",
     "output_type": "stream",
     "text": [
      "[CorrelationFilter] transform called.\n",
      "[FeatureSelector] transform called.\n",
      "[CorrelationFilter] fit called.\n",
      "[CorrelationFilter] transform called.\n",
      "[FeatureSelector] fit called.\n",
      "[FeatureSelector] fit complete.\n",
      "[FeatureSelector] transform called.\n"
     ]
    },
    {
     "name": "stderr",
     "output_type": "stream",
     "text": [
      "C:\\Users\\MadhavKoodanaMadhu\\Documents\\MPMD\\Sem2\\Adv_Data_Analytics\\project\\venv\\lib\\site-packages\\imblearn\\over_sampling\\_smote\\base.py:370: FutureWarning: The parameter `n_jobs` has been deprecated in 0.10 and will be removed in 0.12. You can pass an nearest neighbors estimator where `n_jobs` is already set instead.\n",
      "  warnings.warn(\n"
     ]
    },
    {
     "name": "stdout",
     "output_type": "stream",
     "text": [
      "[CorrelationFilter] transform called.\n",
      "[FeatureSelector] transform called.\n",
      "[CorrelationFilter] fit called.\n",
      "[CorrelationFilter] transform called.\n",
      "[FeatureSelector] fit called.\n",
      "[FeatureSelector] fit complete.\n",
      "[FeatureSelector] transform called.\n"
     ]
    },
    {
     "name": "stderr",
     "output_type": "stream",
     "text": [
      "C:\\Users\\MadhavKoodanaMadhu\\Documents\\MPMD\\Sem2\\Adv_Data_Analytics\\project\\venv\\lib\\site-packages\\imblearn\\over_sampling\\_smote\\base.py:370: FutureWarning: The parameter `n_jobs` has been deprecated in 0.10 and will be removed in 0.12. You can pass an nearest neighbors estimator where `n_jobs` is already set instead.\n",
      "  warnings.warn(\n"
     ]
    },
    {
     "name": "stdout",
     "output_type": "stream",
     "text": [
      "[CorrelationFilter] transform called.\n",
      "[FeatureSelector] transform called.\n",
      "[Pipeline] Cross-validation complete.\n",
      "[CorrelationFilter] fit called.\n",
      "[CorrelationFilter] transform called.\n",
      "[FeatureSelector] fit called.\n",
      "[FeatureSelector] fit complete.\n",
      "[FeatureSelector] transform called.\n"
     ]
    },
    {
     "name": "stderr",
     "output_type": "stream",
     "text": [
      "C:\\Users\\MadhavKoodanaMadhu\\Documents\\MPMD\\Sem2\\Adv_Data_Analytics\\project\\venv\\lib\\site-packages\\imblearn\\over_sampling\\_smote\\base.py:370: FutureWarning: The parameter `n_jobs` has been deprecated in 0.10 and will be removed in 0.12. You can pass an nearest neighbors estimator where `n_jobs` is already set instead.\n",
      "  warnings.warn(\n"
     ]
    }
   ],
   "source": [
    "results2 = []\n",
    "try:\n",
    "    print(\"[Pipeline] Creating pipeline...\")\n",
    "    pipe = ImbPipeline([\n",
    "        ('impute', SimpleImputer(strategy=\"median\")),\n",
    "        ('corr', CorrelationFilter(threshold=0.8)),\n",
    "        ('select', FeatureSelector(method='rfe', estimator=LogisticRegression(max_iter=1000), n_features_to_select=20)),\n",
    "        ('scale', StandardScaler()),\n",
    "        ('balance', SMOTE(random_state=42, n_jobs=-1)),\n",
    "        ('clf', RandomForestClassifier(random_state=42, n_jobs=-1))\n",
    "    ])\n",
    "\n",
    "    # Define the pipeline name for logging\n",
    "    name = 'model_' # f\"{imp_name}_{fs_name}_{bal_name}_{model_name}\"\n",
    "    print(f\"\\nTraining {name}...\")\n",
    "\n",
    "    # Start timing\n",
    "    start_time = time.time()\n",
    "\n",
    "    # Cross-validation setup\n",
    "    cv = StratifiedKFold(n_splits=5, shuffle=True, random_state=42)\n",
    "    print(\"[Pipeline] Starting cross-validation...\")\n",
    "    scores = cross_validate(pipe, X_train_cleaned, y_train_arr, scoring=scoring, cv=cv)\n",
    "\n",
    "    # Measure execution time\n",
    "    execution_time = round(time.time() - start_time, 2)\n",
    "    print(\"[Pipeline] Cross-validation complete.\")\n",
    "\n",
    "    pipe.fit(X_train_cleaned, y_train_arr)\n",
    "\n",
    "    # Get the number of features selected after correlation and feature selection\n",
    "    selector_step = pipe.named_steps.get('select', None)\n",
    "    n_features_selected = None\n",
    "    \n",
    "    if selector_step is not None and hasattr(selector_step, 'get_support'):\n",
    "        n_features_selected = np.sum(selector_step.get_support())\n",
    "    else:\n",
    "        # fallback if get_support isn't available\n",
    "        n_features_selected = 'unknown'\n",
    "    \n",
    "    results2.append({\n",
    "        'Pipeline': name,\n",
    "        'F1': np.mean(scores['test_f1']),\n",
    "        'Precision': np.mean(scores['test_precision']),\n",
    "        'Recall': np.mean(scores['test_recall']),\n",
    "        'Num Features Selected': n_features_selected,\n",
    "        'Execution Time (s)': execution_time\n",
    "    })\n",
    "                         \n",
    "except Exception as e:\n",
    "    print(f\"Pipeline {name} failed: {e}\")"
   ]
  },
  {
   "cell_type": "code",
   "execution_count": 31,
   "id": "ee13f5a2-63f6-46cb-8d50-30ea3918161c",
   "metadata": {},
   "outputs": [
    {
     "data": {
      "text/plain": [
       "[{'Pipeline': 'model_',\n",
       "  'F1': 0.1741072840203275,\n",
       "  'Precision': 0.23714285714285716,\n",
       "  'Recall': 0.1408333333333333,\n",
       "  'Num Features Selected': 20,\n",
       "  'Execution Time (s)': 277.48}]"
      ]
     },
     "execution_count": 31,
     "metadata": {},
     "output_type": "execute_result"
    }
   ],
   "source": [
    "results2"
   ]
  },
  {
   "cell_type": "code",
   "execution_count": 58,
   "id": "a0522577-da4a-480d-8d8b-88eb97bc444f",
   "metadata": {},
   "outputs": [
    {
     "name": "stdout",
     "output_type": "stream",
     "text": [
      "[Pipeline] Creating pipeline...\n",
      "\n",
      "Training model_...\n",
      "[Pipeline] Starting cross-validation...\n",
      "Pipeline model_ failed: \n",
      "All the 5 fits failed.\n",
      "It is very likely that your model is misconfigured.\n",
      "You can try to debug the error by setting error_score='raise'.\n",
      "\n",
      "Below are more details about the failures:\n",
      "--------------------------------------------------------------------------------\n",
      "1 fits failed with the following error:\n",
      "Traceback (most recent call last):\n",
      "  File \"C:\\Users\\MadhavKoodanaMadhu\\Documents\\MPMD\\Sem2\\Adv_Data_Analytics\\project\\venv\\lib\\site-packages\\sklearn\\model_selection\\_validation.py\", line 729, in _fit_and_score\n",
      "    estimator.fit(X_train, y_train, **fit_params)\n",
      "  File \"C:\\Users\\MadhavKoodanaMadhu\\Documents\\MPMD\\Sem2\\Adv_Data_Analytics\\project\\venv\\lib\\site-packages\\sklearn\\base.py\", line 1152, in wrapper\n",
      "    return fit_method(estimator, *args, **kwargs)\n",
      "  File \"C:\\Users\\MadhavKoodanaMadhu\\Documents\\MPMD\\Sem2\\Adv_Data_Analytics\\project\\venv\\lib\\site-packages\\imblearn\\pipeline.py\", line 329, in fit\n",
      "    Xt, yt = self._fit(X, y, routed_params)\n",
      "  File \"C:\\Users\\MadhavKoodanaMadhu\\Documents\\MPMD\\Sem2\\Adv_Data_Analytics\\project\\venv\\lib\\site-packages\\imblearn\\pipeline.py\", line 255, in _fit\n",
      "    X, fitted_transformer = fit_transform_one_cached(\n",
      "  File \"C:\\Users\\MadhavKoodanaMadhu\\Documents\\MPMD\\Sem2\\Adv_Data_Analytics\\project\\venv\\lib\\site-packages\\joblib\\memory.py\", line 312, in __call__\n",
      "    return self.func(*args, **kwargs)\n",
      "  File \"C:\\Users\\MadhavKoodanaMadhu\\Documents\\MPMD\\Sem2\\Adv_Data_Analytics\\project\\venv\\lib\\site-packages\\imblearn\\pipeline.py\", line 1104, in _fit_transform_one\n",
      "    res = transformer.fit_transform(X, y, **params.get(\"fit_transform\", {}))\n",
      "  File \"C:\\Users\\MadhavKoodanaMadhu\\Documents\\MPMD\\Sem2\\Adv_Data_Analytics\\project\\venv\\lib\\site-packages\\sklearn\\utils\\_set_output.py\", line 157, in wrapped\n",
      "    data_to_wrap = f(self, X, *args, **kwargs)\n",
      "  File \"C:\\Users\\MadhavKoodanaMadhu\\Documents\\MPMD\\Sem2\\Adv_Data_Analytics\\project\\venv\\lib\\site-packages\\sklearn\\base.py\", line 919, in fit_transform\n",
      "    return self.fit(X, y, **fit_params).transform(X)\n",
      "  File \"C:\\Users\\MadhavKoodanaMadhu\\AppData\\Local\\Temp\\ipykernel_9136\\1209428783.py\", line 24, in fit\n",
      "    if mi_series[col] < mi_series[row]:\n",
      "  File \"C:\\Users\\MadhavKoodanaMadhu\\Documents\\MPMD\\Sem2\\Adv_Data_Analytics\\project\\venv\\lib\\site-packages\\pandas\\core\\series.py\", line 1033, in __getitem__\n",
      "    return self._get_with(key)\n",
      "  File \"C:\\Users\\MadhavKoodanaMadhu\\Documents\\MPMD\\Sem2\\Adv_Data_Analytics\\project\\venv\\lib\\site-packages\\pandas\\core\\series.py\", line 1073, in _get_with\n",
      "    return self.loc[key]\n",
      "  File \"C:\\Users\\MadhavKoodanaMadhu\\Documents\\MPMD\\Sem2\\Adv_Data_Analytics\\project\\venv\\lib\\site-packages\\pandas\\core\\indexing.py\", line 1103, in __getitem__\n",
      "    return self._getitem_axis(maybe_callable, axis=axis)\n",
      "  File \"C:\\Users\\MadhavKoodanaMadhu\\Documents\\MPMD\\Sem2\\Adv_Data_Analytics\\project\\venv\\lib\\site-packages\\pandas\\core\\indexing.py\", line 1332, in _getitem_axis\n",
      "    return self._getitem_iterable(key, axis=axis)\n",
      "  File \"C:\\Users\\MadhavKoodanaMadhu\\Documents\\MPMD\\Sem2\\Adv_Data_Analytics\\project\\venv\\lib\\site-packages\\pandas\\core\\indexing.py\", line 1272, in _getitem_iterable\n",
      "    keyarr, indexer = self._get_listlike_indexer(key, axis)\n",
      "  File \"C:\\Users\\MadhavKoodanaMadhu\\Documents\\MPMD\\Sem2\\Adv_Data_Analytics\\project\\venv\\lib\\site-packages\\pandas\\core\\indexing.py\", line 1462, in _get_listlike_indexer\n",
      "    keyarr, indexer = ax._get_indexer_strict(key, axis_name)\n",
      "  File \"C:\\Users\\MadhavKoodanaMadhu\\Documents\\MPMD\\Sem2\\Adv_Data_Analytics\\project\\venv\\lib\\site-packages\\pandas\\core\\indexes\\base.py\", line 5877, in _get_indexer_strict\n",
      "    self._raise_if_missing(keyarr, indexer, axis_name)\n",
      "  File \"C:\\Users\\MadhavKoodanaMadhu\\Documents\\MPMD\\Sem2\\Adv_Data_Analytics\\project\\venv\\lib\\site-packages\\pandas\\core\\indexes\\base.py\", line 5938, in _raise_if_missing\n",
      "    raise KeyError(f\"None of [{key}] are in the [{axis_name}]\")\n",
      "KeyError: \"None of [Index([  0.01410750036821859,  0.027155011364927848,   0.01832977161351103,\\n         0.04816531742153185,  0.003123925385861549,  0.010967869155054459,\\n       0.0020421350431490777,  0.014581580006563656,  0.050673505422872786,\\n        0.028922328850597385,\\n       ...\\n                         nan,                   nan,                   nan,\\n                         nan,                   nan,                   nan,\\n                         nan,                   nan,                   nan,\\n                         nan],\\n      dtype='float64', length=442)] are in the [index]\"\n",
      "\n",
      "--------------------------------------------------------------------------------\n",
      "1 fits failed with the following error:\n",
      "Traceback (most recent call last):\n",
      "  File \"C:\\Users\\MadhavKoodanaMadhu\\Documents\\MPMD\\Sem2\\Adv_Data_Analytics\\project\\venv\\lib\\site-packages\\sklearn\\model_selection\\_validation.py\", line 729, in _fit_and_score\n",
      "    estimator.fit(X_train, y_train, **fit_params)\n",
      "  File \"C:\\Users\\MadhavKoodanaMadhu\\Documents\\MPMD\\Sem2\\Adv_Data_Analytics\\project\\venv\\lib\\site-packages\\sklearn\\base.py\", line 1152, in wrapper\n",
      "    return fit_method(estimator, *args, **kwargs)\n",
      "  File \"C:\\Users\\MadhavKoodanaMadhu\\Documents\\MPMD\\Sem2\\Adv_Data_Analytics\\project\\venv\\lib\\site-packages\\imblearn\\pipeline.py\", line 329, in fit\n",
      "    Xt, yt = self._fit(X, y, routed_params)\n",
      "  File \"C:\\Users\\MadhavKoodanaMadhu\\Documents\\MPMD\\Sem2\\Adv_Data_Analytics\\project\\venv\\lib\\site-packages\\imblearn\\pipeline.py\", line 255, in _fit\n",
      "    X, fitted_transformer = fit_transform_one_cached(\n",
      "  File \"C:\\Users\\MadhavKoodanaMadhu\\Documents\\MPMD\\Sem2\\Adv_Data_Analytics\\project\\venv\\lib\\site-packages\\joblib\\memory.py\", line 312, in __call__\n",
      "    return self.func(*args, **kwargs)\n",
      "  File \"C:\\Users\\MadhavKoodanaMadhu\\Documents\\MPMD\\Sem2\\Adv_Data_Analytics\\project\\venv\\lib\\site-packages\\imblearn\\pipeline.py\", line 1104, in _fit_transform_one\n",
      "    res = transformer.fit_transform(X, y, **params.get(\"fit_transform\", {}))\n",
      "  File \"C:\\Users\\MadhavKoodanaMadhu\\Documents\\MPMD\\Sem2\\Adv_Data_Analytics\\project\\venv\\lib\\site-packages\\sklearn\\utils\\_set_output.py\", line 157, in wrapped\n",
      "    data_to_wrap = f(self, X, *args, **kwargs)\n",
      "  File \"C:\\Users\\MadhavKoodanaMadhu\\Documents\\MPMD\\Sem2\\Adv_Data_Analytics\\project\\venv\\lib\\site-packages\\sklearn\\base.py\", line 919, in fit_transform\n",
      "    return self.fit(X, y, **fit_params).transform(X)\n",
      "  File \"C:\\Users\\MadhavKoodanaMadhu\\AppData\\Local\\Temp\\ipykernel_9136\\1209428783.py\", line 24, in fit\n",
      "    if mi_series[col] < mi_series[row]:\n",
      "  File \"C:\\Users\\MadhavKoodanaMadhu\\Documents\\MPMD\\Sem2\\Adv_Data_Analytics\\project\\venv\\lib\\site-packages\\pandas\\core\\series.py\", line 1033, in __getitem__\n",
      "    return self._get_with(key)\n",
      "  File \"C:\\Users\\MadhavKoodanaMadhu\\Documents\\MPMD\\Sem2\\Adv_Data_Analytics\\project\\venv\\lib\\site-packages\\pandas\\core\\series.py\", line 1073, in _get_with\n",
      "    return self.loc[key]\n",
      "  File \"C:\\Users\\MadhavKoodanaMadhu\\Documents\\MPMD\\Sem2\\Adv_Data_Analytics\\project\\venv\\lib\\site-packages\\pandas\\core\\indexing.py\", line 1103, in __getitem__\n",
      "    return self._getitem_axis(maybe_callable, axis=axis)\n",
      "  File \"C:\\Users\\MadhavKoodanaMadhu\\Documents\\MPMD\\Sem2\\Adv_Data_Analytics\\project\\venv\\lib\\site-packages\\pandas\\core\\indexing.py\", line 1332, in _getitem_axis\n",
      "    return self._getitem_iterable(key, axis=axis)\n",
      "  File \"C:\\Users\\MadhavKoodanaMadhu\\Documents\\MPMD\\Sem2\\Adv_Data_Analytics\\project\\venv\\lib\\site-packages\\pandas\\core\\indexing.py\", line 1272, in _getitem_iterable\n",
      "    keyarr, indexer = self._get_listlike_indexer(key, axis)\n",
      "  File \"C:\\Users\\MadhavKoodanaMadhu\\Documents\\MPMD\\Sem2\\Adv_Data_Analytics\\project\\venv\\lib\\site-packages\\pandas\\core\\indexing.py\", line 1462, in _get_listlike_indexer\n",
      "    keyarr, indexer = ax._get_indexer_strict(key, axis_name)\n",
      "  File \"C:\\Users\\MadhavKoodanaMadhu\\Documents\\MPMD\\Sem2\\Adv_Data_Analytics\\project\\venv\\lib\\site-packages\\pandas\\core\\indexes\\base.py\", line 5877, in _get_indexer_strict\n",
      "    self._raise_if_missing(keyarr, indexer, axis_name)\n",
      "  File \"C:\\Users\\MadhavKoodanaMadhu\\Documents\\MPMD\\Sem2\\Adv_Data_Analytics\\project\\venv\\lib\\site-packages\\pandas\\core\\indexes\\base.py\", line 5938, in _raise_if_missing\n",
      "    raise KeyError(f\"None of [{key}] are in the [{axis_name}]\")\n",
      "KeyError: \"None of [Index([  0.01218220644724665,  0.005686363256312045,  0.010940970803253396,\\n         0.05024001552565438, 0.0004077151770163376,   0.00782147944061684,\\n         0.01338989191423071,  0.009037412086890214,   0.03891900530795859,\\n        0.029138470934071237,\\n       ...\\n                         nan,                   nan,                   nan,\\n                         nan,                   nan,                   nan,\\n                         nan,                   nan,                   nan,\\n                         nan],\\n      dtype='float64', length=442)] are in the [index]\"\n",
      "\n",
      "--------------------------------------------------------------------------------\n",
      "1 fits failed with the following error:\n",
      "Traceback (most recent call last):\n",
      "  File \"C:\\Users\\MadhavKoodanaMadhu\\Documents\\MPMD\\Sem2\\Adv_Data_Analytics\\project\\venv\\lib\\site-packages\\sklearn\\model_selection\\_validation.py\", line 729, in _fit_and_score\n",
      "    estimator.fit(X_train, y_train, **fit_params)\n",
      "  File \"C:\\Users\\MadhavKoodanaMadhu\\Documents\\MPMD\\Sem2\\Adv_Data_Analytics\\project\\venv\\lib\\site-packages\\sklearn\\base.py\", line 1152, in wrapper\n",
      "    return fit_method(estimator, *args, **kwargs)\n",
      "  File \"C:\\Users\\MadhavKoodanaMadhu\\Documents\\MPMD\\Sem2\\Adv_Data_Analytics\\project\\venv\\lib\\site-packages\\imblearn\\pipeline.py\", line 329, in fit\n",
      "    Xt, yt = self._fit(X, y, routed_params)\n",
      "  File \"C:\\Users\\MadhavKoodanaMadhu\\Documents\\MPMD\\Sem2\\Adv_Data_Analytics\\project\\venv\\lib\\site-packages\\imblearn\\pipeline.py\", line 255, in _fit\n",
      "    X, fitted_transformer = fit_transform_one_cached(\n",
      "  File \"C:\\Users\\MadhavKoodanaMadhu\\Documents\\MPMD\\Sem2\\Adv_Data_Analytics\\project\\venv\\lib\\site-packages\\joblib\\memory.py\", line 312, in __call__\n",
      "    return self.func(*args, **kwargs)\n",
      "  File \"C:\\Users\\MadhavKoodanaMadhu\\Documents\\MPMD\\Sem2\\Adv_Data_Analytics\\project\\venv\\lib\\site-packages\\imblearn\\pipeline.py\", line 1104, in _fit_transform_one\n",
      "    res = transformer.fit_transform(X, y, **params.get(\"fit_transform\", {}))\n",
      "  File \"C:\\Users\\MadhavKoodanaMadhu\\Documents\\MPMD\\Sem2\\Adv_Data_Analytics\\project\\venv\\lib\\site-packages\\sklearn\\utils\\_set_output.py\", line 157, in wrapped\n",
      "    data_to_wrap = f(self, X, *args, **kwargs)\n",
      "  File \"C:\\Users\\MadhavKoodanaMadhu\\Documents\\MPMD\\Sem2\\Adv_Data_Analytics\\project\\venv\\lib\\site-packages\\sklearn\\base.py\", line 919, in fit_transform\n",
      "    return self.fit(X, y, **fit_params).transform(X)\n",
      "  File \"C:\\Users\\MadhavKoodanaMadhu\\AppData\\Local\\Temp\\ipykernel_9136\\1209428783.py\", line 24, in fit\n",
      "    if mi_series[col] < mi_series[row]:\n",
      "  File \"C:\\Users\\MadhavKoodanaMadhu\\Documents\\MPMD\\Sem2\\Adv_Data_Analytics\\project\\venv\\lib\\site-packages\\pandas\\core\\series.py\", line 1033, in __getitem__\n",
      "    return self._get_with(key)\n",
      "  File \"C:\\Users\\MadhavKoodanaMadhu\\Documents\\MPMD\\Sem2\\Adv_Data_Analytics\\project\\venv\\lib\\site-packages\\pandas\\core\\series.py\", line 1073, in _get_with\n",
      "    return self.loc[key]\n",
      "  File \"C:\\Users\\MadhavKoodanaMadhu\\Documents\\MPMD\\Sem2\\Adv_Data_Analytics\\project\\venv\\lib\\site-packages\\pandas\\core\\indexing.py\", line 1103, in __getitem__\n",
      "    return self._getitem_axis(maybe_callable, axis=axis)\n",
      "  File \"C:\\Users\\MadhavKoodanaMadhu\\Documents\\MPMD\\Sem2\\Adv_Data_Analytics\\project\\venv\\lib\\site-packages\\pandas\\core\\indexing.py\", line 1332, in _getitem_axis\n",
      "    return self._getitem_iterable(key, axis=axis)\n",
      "  File \"C:\\Users\\MadhavKoodanaMadhu\\Documents\\MPMD\\Sem2\\Adv_Data_Analytics\\project\\venv\\lib\\site-packages\\pandas\\core\\indexing.py\", line 1272, in _getitem_iterable\n",
      "    keyarr, indexer = self._get_listlike_indexer(key, axis)\n",
      "  File \"C:\\Users\\MadhavKoodanaMadhu\\Documents\\MPMD\\Sem2\\Adv_Data_Analytics\\project\\venv\\lib\\site-packages\\pandas\\core\\indexing.py\", line 1462, in _get_listlike_indexer\n",
      "    keyarr, indexer = ax._get_indexer_strict(key, axis_name)\n",
      "  File \"C:\\Users\\MadhavKoodanaMadhu\\Documents\\MPMD\\Sem2\\Adv_Data_Analytics\\project\\venv\\lib\\site-packages\\pandas\\core\\indexes\\base.py\", line 5877, in _get_indexer_strict\n",
      "    self._raise_if_missing(keyarr, indexer, axis_name)\n",
      "  File \"C:\\Users\\MadhavKoodanaMadhu\\Documents\\MPMD\\Sem2\\Adv_Data_Analytics\\project\\venv\\lib\\site-packages\\pandas\\core\\indexes\\base.py\", line 5938, in _raise_if_missing\n",
      "    raise KeyError(f\"None of [{key}] are in the [{axis_name}]\")\n",
      "KeyError: \"None of [Index([ 0.009048108070956453,   0.01443930970144819, 0.0006481820673174435,\\n         0.03488683809476943,  0.002666967441844914,  0.006124143383796763,\\n        0.016489211838569776, 0.0077398567555756435,    0.0317384834007065,\\n        0.024529812069295318,\\n       ...\\n                         nan,                   nan,                   nan,\\n                         nan,                   nan,                   nan,\\n                         nan,                   nan,                   nan,\\n                         nan],\\n      dtype='float64', length=442)] are in the [index]\"\n",
      "\n",
      "--------------------------------------------------------------------------------\n",
      "1 fits failed with the following error:\n",
      "Traceback (most recent call last):\n",
      "  File \"C:\\Users\\MadhavKoodanaMadhu\\Documents\\MPMD\\Sem2\\Adv_Data_Analytics\\project\\venv\\lib\\site-packages\\sklearn\\model_selection\\_validation.py\", line 729, in _fit_and_score\n",
      "    estimator.fit(X_train, y_train, **fit_params)\n",
      "  File \"C:\\Users\\MadhavKoodanaMadhu\\Documents\\MPMD\\Sem2\\Adv_Data_Analytics\\project\\venv\\lib\\site-packages\\sklearn\\base.py\", line 1152, in wrapper\n",
      "    return fit_method(estimator, *args, **kwargs)\n",
      "  File \"C:\\Users\\MadhavKoodanaMadhu\\Documents\\MPMD\\Sem2\\Adv_Data_Analytics\\project\\venv\\lib\\site-packages\\imblearn\\pipeline.py\", line 329, in fit\n",
      "    Xt, yt = self._fit(X, y, routed_params)\n",
      "  File \"C:\\Users\\MadhavKoodanaMadhu\\Documents\\MPMD\\Sem2\\Adv_Data_Analytics\\project\\venv\\lib\\site-packages\\imblearn\\pipeline.py\", line 255, in _fit\n",
      "    X, fitted_transformer = fit_transform_one_cached(\n",
      "  File \"C:\\Users\\MadhavKoodanaMadhu\\Documents\\MPMD\\Sem2\\Adv_Data_Analytics\\project\\venv\\lib\\site-packages\\joblib\\memory.py\", line 312, in __call__\n",
      "    return self.func(*args, **kwargs)\n",
      "  File \"C:\\Users\\MadhavKoodanaMadhu\\Documents\\MPMD\\Sem2\\Adv_Data_Analytics\\project\\venv\\lib\\site-packages\\imblearn\\pipeline.py\", line 1104, in _fit_transform_one\n",
      "    res = transformer.fit_transform(X, y, **params.get(\"fit_transform\", {}))\n",
      "  File \"C:\\Users\\MadhavKoodanaMadhu\\Documents\\MPMD\\Sem2\\Adv_Data_Analytics\\project\\venv\\lib\\site-packages\\sklearn\\utils\\_set_output.py\", line 157, in wrapped\n",
      "    data_to_wrap = f(self, X, *args, **kwargs)\n",
      "  File \"C:\\Users\\MadhavKoodanaMadhu\\Documents\\MPMD\\Sem2\\Adv_Data_Analytics\\project\\venv\\lib\\site-packages\\sklearn\\base.py\", line 919, in fit_transform\n",
      "    return self.fit(X, y, **fit_params).transform(X)\n",
      "  File \"C:\\Users\\MadhavKoodanaMadhu\\AppData\\Local\\Temp\\ipykernel_9136\\1209428783.py\", line 24, in fit\n",
      "    if mi_series[col] < mi_series[row]:\n",
      "  File \"C:\\Users\\MadhavKoodanaMadhu\\Documents\\MPMD\\Sem2\\Adv_Data_Analytics\\project\\venv\\lib\\site-packages\\pandas\\core\\series.py\", line 1033, in __getitem__\n",
      "    return self._get_with(key)\n",
      "  File \"C:\\Users\\MadhavKoodanaMadhu\\Documents\\MPMD\\Sem2\\Adv_Data_Analytics\\project\\venv\\lib\\site-packages\\pandas\\core\\series.py\", line 1073, in _get_with\n",
      "    return self.loc[key]\n",
      "  File \"C:\\Users\\MadhavKoodanaMadhu\\Documents\\MPMD\\Sem2\\Adv_Data_Analytics\\project\\venv\\lib\\site-packages\\pandas\\core\\indexing.py\", line 1103, in __getitem__\n",
      "    return self._getitem_axis(maybe_callable, axis=axis)\n",
      "  File \"C:\\Users\\MadhavKoodanaMadhu\\Documents\\MPMD\\Sem2\\Adv_Data_Analytics\\project\\venv\\lib\\site-packages\\pandas\\core\\indexing.py\", line 1332, in _getitem_axis\n",
      "    return self._getitem_iterable(key, axis=axis)\n",
      "  File \"C:\\Users\\MadhavKoodanaMadhu\\Documents\\MPMD\\Sem2\\Adv_Data_Analytics\\project\\venv\\lib\\site-packages\\pandas\\core\\indexing.py\", line 1272, in _getitem_iterable\n",
      "    keyarr, indexer = self._get_listlike_indexer(key, axis)\n",
      "  File \"C:\\Users\\MadhavKoodanaMadhu\\Documents\\MPMD\\Sem2\\Adv_Data_Analytics\\project\\venv\\lib\\site-packages\\pandas\\core\\indexing.py\", line 1462, in _get_listlike_indexer\n",
      "    keyarr, indexer = ax._get_indexer_strict(key, axis_name)\n",
      "  File \"C:\\Users\\MadhavKoodanaMadhu\\Documents\\MPMD\\Sem2\\Adv_Data_Analytics\\project\\venv\\lib\\site-packages\\pandas\\core\\indexes\\base.py\", line 5877, in _get_indexer_strict\n",
      "    self._raise_if_missing(keyarr, indexer, axis_name)\n",
      "  File \"C:\\Users\\MadhavKoodanaMadhu\\Documents\\MPMD\\Sem2\\Adv_Data_Analytics\\project\\venv\\lib\\site-packages\\pandas\\core\\indexes\\base.py\", line 5938, in _raise_if_missing\n",
      "    raise KeyError(f\"None of [{key}] are in the [{axis_name}]\")\n",
      "KeyError: \"None of [Index([ 0.10948608015590265, 0.034158479499498386,  0.05973253216141909,\\n       0.028895768791244406,  0.01245693638424301,  0.04810360914318621,\\n       0.004773439552785495, 0.048209650275396934, 0.011414274548257575,\\n        0.09106870585555021,\\n       ...\\n                        nan,                  nan,                  nan,\\n                        nan,                  nan,                  nan,\\n                        nan,                  nan,                  nan,\\n                        nan],\\n      dtype='float64', length=442)] are in the [index]\"\n",
      "\n",
      "--------------------------------------------------------------------------------\n",
      "1 fits failed with the following error:\n",
      "Traceback (most recent call last):\n",
      "  File \"C:\\Users\\MadhavKoodanaMadhu\\Documents\\MPMD\\Sem2\\Adv_Data_Analytics\\project\\venv\\lib\\site-packages\\sklearn\\model_selection\\_validation.py\", line 729, in _fit_and_score\n",
      "    estimator.fit(X_train, y_train, **fit_params)\n",
      "  File \"C:\\Users\\MadhavKoodanaMadhu\\Documents\\MPMD\\Sem2\\Adv_Data_Analytics\\project\\venv\\lib\\site-packages\\sklearn\\base.py\", line 1152, in wrapper\n",
      "    return fit_method(estimator, *args, **kwargs)\n",
      "  File \"C:\\Users\\MadhavKoodanaMadhu\\Documents\\MPMD\\Sem2\\Adv_Data_Analytics\\project\\venv\\lib\\site-packages\\imblearn\\pipeline.py\", line 329, in fit\n",
      "    Xt, yt = self._fit(X, y, routed_params)\n",
      "  File \"C:\\Users\\MadhavKoodanaMadhu\\Documents\\MPMD\\Sem2\\Adv_Data_Analytics\\project\\venv\\lib\\site-packages\\imblearn\\pipeline.py\", line 255, in _fit\n",
      "    X, fitted_transformer = fit_transform_one_cached(\n",
      "  File \"C:\\Users\\MadhavKoodanaMadhu\\Documents\\MPMD\\Sem2\\Adv_Data_Analytics\\project\\venv\\lib\\site-packages\\joblib\\memory.py\", line 312, in __call__\n",
      "    return self.func(*args, **kwargs)\n",
      "  File \"C:\\Users\\MadhavKoodanaMadhu\\Documents\\MPMD\\Sem2\\Adv_Data_Analytics\\project\\venv\\lib\\site-packages\\imblearn\\pipeline.py\", line 1104, in _fit_transform_one\n",
      "    res = transformer.fit_transform(X, y, **params.get(\"fit_transform\", {}))\n",
      "  File \"C:\\Users\\MadhavKoodanaMadhu\\Documents\\MPMD\\Sem2\\Adv_Data_Analytics\\project\\venv\\lib\\site-packages\\sklearn\\utils\\_set_output.py\", line 157, in wrapped\n",
      "    data_to_wrap = f(self, X, *args, **kwargs)\n",
      "  File \"C:\\Users\\MadhavKoodanaMadhu\\Documents\\MPMD\\Sem2\\Adv_Data_Analytics\\project\\venv\\lib\\site-packages\\sklearn\\base.py\", line 919, in fit_transform\n",
      "    return self.fit(X, y, **fit_params).transform(X)\n",
      "  File \"C:\\Users\\MadhavKoodanaMadhu\\AppData\\Local\\Temp\\ipykernel_9136\\1209428783.py\", line 24, in fit\n",
      "    if mi_series[col] < mi_series[row]:\n",
      "  File \"C:\\Users\\MadhavKoodanaMadhu\\Documents\\MPMD\\Sem2\\Adv_Data_Analytics\\project\\venv\\lib\\site-packages\\pandas\\core\\series.py\", line 1033, in __getitem__\n",
      "    return self._get_with(key)\n",
      "  File \"C:\\Users\\MadhavKoodanaMadhu\\Documents\\MPMD\\Sem2\\Adv_Data_Analytics\\project\\venv\\lib\\site-packages\\pandas\\core\\series.py\", line 1073, in _get_with\n",
      "    return self.loc[key]\n",
      "  File \"C:\\Users\\MadhavKoodanaMadhu\\Documents\\MPMD\\Sem2\\Adv_Data_Analytics\\project\\venv\\lib\\site-packages\\pandas\\core\\indexing.py\", line 1103, in __getitem__\n",
      "    return self._getitem_axis(maybe_callable, axis=axis)\n",
      "  File \"C:\\Users\\MadhavKoodanaMadhu\\Documents\\MPMD\\Sem2\\Adv_Data_Analytics\\project\\venv\\lib\\site-packages\\pandas\\core\\indexing.py\", line 1332, in _getitem_axis\n",
      "    return self._getitem_iterable(key, axis=axis)\n",
      "  File \"C:\\Users\\MadhavKoodanaMadhu\\Documents\\MPMD\\Sem2\\Adv_Data_Analytics\\project\\venv\\lib\\site-packages\\pandas\\core\\indexing.py\", line 1272, in _getitem_iterable\n",
      "    keyarr, indexer = self._get_listlike_indexer(key, axis)\n",
      "  File \"C:\\Users\\MadhavKoodanaMadhu\\Documents\\MPMD\\Sem2\\Adv_Data_Analytics\\project\\venv\\lib\\site-packages\\pandas\\core\\indexing.py\", line 1462, in _get_listlike_indexer\n",
      "    keyarr, indexer = ax._get_indexer_strict(key, axis_name)\n",
      "  File \"C:\\Users\\MadhavKoodanaMadhu\\Documents\\MPMD\\Sem2\\Adv_Data_Analytics\\project\\venv\\lib\\site-packages\\pandas\\core\\indexes\\base.py\", line 5877, in _get_indexer_strict\n",
      "    self._raise_if_missing(keyarr, indexer, axis_name)\n",
      "  File \"C:\\Users\\MadhavKoodanaMadhu\\Documents\\MPMD\\Sem2\\Adv_Data_Analytics\\project\\venv\\lib\\site-packages\\pandas\\core\\indexes\\base.py\", line 5938, in _raise_if_missing\n",
      "    raise KeyError(f\"None of [{key}] are in the [{axis_name}]\")\n",
      "KeyError: \"None of [Index([   0.02049387910809141,   0.024490769464672463,   0.007289379035810709,\\n          0.05295601679991763, 0.00045536041777077433,  0.0005655325534242556,\\n         0.013912846087241977,   0.010275737120102343,   0.023781638498585934,\\n         0.010415057969147606,\\n       ...\\n                          nan,                    nan,                    nan,\\n                          nan,                    nan,                    nan,\\n                          nan,                    nan,                    nan,\\n                          nan],\\n      dtype='float64', length=442)] are in the [index]\"\n",
      "\n"
     ]
    }
   ],
   "source": [
    "results2 = []\n",
    "try:\n",
    "    print(\"[Pipeline] Creating pipeline...\")\n",
    "    pipe = ImbPipeline([\n",
    "        ('impute', KNNImputer(n_neighbors=5)),\n",
    "        ('corr', CorrelationFilter(threshold=0.8)),\n",
    "        ('select', FeatureSelector(method='boruta', estimator=None, n_estimators=100, max_iter=100)),\n",
    "        ('scale', StandardScaler()),\n",
    "        ('balance', SMOTE(random_state=42, n_jobs=-1)),\n",
    "        ('clf', LogisticRegression(max_iter=1000, random_state=42, n_jobs=-1))\n",
    "    ])\n",
    "\n",
    "    # Define the pipeline name for logging\n",
    "    name = 'model_' # f\"{imp_name}_{fs_name}_{bal_name}_{model_name}\"\n",
    "    print(f\"\\nTraining {name}...\")\n",
    "\n",
    "    # Start timing\n",
    "    start_time = time.time()\n",
    "\n",
    "    # Cross-validation setup\n",
    "    cv = StratifiedKFold(n_splits=5, shuffle=True, random_state=42)\n",
    "    print(\"[Pipeline] Starting cross-validation...\")\n",
    "    scores = cross_validate(pipe, X_train_cleaned, y_train_arr, scoring=scoring, cv=cv)\n",
    "\n",
    "    # Measure execution time\n",
    "    execution_time = round(time.time() - start_time, 2)\n",
    "    print(\"[Pipeline] Cross-validation complete.\")\n",
    "\n",
    "    pipe.fit(X_train_cleaned, y_train_arr)\n",
    "\n",
    "    # Get the number of features selected after correlation and feature selection\n",
    "    selector_step = pipe.named_steps.get('select', None)\n",
    "    n_features_selected = None\n",
    "    \n",
    "    if selector_step is not None and hasattr(selector_step, 'get_support'):\n",
    "        n_features_selected = np.sum(selector_step.get_support())\n",
    "    else:\n",
    "        # fallback if get_support isn't available\n",
    "        n_features_selected = 'unknown'\n",
    "    \n",
    "    results2.append({\n",
    "        'Pipeline': name,\n",
    "        'F1': np.mean(scores['test_f1']),\n",
    "        'Precision': np.mean(scores['test_precision']),\n",
    "        'Recall': np.mean(scores['test_recall']),\n",
    "        'Num Features Selected': n_features_selected,\n",
    "        'Execution Time (s)': execution_time\n",
    "    })\n",
    "                         \n",
    "except Exception as e:\n",
    "    print(f\"Pipeline {name} failed: {e}\")"
   ]
  },
  {
   "cell_type": "code",
   "execution_count": 48,
   "id": "51926e68-f086-4b51-a356-0f04dc514b45",
   "metadata": {},
   "outputs": [
    {
     "data": {
      "text/plain": [
       "[{'Pipeline': 'model_',\n",
       "  'F1': 0.1309125656951744,\n",
       "  'Precision': 0.18722943722943722,\n",
       "  'Recall': 0.1025,\n",
       "  'Num Features Selected': 25,\n",
       "  'Execution Time (s)': 283.03}]"
      ]
     },
     "execution_count": 48,
     "metadata": {},
     "output_type": "execute_result"
    }
   ],
   "source": [
    "results2"
   ]
  },
  {
   "cell_type": "code",
   "execution_count": null,
   "id": "934ee592-84fb-4f2d-9fa6-38e7fc7983d0",
   "metadata": {},
   "outputs": [],
   "source": []
  }
 ],
 "metadata": {
  "kernelspec": {
   "display_name": "Python 3 (ipykernel)",
   "language": "python",
   "name": "python3"
  },
  "language_info": {
   "codemirror_mode": {
    "name": "ipython",
    "version": 3
   },
   "file_extension": ".py",
   "mimetype": "text/x-python",
   "name": "python",
   "nbconvert_exporter": "python",
   "pygments_lexer": "ipython3",
   "version": "3.8.20"
  }
 },
 "nbformat": 4,
 "nbformat_minor": 5
}
