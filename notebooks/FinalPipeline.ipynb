{
 "cells": [
  {
   "cell_type": "code",
   "metadata": {
    "id": "Tm-j1KszlMBe",
    "ExecuteTime": {
     "end_time": "2025-07-02T17:18:41.010147Z",
     "start_time": "2025-07-02T17:18:37.580999Z"
    }
   },
   "source": [
    "# Standard Libraries\n",
    "import os\n",
    "import time\n",
    "import warnings\n",
    "from collections import Counter\n",
    "\n",
    "# Scientific Computing\n",
    "import numpy as np\n",
    "import pandas as pd\n",
    "\n",
    "# Visualization\n",
    "import matplotlib.pyplot as plt\n",
    "import seaborn as sns\n",
    "\n",
    "# Sklearn - Model Selection & Evaluation\n",
    "from sklearn.model_selection import (\n",
    "    train_test_split, StratifiedKFold, cross_validate, cross_val_predict, GridSearchCV\n",
    ")\n",
    "from sklearn.metrics import (\n",
    "    f1_score, precision_score, recall_score, confusion_matrix,\n",
    "    ConfusionMatrixDisplay, precision_recall_curve, roc_curve, roc_auc_score,\n",
    "    make_scorer\n",
    ")\n",
    "from sklearn.exceptions import ConvergenceWarning\n",
    "\n",
    "# Sklearn - Preprocessing & Imputation\n",
    "from sklearn.preprocessing import StandardScaler, RobustScaler, MaxAbsScaler\n",
    "from sklearn.impute import SimpleImputer, KNNImputer\n",
    "from sklearn.experimental import enable_iterative_imputer\n",
    "from sklearn.impute import IterativeImputer\n",
    "\n",
    "# Sklearn - Models & Feature Selection\n",
    "from sklearn.linear_model import LogisticRegression, Lasso\n",
    "from sklearn.ensemble import RandomForestClassifier\n",
    "from sklearn.svm import SVC\n",
    "from sklearn.feature_selection import RFE, SelectFromModel, mutual_info_classif, SelectKBest\n",
    "from sklearn.calibration import CalibratedClassifierCV\n",
    "from sklearn.discriminant_analysis import LinearDiscriminantAnalysis\n",
    "from sklearn.decomposition import PCA  # To be removed if not used\n",
    "from sklearn.base import BaseEstimator, TransformerMixin, clone\n",
    "\n",
    "# Imbalanced-Learn\n",
    "from imblearn.pipeline import Pipeline as ImbPipeline\n",
    "from imblearn.over_sampling import SMOTE, ADASYN, RandomOverSampler\n",
    "\n",
    "# Others\n",
    "from xgboost import XGBClassifier\n",
    "from boruta import BorutaPy\n",
    "from joblib import Parallel, delayed\n",
    "\n",
    "# Warnings\n",
    "warnings.filterwarnings(\"ignore\", category=ConvergenceWarning)"
   ],
   "outputs": [],
   "execution_count": 3
  },
  {
   "cell_type": "markdown",
   "metadata": {
    "id": "j8TSObWspJu4"
   },
   "source": [
    "## Data Loading"
   ]
  },
  {
   "cell_type": "code",
   "metadata": {
    "colab": {
     "base_uri": "https://localhost:8080/",
     "height": 255
    },
    "id": "PL9xJxuamnY4",
    "outputId": "1d8d5246-5d6e-4dea-a57d-77b7e8b18cdc",
    "ExecuteTime": {
     "end_time": "2025-07-02T17:18:46.443385Z",
     "start_time": "2025-07-02T17:18:42.405793Z"
    }
   },
   "source": [
    "secom_data_url = \"https://archive.ics.uci.edu/ml/machine-learning-databases/secom/secom.data\"\n",
    "X = pd.read_csv(secom_data_url, sep=' ', header=None)\n",
    "feature_names = [f'feature{i+1}' for i in range(X.shape[1])]\n",
    "X.columns = feature_names\n",
    "X.head()"
   ],
   "outputs": [
    {
     "data": {
      "text/plain": [
       "   feature1  feature2   feature3   feature4  feature5  feature6  feature7  \\\n",
       "0   3030.93   2564.00  2187.7333  1411.1265    1.3602     100.0   97.6133   \n",
       "1   3095.78   2465.14  2230.4222  1463.6606    0.8294     100.0  102.3433   \n",
       "2   2932.61   2559.94  2186.4111  1698.0172    1.5102     100.0   95.4878   \n",
       "3   2988.72   2479.90  2199.0333   909.7926    1.3204     100.0  104.2367   \n",
       "4   3032.24   2502.87  2233.3667  1326.5200    1.5334     100.0  100.3967   \n",
       "\n",
       "   feature8  feature9  feature10  ...  feature581  feature582  feature583  \\\n",
       "0    0.1242    1.5005     0.0162  ...         NaN         NaN      0.5005   \n",
       "1    0.1247    1.4966    -0.0005  ...      0.0060    208.2045      0.5019   \n",
       "2    0.1241    1.4436     0.0041  ...      0.0148     82.8602      0.4958   \n",
       "3    0.1217    1.4882    -0.0124  ...      0.0044     73.8432      0.4990   \n",
       "4    0.1235    1.5031    -0.0031  ...         NaN         NaN      0.4800   \n",
       "\n",
       "   feature584  feature585  feature586  feature587  feature588  feature589  \\\n",
       "0      0.0118      0.0035      2.3630         NaN         NaN         NaN   \n",
       "1      0.0223      0.0055      4.4447      0.0096      0.0201      0.0060   \n",
       "2      0.0157      0.0039      3.1745      0.0584      0.0484      0.0148   \n",
       "3      0.0103      0.0025      2.0544      0.0202      0.0149      0.0044   \n",
       "4      0.4766      0.1045     99.3032      0.0202      0.0149      0.0044   \n",
       "\n",
       "   feature590  \n",
       "0         NaN  \n",
       "1    208.2045  \n",
       "2     82.8602  \n",
       "3     73.8432  \n",
       "4     73.8432  \n",
       "\n",
       "[5 rows x 590 columns]"
      ],
      "text/html": [
       "<div>\n",
       "<style scoped>\n",
       "    .dataframe tbody tr th:only-of-type {\n",
       "        vertical-align: middle;\n",
       "    }\n",
       "\n",
       "    .dataframe tbody tr th {\n",
       "        vertical-align: top;\n",
       "    }\n",
       "\n",
       "    .dataframe thead th {\n",
       "        text-align: right;\n",
       "    }\n",
       "</style>\n",
       "<table border=\"1\" class=\"dataframe\">\n",
       "  <thead>\n",
       "    <tr style=\"text-align: right;\">\n",
       "      <th></th>\n",
       "      <th>feature1</th>\n",
       "      <th>feature2</th>\n",
       "      <th>feature3</th>\n",
       "      <th>feature4</th>\n",
       "      <th>feature5</th>\n",
       "      <th>feature6</th>\n",
       "      <th>feature7</th>\n",
       "      <th>feature8</th>\n",
       "      <th>feature9</th>\n",
       "      <th>feature10</th>\n",
       "      <th>...</th>\n",
       "      <th>feature581</th>\n",
       "      <th>feature582</th>\n",
       "      <th>feature583</th>\n",
       "      <th>feature584</th>\n",
       "      <th>feature585</th>\n",
       "      <th>feature586</th>\n",
       "      <th>feature587</th>\n",
       "      <th>feature588</th>\n",
       "      <th>feature589</th>\n",
       "      <th>feature590</th>\n",
       "    </tr>\n",
       "  </thead>\n",
       "  <tbody>\n",
       "    <tr>\n",
       "      <th>0</th>\n",
       "      <td>3030.93</td>\n",
       "      <td>2564.00</td>\n",
       "      <td>2187.7333</td>\n",
       "      <td>1411.1265</td>\n",
       "      <td>1.3602</td>\n",
       "      <td>100.0</td>\n",
       "      <td>97.6133</td>\n",
       "      <td>0.1242</td>\n",
       "      <td>1.5005</td>\n",
       "      <td>0.0162</td>\n",
       "      <td>...</td>\n",
       "      <td>NaN</td>\n",
       "      <td>NaN</td>\n",
       "      <td>0.5005</td>\n",
       "      <td>0.0118</td>\n",
       "      <td>0.0035</td>\n",
       "      <td>2.3630</td>\n",
       "      <td>NaN</td>\n",
       "      <td>NaN</td>\n",
       "      <td>NaN</td>\n",
       "      <td>NaN</td>\n",
       "    </tr>\n",
       "    <tr>\n",
       "      <th>1</th>\n",
       "      <td>3095.78</td>\n",
       "      <td>2465.14</td>\n",
       "      <td>2230.4222</td>\n",
       "      <td>1463.6606</td>\n",
       "      <td>0.8294</td>\n",
       "      <td>100.0</td>\n",
       "      <td>102.3433</td>\n",
       "      <td>0.1247</td>\n",
       "      <td>1.4966</td>\n",
       "      <td>-0.0005</td>\n",
       "      <td>...</td>\n",
       "      <td>0.0060</td>\n",
       "      <td>208.2045</td>\n",
       "      <td>0.5019</td>\n",
       "      <td>0.0223</td>\n",
       "      <td>0.0055</td>\n",
       "      <td>4.4447</td>\n",
       "      <td>0.0096</td>\n",
       "      <td>0.0201</td>\n",
       "      <td>0.0060</td>\n",
       "      <td>208.2045</td>\n",
       "    </tr>\n",
       "    <tr>\n",
       "      <th>2</th>\n",
       "      <td>2932.61</td>\n",
       "      <td>2559.94</td>\n",
       "      <td>2186.4111</td>\n",
       "      <td>1698.0172</td>\n",
       "      <td>1.5102</td>\n",
       "      <td>100.0</td>\n",
       "      <td>95.4878</td>\n",
       "      <td>0.1241</td>\n",
       "      <td>1.4436</td>\n",
       "      <td>0.0041</td>\n",
       "      <td>...</td>\n",
       "      <td>0.0148</td>\n",
       "      <td>82.8602</td>\n",
       "      <td>0.4958</td>\n",
       "      <td>0.0157</td>\n",
       "      <td>0.0039</td>\n",
       "      <td>3.1745</td>\n",
       "      <td>0.0584</td>\n",
       "      <td>0.0484</td>\n",
       "      <td>0.0148</td>\n",
       "      <td>82.8602</td>\n",
       "    </tr>\n",
       "    <tr>\n",
       "      <th>3</th>\n",
       "      <td>2988.72</td>\n",
       "      <td>2479.90</td>\n",
       "      <td>2199.0333</td>\n",
       "      <td>909.7926</td>\n",
       "      <td>1.3204</td>\n",
       "      <td>100.0</td>\n",
       "      <td>104.2367</td>\n",
       "      <td>0.1217</td>\n",
       "      <td>1.4882</td>\n",
       "      <td>-0.0124</td>\n",
       "      <td>...</td>\n",
       "      <td>0.0044</td>\n",
       "      <td>73.8432</td>\n",
       "      <td>0.4990</td>\n",
       "      <td>0.0103</td>\n",
       "      <td>0.0025</td>\n",
       "      <td>2.0544</td>\n",
       "      <td>0.0202</td>\n",
       "      <td>0.0149</td>\n",
       "      <td>0.0044</td>\n",
       "      <td>73.8432</td>\n",
       "    </tr>\n",
       "    <tr>\n",
       "      <th>4</th>\n",
       "      <td>3032.24</td>\n",
       "      <td>2502.87</td>\n",
       "      <td>2233.3667</td>\n",
       "      <td>1326.5200</td>\n",
       "      <td>1.5334</td>\n",
       "      <td>100.0</td>\n",
       "      <td>100.3967</td>\n",
       "      <td>0.1235</td>\n",
       "      <td>1.5031</td>\n",
       "      <td>-0.0031</td>\n",
       "      <td>...</td>\n",
       "      <td>NaN</td>\n",
       "      <td>NaN</td>\n",
       "      <td>0.4800</td>\n",
       "      <td>0.4766</td>\n",
       "      <td>0.1045</td>\n",
       "      <td>99.3032</td>\n",
       "      <td>0.0202</td>\n",
       "      <td>0.0149</td>\n",
       "      <td>0.0044</td>\n",
       "      <td>73.8432</td>\n",
       "    </tr>\n",
       "  </tbody>\n",
       "</table>\n",
       "<p>5 rows × 590 columns</p>\n",
       "</div>"
      ]
     },
     "execution_count": 4,
     "metadata": {},
     "output_type": "execute_result"
    }
   ],
   "execution_count": 4
  },
  {
   "cell_type": "code",
   "metadata": {
    "colab": {
     "base_uri": "https://localhost:8080/"
    },
    "id": "ip19MtovoMly",
    "outputId": "605f6212-5783-4d30-bbf6-e46d47188fad",
    "ExecuteTime": {
     "end_time": "2025-07-02T17:18:49.597247Z",
     "start_time": "2025-07-02T17:18:49.587041Z"
    }
   },
   "source": [
    "X.shape"
   ],
   "outputs": [
    {
     "data": {
      "text/plain": [
       "(1567, 590)"
      ]
     },
     "execution_count": 5,
     "metadata": {},
     "output_type": "execute_result"
    }
   ],
   "execution_count": 5
  },
  {
   "cell_type": "code",
   "metadata": {
    "colab": {
     "base_uri": "https://localhost:8080/",
     "height": 206
    },
    "id": "0AGYPpc0oR4S",
    "outputId": "b661b7c7-45c9-4a7b-a04a-260900255832",
    "ExecuteTime": {
     "end_time": "2025-07-02T17:18:52.645980Z",
     "start_time": "2025-07-02T17:18:51.612427Z"
    }
   },
   "source": [
    "secom_labels_url = \"https://archive.ics.uci.edu/ml/machine-learning-databases/secom/secom_labels.data\"\n",
    "y = pd.read_csv(secom_labels_url, sep=' ', header=None)\n",
    "label_columns = ['label', 'date_time']\n",
    "y.columns = label_columns\n",
    "y['label'] = y['label'].replace(-1, 0)\n",
    "y.head()"
   ],
   "outputs": [
    {
     "data": {
      "text/plain": [
       "   label            date_time\n",
       "0      0  19/07/2008 11:55:00\n",
       "1      0  19/07/2008 12:32:00\n",
       "2      1  19/07/2008 13:17:00\n",
       "3      0  19/07/2008 14:43:00\n",
       "4      0  19/07/2008 15:22:00"
      ],
      "text/html": [
       "<div>\n",
       "<style scoped>\n",
       "    .dataframe tbody tr th:only-of-type {\n",
       "        vertical-align: middle;\n",
       "    }\n",
       "\n",
       "    .dataframe tbody tr th {\n",
       "        vertical-align: top;\n",
       "    }\n",
       "\n",
       "    .dataframe thead th {\n",
       "        text-align: right;\n",
       "    }\n",
       "</style>\n",
       "<table border=\"1\" class=\"dataframe\">\n",
       "  <thead>\n",
       "    <tr style=\"text-align: right;\">\n",
       "      <th></th>\n",
       "      <th>label</th>\n",
       "      <th>date_time</th>\n",
       "    </tr>\n",
       "  </thead>\n",
       "  <tbody>\n",
       "    <tr>\n",
       "      <th>0</th>\n",
       "      <td>0</td>\n",
       "      <td>19/07/2008 11:55:00</td>\n",
       "    </tr>\n",
       "    <tr>\n",
       "      <th>1</th>\n",
       "      <td>0</td>\n",
       "      <td>19/07/2008 12:32:00</td>\n",
       "    </tr>\n",
       "    <tr>\n",
       "      <th>2</th>\n",
       "      <td>1</td>\n",
       "      <td>19/07/2008 13:17:00</td>\n",
       "    </tr>\n",
       "    <tr>\n",
       "      <th>3</th>\n",
       "      <td>0</td>\n",
       "      <td>19/07/2008 14:43:00</td>\n",
       "    </tr>\n",
       "    <tr>\n",
       "      <th>4</th>\n",
       "      <td>0</td>\n",
       "      <td>19/07/2008 15:22:00</td>\n",
       "    </tr>\n",
       "  </tbody>\n",
       "</table>\n",
       "</div>"
      ]
     },
     "execution_count": 6,
     "metadata": {},
     "output_type": "execute_result"
    }
   ],
   "execution_count": 6
  },
  {
   "cell_type": "code",
   "metadata": {
    "colab": {
     "base_uri": "https://localhost:8080/"
    },
    "id": "8ArYc6XPovjG",
    "outputId": "ec6cfb46-400f-4ab0-8b05-ed9a432fa524",
    "ExecuteTime": {
     "end_time": "2025-07-02T17:18:54.912199Z",
     "start_time": "2025-07-02T17:18:54.904641Z"
    }
   },
   "source": [
    "y.shape"
   ],
   "outputs": [
    {
     "data": {
      "text/plain": [
       "(1567, 2)"
      ]
     },
     "execution_count": 7,
     "metadata": {},
     "output_type": "execute_result"
    }
   ],
   "execution_count": 7
  },
  {
   "cell_type": "code",
   "metadata": {
    "colab": {
     "base_uri": "https://localhost:8080/",
     "height": 178
    },
    "id": "NAQrP1gpoxVC",
    "outputId": "d4d220d9-3a56-40e2-c7f1-aab9756636ce",
    "ExecuteTime": {
     "end_time": "2025-07-02T17:18:56.108704Z",
     "start_time": "2025-07-02T17:18:56.097640Z"
    }
   },
   "source": [
    "y['label'].value_counts(normalize=True)"
   ],
   "outputs": [
    {
     "data": {
      "text/plain": [
       "label\n",
       "0    0.933631\n",
       "1    0.066369\n",
       "Name: proportion, dtype: float64"
      ]
     },
     "execution_count": 8,
     "metadata": {},
     "output_type": "execute_result"
    }
   ],
   "execution_count": 8
  },
  {
   "cell_type": "markdown",
   "metadata": {
    "id": "1phv7UWNpNuF"
   },
   "source": [
    "## Train-Test Split and initial analysis"
   ]
  },
  {
   "cell_type": "code",
   "metadata": {
    "id": "VK2333gzpDTD",
    "ExecuteTime": {
     "end_time": "2025-07-02T17:18:58.356797Z",
     "start_time": "2025-07-02T17:18:58.324803Z"
    }
   },
   "source": [
    "# 80% train 20% test\n",
    "X_train, X_test, y_train, y_test = train_test_split(\n",
    "    X, y,\n",
    "    test_size=0.2,\n",
    "    stratify=y['label'],\n",
    "    random_state=42\n",
    ")"
   ],
   "outputs": [],
   "execution_count": 9
  },
  {
   "cell_type": "code",
   "metadata": {
    "colab": {
     "base_uri": "https://localhost:8080/"
    },
    "id": "N3lQqRUUpnC5",
    "outputId": "31482bac-7f89-43c3-a003-66cb150c5b3b",
    "ExecuteTime": {
     "end_time": "2025-07-02T17:19:00.463840Z",
     "start_time": "2025-07-02T17:19:00.460938Z"
    }
   },
   "source": [
    "# Check the sizes of the resulting datasets\n",
    "print(f\"Training set size: {X_train.shape[0]}, Test set size: {X_test.shape[0]}\")"
   ],
   "outputs": [
    {
     "name": "stdout",
     "output_type": "stream",
     "text": [
      "Training set size: 1253, Test set size: 314\n"
     ]
    }
   ],
   "execution_count": 10
  },
  {
   "cell_type": "code",
   "metadata": {
    "colab": {
     "base_uri": "https://localhost:8080/"
    },
    "id": "CtLphdsGpreo",
    "outputId": "aea046e2-66d3-4927-e624-ff9d077c9cc2",
    "ExecuteTime": {
     "end_time": "2025-07-02T17:19:01.699793Z",
     "start_time": "2025-07-02T17:19:01.680505Z"
    }
   },
   "source": [
    "# Checking Class Distributions after splitting the data\n",
    "print('Original label distribution: ')\n",
    "print(y['label'].value_counts(normalize=True))\n",
    "\n",
    "print('\\nTraining label distribution: ')\n",
    "print(y_train['label'].value_counts(normalize=True))\n",
    "\n",
    "print('\\nTest label distribution: ')\n",
    "print(y_test['label'].value_counts(normalize=True))"
   ],
   "outputs": [
    {
     "name": "stdout",
     "output_type": "stream",
     "text": [
      "Original label distribution: \n",
      "label\n",
      "0    0.933631\n",
      "1    0.066369\n",
      "Name: proportion, dtype: float64\n",
      "\n",
      "Training label distribution: \n",
      "label\n",
      "0    0.933759\n",
      "1    0.066241\n",
      "Name: proportion, dtype: float64\n",
      "\n",
      "Test label distribution: \n",
      "label\n",
      "0    0.933121\n",
      "1    0.066879\n",
      "Name: proportion, dtype: float64\n"
     ]
    }
   ],
   "execution_count": 11
  },
  {
   "cell_type": "code",
   "metadata": {
    "colab": {
     "base_uri": "https://localhost:8080/",
     "height": 877
    },
    "id": "YaU1npLDpuUI",
    "outputId": "c02b1031-80d5-4d20-b927-3f2b1f4fca5f",
    "ExecuteTime": {
     "end_time": "2025-07-02T17:19:05.924679Z",
     "start_time": "2025-07-02T17:19:04.655335Z"
    }
   },
   "source": [
    "X_train.sample(5, axis=1, random_state=42).hist(bins=30, figsize=(15, 10))\n",
    "plt.suptitle('Histogram of 5 random features in the train set')\n",
    "plt.show()"
   ],
   "outputs": [
    {
     "data": {
      "text/plain": [
       "<Figure size 1500x1000 with 6 Axes>"
      ],
      "image/png": "[encoded data removed]"
     },
     "metadata": {},
     "output_type": "display_data"
    }
   ],
   "execution_count": 12
  },
  {
   "cell_type": "code",
   "metadata": {
    "colab": {
     "base_uri": "https://localhost:8080/"
    },
    "id": "G-g7VbR-p3yv",
    "outputId": "ad6e3b03-bc16-476f-d5cd-8c07c52d67c2",
    "ExecuteTime": {
     "end_time": "2025-07-02T17:19:15.016829Z",
     "start_time": "2025-07-02T17:19:14.956520Z"
    }
   },
   "source": [
    "# Checking for duplicate rows\n",
    "duplicates = X_train.duplicated()\n",
    "\n",
    "# Count the number of duplicates\n",
    "no_of_duplicates = duplicates.sum()\n",
    "print(f'Number of duplicated rows in X_train: {no_of_duplicates}')"
   ],
   "outputs": [
    {
     "name": "stdout",
     "output_type": "stream",
     "text": [
      "Number of duplicated rows in X_train: 0\n"
     ]
    }
   ],
   "execution_count": 13
  },
  {
   "cell_type": "code",
   "metadata": {
    "colab": {
     "base_uri": "https://localhost:8080/",
     "height": 607
    },
    "id": "8jPTpeU-p9IX",
    "outputId": "dd1b47ab-d378-4b44-ed3e-131fbf0ecc8b",
    "ExecuteTime": {
     "end_time": "2025-07-02T17:19:18.321354Z",
     "start_time": "2025-07-02T17:19:18.077836Z"
    }
   },
   "source": [
    "# Distribution of Null Values across features\n",
    "missing_percent_per_feature = (X_train.isnull().sum() / len(X_train)) * 100\n",
    "\n",
    "plt.figure(figsize=(10,6))\n",
    "sns.histplot(missing_percent_per_feature, bins=20, kde=False, color='salmon')\n",
    "plt.title('Distribution of Null Value (%) Across Features')\n",
    "plt.xlabel('Percent of Missing Values')\n",
    "plt.ylabel('Number of Features')\n",
    "plt.tight_layout()\n",
    "plt.show()"
   ],
   "outputs": [
    {
     "data": {
      "text/plain": [
       "<Figure size 1000x600 with 1 Axes>"
      ],
      "image/png": "[encoded data removed]"
     },
     "metadata": {},
     "output_type": "display_data"
    }
   ],
   "execution_count": 14
  },
  {
   "cell_type": "markdown",
   "metadata": {
    "id": "i89zF3AbqPWd"
   },
   "source": [
    "Based on the viz above we can cleary see a huge jump from around 20% to 45% in the percent of missing value in a feature. Based on this, we've decided to choose our threshold of 45% and features that have this percent of missing values or higher will be removed from the data."
   ]
  },
  {
   "cell_type": "code",
   "metadata": {
    "colab": {
     "base_uri": "https://localhost:8080/"
    },
    "id": "8R796-rTqK3e",
    "outputId": "3b6396e0-68fd-40a0-bb97-69fc1f5f5c92",
    "ExecuteTime": {
     "end_time": "2025-07-02T17:19:21.715667Z",
     "start_time": "2025-07-02T17:19:21.702612Z"
    }
   },
   "source": [
    "len(missing_percent_per_feature[missing_percent_per_feature > 45])"
   ],
   "outputs": [
    {
     "data": {
      "text/plain": [
       "32"
      ]
     },
     "execution_count": 15,
     "metadata": {},
     "output_type": "execute_result"
    }
   ],
   "execution_count": 15
  },
  {
   "cell_type": "code",
   "metadata": {
    "colab": {
     "base_uri": "https://localhost:8080/"
    },
    "id": "BugiLj-2r9_x",
    "outputId": "6e3d6990-86e8-4b99-a035-26aa20244be9",
    "ExecuteTime": {
     "end_time": "2025-07-02T17:19:23.604455Z",
     "start_time": "2025-07-02T17:19:23.469819Z"
    }
   },
   "source": [
    "len(X_train.nunique()[X_train.nunique() == 1])"
   ],
   "outputs": [
    {
     "data": {
      "text/plain": [
       "116"
      ]
     },
     "execution_count": 16,
     "metadata": {},
     "output_type": "execute_result"
    }
   ],
   "execution_count": 16
  },
  {
   "cell_type": "markdown",
   "metadata": {
    "id": "swOeq5UBsg99"
   },
   "source": [
    "There are 32 features that have a high percent of missing values and there are 116 features that have 0 volatility. These features (total of 148 features) will be dropped as they won't offer much info to the training algorithms that will be used"
   ]
  },
  {
   "cell_type": "code",
   "metadata": {
    "id": "zDxbAFUNEgpF",
    "ExecuteTime": {
     "end_time": "2025-07-02T17:19:25.851151Z",
     "start_time": "2025-07-02T17:19:25.833952Z"
    }
   },
   "source": [
    "y_train_arr = y_train.drop(columns='date_time')\n",
    "y_train_arr = y_train_arr.to_numpy().ravel()"
   ],
   "outputs": [],
   "execution_count": 17
  },
  {
   "cell_type": "markdown",
   "metadata": {
    "id": "yatAESJXs8S3"
   },
   "source": [
    "## Implementation"
   ]
  },
  {
   "cell_type": "markdown",
   "metadata": {
    "id": "nJkpotxPHH5c"
   },
   "source": [
    "## Creating a custom wrapper that preserves the output as a DF. Using it for Imputation methods for now. Can be used elsewhere"
   ]
  },
  {
   "cell_type": "code",
   "metadata": {
    "id": "FtMjfXRfHFBZ",
    "ExecuteTime": {
     "end_time": "2025-07-02T17:19:29.483163Z",
     "start_time": "2025-07-02T17:19:29.469548Z"
    }
   },
   "source": [
    "class DataFramePreserver(BaseEstimator, TransformerMixin):\n",
    "  def __init__(self, transformer):\n",
    "    self.transformer = transformer\n",
    "    self.columns_ = None\n",
    "    self.index_ = None\n",
    "\n",
    "  def fit(self, X, y=None):\n",
    "    if isinstance(X, pd.DataFrame):\n",
    "      self.columns_ = X.columns\n",
    "      self.index_ = X.index\n",
    "    self.transformer.fit(X, y)\n",
    "    return self\n",
    "\n",
    "  def transform(self, X):\n",
    "    X_t = self.transformer.transform(X)\n",
    "    return pd.DataFrame(X_t, columns=self.columns_, index=X.index)"
   ],
   "outputs": [],
   "execution_count": 18
  },
  {
   "cell_type": "markdown",
   "metadata": {
    "id": "ye3YsHAItEFk"
   },
   "source": [
    "## DropHighNullAndConstantFeatures class"
   ]
  },
  {
   "cell_type": "code",
   "metadata": {
    "id": "Fw1Xihk72OvA",
    "ExecuteTime": {
     "end_time": "2025-07-02T17:19:33.230670Z",
     "start_time": "2025-07-02T17:19:33.219421Z"
    }
   },
   "source": [
    "class DropHighNullAndConstantFeatures(BaseEstimator, TransformerMixin):\n",
    "  def __init__(self, null_threshold=0.45):\n",
    "    self.null_threshold = null_threshold\n",
    "\n",
    "  def fit(self, X, y=None):\n",
    "    # Drop columns with high null percentage\n",
    "    null_ratio_per_feature = X.isnull().mean()\n",
    "    self.too_null_features_ = null_ratio_per_feature[\n",
    "        null_ratio_per_feature > self.null_threshold\n",
    "    ].index.tolist()\n",
    "\n",
    "    # If a col had all NaNs X[col].nunique() would be 0\n",
    "    self.constant_features_ = [col for col in X.columns if X[col].nunique() <= 1]\n",
    "\n",
    "    self.features_to_drop_ = list(\n",
    "        set(self.too_null_features_ + self.constant_features_)\n",
    "    )\n",
    "\n",
    "    return self\n",
    "\n",
    "  def transform(self, X):\n",
    "    return X.drop(columns=self.features_to_drop_, errors='ignore')"
   ],
   "outputs": [],
   "execution_count": 19
  },
  {
   "cell_type": "markdown",
   "metadata": {
    "id": "7sXmXHfTyE81"
   },
   "source": [
    "## Class implementing Outlier Capping"
   ]
  },
  {
   "cell_type": "code",
   "metadata": {
    "id": "jc_Z0UrXv2pd",
    "ExecuteTime": {
     "end_time": "2025-07-02T17:19:36.669581Z",
     "start_time": "2025-07-02T17:19:36.656465Z"
    }
   },
   "source": [
    "class OutlierCapping(BaseEstimator, TransformerMixin):\n",
    "  def __init__(self, zscore_threshold=3):\n",
    "    self.zscore_threshold = zscore_threshold\n",
    "    self.means_ = None\n",
    "    self.stds_ = None\n",
    "\n",
    "  def fit(self, X, y=None):\n",
    "    X = X.copy()\n",
    "\n",
    "    # Store the Means and Std. Deviations of all features\n",
    "    self.means_ = X.mean()\n",
    "    self.stds_ = X.std()\n",
    "\n",
    "    return self\n",
    "\n",
    "  def transform(self, X):\n",
    "    X = X.copy()\n",
    "\n",
    "    # Cap outliers using 3σ rule\n",
    "    for col in X.select_dtypes(include=[np.number]).columns:\n",
    "      mean = self.means_[col]\n",
    "      std = self.stds_[col]\n",
    "      lower = mean - self.zscore_threshold * std\n",
    "      upper = mean + self.zscore_threshold * std\n",
    "      X[col] = np.clip(X[col], lower, upper)\n",
    "\n",
    "    return X"
   ],
   "outputs": [],
   "execution_count": 20
  },
  {
   "cell_type": "markdown",
   "metadata": {
    "id": "sXvbJCkHyLUA"
   },
   "source": [
    "## Class implementing multiple Feature Selection methods"
   ]
  },
  {
   "cell_type": "code",
   "metadata": {
    "id": "vcnpTK52yChu",
    "ExecuteTime": {
     "end_time": "2025-07-02T17:19:41.096177Z",
     "start_time": "2025-07-02T17:19:41.081086Z"
    }
   },
   "source": [
    "# Feature Selectors\n",
    "class FeatureSelector(BaseEstimator, TransformerMixin):\n",
    "    def __init__(self, method='rfe', estimator=None, n_features_to_select=None, fraction_to_select=0.1, n_estimators=1000, max_iter=500):\n",
    "        self.method = method\n",
    "        self.estimator = estimator\n",
    "        self.n_features_to_select = n_features_to_select\n",
    "        self.fraction_to_select = fraction_to_select\n",
    "        self.n_estimators = n_estimators\n",
    "        self.max_iter = max_iter\n",
    "\n",
    "    def fit(self, X, y):\n",
    "        # print(\"[FeatureSelector] fit called.\")\n",
    "        X = np.array(X)\n",
    "        \n",
    "        if self.method == 'rfe':\n",
    "            if self.estimator is None:\n",
    "                self.estimator = RandomForestClassifier(\n",
    "                    n_estimators=1000, min_samples_leaf=5,\n",
    "                    class_weight='balanced_subsample', max_depth=None,\n",
    "                    n_jobs=-1, random_state=42\n",
    "                )\n",
    "\n",
    "            # Calculate features to select if not provided\n",
    "            if self.n_features_to_select is None:\n",
    "                self.n_features_to_select = int(X.shape[1] * self.fraction_to_select)\n",
    "            \n",
    "            self.selector_ = RFE(estimator=clone(self.estimator), n_features_to_select=self.n_features_to_select)\n",
    "            \n",
    "        elif self.method == 'lasso':\n",
    "            # For Lasso, class weighting isn't relevant (it's regression), \n",
    "            # but you could replace Lasso with LogisticRegression(penalty='l1', solver='liblinear') if you want class-aware linear selection.\n",
    "            self.selector_ = SelectFromModel(Lasso(alpha=0.01, random_state=42))\n",
    "            \n",
    "        elif self.method == 'boruta':\n",
    "            # Using BorutaPy for feature selection\n",
    "            if self.estimator is None:\n",
    "                self.estimator = RandomForestClassifier(\n",
    "                    n_estimators=1000, min_samples_leaf=5,\n",
    "                    class_weight='balanced_subsample', max_depth=None,\n",
    "                    n_jobs=-1, random_state=42\n",
    "                )\n",
    "                \n",
    "            self.selector_ = BorutaPy(\n",
    "                estimator=clone(self.estimator),\n",
    "                n_estimators='auto',\n",
    "                perc=80,\n",
    "                random_state=42,\n",
    "            )\n",
    "        else:\n",
    "            raise ValueError(\"Unsupported method. Use 'rfe', 'lasso' or 'boruta'.\")\n",
    "            \n",
    "        self.selector_.fit(X, y)\n",
    "        # print(\"[FeatureSelector] fit complete.\")\n",
    "        return self\n",
    "\n",
    "    def transform(self, X):\n",
    "        # print(\"[FeatureSelector] transform called.\")\n",
    "        if not hasattr(self, 'selector_'):\n",
    "            raise RuntimeError(\"You must fit the transformer before calling transform.\")\n",
    "        return self.selector_.transform(np.array(X))\n",
    "\n",
    "    def get_support(self):\n",
    "        if not hasattr(self, 'selector_'):\n",
    "            raise RuntimeError(\"fit() must be called before get_support().\")\n",
    "\n",
    "        # For Boruta, useing support_ attribute directly\n",
    "        if self.method == 'boruta':\n",
    "            return self.selector_.support_\n",
    "\n",
    "        # For RFE and Lasso, using get_support() method\n",
    "        return self.selector_.get_support()"
   ],
   "outputs": [],
   "execution_count": 21
  },
  {
   "metadata": {},
   "cell_type": "markdown",
   "source": ""
  },
  {
   "metadata": {},
   "cell_type": "code",
   "outputs": [],
   "execution_count": null,
   "source": [
    "# class AutoencoderDimReducer(BaseEstimator, TransformerMixin):\n",
    "#   def __init__(self, encoding_dim=20, epochs=50, batch_size=32, verbose=0):\n",
    "#     self.encoding_dim = encoding_dim\n",
    "#     self.epochs = epochs\n",
    "#     self.batch_size = batch_size\n",
    "#     self.verbose = verbose\n",
    "\n",
    "#   def build_model(self, input_dim):\n",
    "#     input_layer = Input(shape=(input_dim,))\n",
    "#     encoded = Dense(128, activation='relu')(input_layer)\n",
    "#     encoded = Dense(64, activation='relu')(encoded)\n",
    "#     bottleneck = Dense(self.encoding_dim, activation='relu')(encoded)\n",
    "#     decoded = Dense(64, activation='relu')(bottleneck)\n",
    "#     decoded = Dense(128, activation='relu')(decoded)\n",
    "#     output_layer = Dense(input_dim, activation='linear')(decoded)\n",
    "\n",
    "#     autoencoder = Model(inputs=input_layer, outputs=output_layer)\n",
    "#     encoder = Model(inputs=input_layer, outputs=bottleneck)\n",
    "\n",
    "#     autoencoder.compile(optimizer=Adam(learning_rate=0.001), loss='mse')\n",
    "#     return autoencoder, encoder\n",
    "\n",
    "#   def fit(self, X, y=None):\n",
    "#     X = np.array(X).astype(np.float32)\n",
    "#     self.input_dim_ = X.shape[1]\n",
    "#     self.autoencoder_, self.encoder_ = self.build_model(self.input_dim_)\n",
    "\n",
    "#     es = EarlyStopping(patience=5, restore_best_weights=True)\n",
    "#     self.autoencoder_.fit(\n",
    "#         X, X,\n",
    "#         epochs=self.epochs,\n",
    "#         batch_size=self.batch_size,\n",
    "#         shuffle=True,\n",
    "#         validation_split=0.1,\n",
    "#         callbacks=[es],\n",
    "#         verbose=self.verbose\n",
    "#     )\n",
    "\n",
    "#     return self\n",
    "\n",
    "#   def transform(self, X):\n",
    "#     X = np.array(X).astype(np.float32)\n",
    "#     return self.encoder_.predict(X)\n",
    "\n",
    "#   def fit_transform(self, X, y=None):\n",
    "#     self.fit(X, y)\n",
    "#     return self.transform(X)"
   ]
  },
  {
   "cell_type": "markdown",
   "metadata": {
    "id": "nG3pTqfB12tT"
   },
   "source": [
    "## Display class distributions after balancing"
   ]
  },
  {
   "cell_type": "code",
   "metadata": {
    "id": "6c_GTZT7wJOC",
    "ExecuteTime": {
     "end_time": "2025-07-02T17:20:01.810683Z",
     "start_time": "2025-07-02T17:20:01.798807Z"
    }
   },
   "source": [
    "class DebugTargetStats(BaseEstimator, TransformerMixin):\n",
    "  def fit(self, X, y=None):\n",
    "    if y is not None:\n",
    "      counts = np.bincount(y)\n",
    "      print(f\"[Debug] Class distribution after balancing: Negative={counts[0]}, Positive={counts[1]}\")\n",
    "    return self\n",
    "\n",
    "  def transform(self, X):\n",
    "    return X"
   ],
   "outputs": [],
   "execution_count": 22
  },
  {
   "metadata": {
    "ExecuteTime": {
     "end_time": "2025-07-01T21:37:48.923333Z",
     "start_time": "2025-07-01T21:37:48.916836Z"
    }
   },
   "cell_type": "code",
   "source": "##If you want to skip adding a component within the pipeline",
   "outputs": [],
   "execution_count": 2
  },
  {
   "cell_type": "code",
   "metadata": {
    "id": "ik1aTpq32cs4",
    "ExecuteTime": {
     "end_time": "2025-07-02T17:20:04.097246Z",
     "start_time": "2025-07-02T17:20:04.093258Z"
    }
   },
   "source": [
    "class NoOperation(BaseEstimator, TransformerMixin):\n",
    "  def fit(self, X, y=None):\n",
    "    return self\n",
    "\n",
    "  def transform(self, X):\n",
    "    return X"
   ],
   "outputs": [],
   "execution_count": 23
  },
  {
   "cell_type": "markdown",
   "metadata": {
    "id": "ac9FdXy_263Z"
   },
   "source": [
    "## Function to create our imbalanced pipeline and set the steps"
   ]
  },
  {
   "cell_type": "code",
   "metadata": {
    "id": "R3T5ynWb21cF",
    "ExecuteTime": {
     "end_time": "2025-07-02T17:20:07.051679Z",
     "start_time": "2025-07-02T17:20:07.042934Z"
    }
   },
   "source": [
    "def create_pipeline(imp_name, imputer, fs_name, selector, bal_name, balancer,\n",
    "                    dim_red_name, dim_reducer, model, apply_scaling = False):\n",
    "  steps = []\n",
    "\n",
    "  steps.append(('preprocess', DropHighNullAndConstantFeatures()))\n",
    "\n",
    "  steps.append(('impute', DataFramePreserver(imputer)))\n",
    "\n",
    "  steps.append(('cap', OutlierCapping()))\n",
    "  \n",
    "  if apply_scaling:\n",
    "    steps.append(('scale', DataFramePreserver(RobustScaler())))\n",
    "      \n",
    "  steps.append(('select', selector))\n",
    "\n",
    "  steps.append(('balance', balancer))\n",
    "\n",
    "  debug_step = DebugTargetStats() if bal_name != 'none' else NoOperation()\n",
    "  steps.append(('debug', debug_step))\n",
    "\n",
    "  #steps.append(('balance', balancer))\n",
    "  steps.append(('dim_redn', dim_reducer))\n",
    "\n",
    "  steps.append(('clf', model))\n",
    "\n",
    "  print(\"\\nFinal Pipeline steps:\")\n",
    "  for name, step in steps:\n",
    "    print(f\" - {name}: {step}\")\n",
    "\n",
    "  return ImbPipeline(steps)"
   ],
   "outputs": [],
   "execution_count": 24
  },
  {
   "cell_type": "markdown",
   "metadata": {
    "id": "sd3e3oHt52hl"
   },
   "source": [
    "## Pipeline Components"
   ]
  },
  {
   "cell_type": "code",
   "metadata": {
    "id": "JWP74iZl50yI",
    "ExecuteTime": {
     "end_time": "2025-07-02T17:20:11.041233Z",
     "start_time": "2025-07-02T17:20:11.013464Z"
    }
   },
   "source": [
    "# Since XGB doesn't have class_weight='balanced', we need to define one that can be used\n",
    "custom_class_weight = float(y_train['label'].value_counts()[0] / y_train['label'].value_counts()[1])\n",
    "\n",
    "# Define pipeline components\n",
    "imputers = {\n",
    "    \"none\": lambda: NoOperation(),\n",
    "    \"median\": lambda: SimpleImputer(strategy=\"median\"),\n",
    "    \"knn\": lambda: KNNImputer(n_neighbors=5),\n",
    "    \"mice\": lambda: IterativeImputer(random_state=42)\n",
    "}\n",
    "\n",
    "feature_selectors = {\n",
    "    \"none\": lambda: NoOperation(),\n",
    "    \"rfe\": lambda: FeatureSelector(method='rfe'),\n",
    "    \"lasso\": lambda: FeatureSelector(method='lasso'),\n",
    "    \"boruta\": lambda: FeatureSelector(method='boruta'),\n",
    "    \"boruta2\": lambda: FeatureSelector(\n",
    "        method='boruta',\n",
    "        post_prune_method='selectkbest',\n",
    "        post_prune_k=100,\n",
    "        verbose=True\n",
    "    ),\n",
    "    \"boruta3\": lambda: FeatureSelector(\n",
    "        method='boruta',\n",
    "        post_prune_method='selectfrommodel',\n",
    "        verbose=True\n",
    "    )\n",
    "}\n",
    "\n",
    "balancers = {\n",
    "    \"none\": lambda: NoOperation(),\n",
    "    \"SMOTE3\": lambda: SMOTE(k_neighbors=3, random_state=42),\n",
    "    \"smote\": lambda: SMOTE(random_state=42),\n",
    "    \"adasyn\": lambda: ADASYN(random_state=42),\n",
    "    \"rose\": lambda: RandomOverSampler(random_state=42)\n",
    "}\n",
    "\n",
    "dim_reducers = {\n",
    "    \"none\": lambda: NoOperation(),\n",
    "    \"lda\": lambda: LinearDiscriminantAnalysis(),\n",
    "    \"pca30\": lambda: PCA(n_components=30, random_state=42),\n",
    "    \"pca50\": lambda: PCA(n_components=50, random_state=42),\n",
    "    # \"autoencoder20\": lambda: AutoencoderDimReducer(encoding_dim=20, epochs=50, verbose=0),\n",
    "    # \"autoencoder30\": lambda: AutoencoderDimReducer(encoding_dim=30, epochs=50, verbose=0),\n",
    "    # \"autoencoder40\": lambda: AutoencoderDimReducer(encoding_dim=40, epochs=50, verbose=0),\n",
    "}\n",
    "\n",
    "models = {\n",
    "    \"none\": lambda: NoOperation(),\n",
    "    \"RandomForest\": lambda: RandomForestClassifier(class_weight='balanced', random_state=42, n_jobs=-1),\n",
    "    \"LogisticRegression\": lambda: LogisticRegression(class_weight='balanced', max_iter=1000, random_state=42, n_jobs=-1),\n",
    "    \"SVC\": lambda: SVC(probability=True, class_weight='balanced', random_state=42), # try LinearSVC or use SVC with some kernel like rbf, rbf is default btw\n",
    "    \"XGB\": lambda: XGBClassifier(\n",
    "        max_depth=6, n_estimators=300, subsample=0.8, colsample_bytree=0.8,\n",
    "        scale_pos_weight=custom_class_weight, learning_rate=0.1,\n",
    "        eval_metric='logloss', random_state=42, n_jobs=-1\n",
    "        ),\n",
    "    \"CalibratedRF\": lambda: CalibratedClassifierCV(\n",
    "        estimator=RandomForestClassifier(\n",
    "            n_estimators=300, max_depth=15,\n",
    "            min_samples_leaf=3, class_weight='balanced',\n",
    "            random_state=42, n_jobs=-1\n",
    "        ),\n",
    "        method='isotonic',\n",
    "        cv=3\n",
    "      )\n",
    "}"
   ],
   "outputs": [],
   "execution_count": 25
  },
  {
   "cell_type": "markdown",
   "metadata": {
    "id": "c1brBij97L4N"
   },
   "source": [
    "## Experimentation"
   ]
  },
  {
   "cell_type": "code",
   "metadata": {
    "id": "hsmSfB5UC3vU",
    "ExecuteTime": {
     "end_time": "2025-07-02T17:20:16.047775Z",
     "start_time": "2025-07-02T17:20:16.040098Z"
    }
   },
   "source": [
    "def log_results(new_results, path=\"experiment_results.csv\"):\n",
    "  # If the file exists, load it\n",
    "  if os.path.exists(path):\n",
    "    existing_df = pd.read_csv(path)\n",
    "    combined_df = pd.concat([existing_df, pd.DataFrame(new_results)], ignore_index=True)\n",
    "  else:\n",
    "    combined_df = pd.DataFrame(new_results)\n",
    "\n",
    "  combined_df.to_csv(path, index=False)\n",
    "  print(f\"Logged {len(new_results)} results to {path}\")"
   ],
   "outputs": [],
   "execution_count": 26
  },
  {
   "metadata": {
    "ExecuteTime": {
     "end_time": "2025-06-06T01:59:46.057884Z",
     "start_time": "2025-06-06T01:59:46.028466Z"
    }
   },
   "cell_type": "code",
   "source": "models.keys()",
   "outputs": [
    {
     "data": {
      "text/plain": [
       "dict_keys(['none', 'RandomForest', 'LogisticRegression', 'SVC', 'XGB', 'CalibratedRF'])"
      ]
     },
     "execution_count": 78,
     "metadata": {},
     "output_type": "execute_result"
    }
   ],
   "execution_count": 78
  },
  {
   "cell_type": "code",
   "metadata": {
    "colab": {
     "base_uri": "https://localhost:8080/",
     "height": 1000
    },
    "id": "eD0HIwYj40Si",
    "outputId": "85cd104e-a848-4cdc-9733-c627c8cc1b9c",
    "ExecuteTime": {
     "end_time": "2025-07-02T17:29:40.521791Z",
     "start_time": "2025-07-02T17:21:38.856954Z"
    }
   },
   "source": [
    "\n",
    "results = []\n",
    "\n",
    "test_mode = True\n",
    "\n",
    "if test_mode:\n",
    "  test_combinations = [\n",
    "      ('knn',\t'boruta',\t'rose',\t'none',\t'XGB',\tTrue),\n",
    "      ('knn',\t'boruta',\t'smote',\t'none',\t'RandomForest',\tTrue)\n",
    "  ]\n",
    "\n",
    "else:\n",
    "  test_combinations = [\n",
    "    (imp, fs, bal, dr, model, apply_scaling)\n",
    "    for imp in imputers\n",
    "    for fs in feature_selectors\n",
    "    for bal in balancers\n",
    "    for dr in dim_reducers\n",
    "    for model in models\n",
    "    for apply_scaling in (False, True)\n",
    "  ]\n",
    "\n",
    "for imp_name, fs_name, bal_name, dim_red_name, model_name, apply_scaling in test_combinations:\n",
    "  # Fresh components for each fold\n",
    "  imputer = imputers[imp_name]()\n",
    "  selector = feature_selectors[fs_name]()\n",
    "  balancer = balancers[bal_name]()\n",
    "  dim_reducer = dim_reducers[dim_red_name]()\n",
    "  model = models[model_name]()\n",
    "  apply_scaling = apply_scaling\n",
    "  try:\n",
    "    # Define the pipeline name for logging\n",
    "    name = f\"{imp_name}_{bal_name}_{fs_name}_{dim_red_name}_{model_name}_{apply_scaling}\"\n",
    "    print(f\"\\nTraining {name}...\")\n",
    "\n",
    "    start_time = time.time()\n",
    "\n",
    "    # pipe = create_pipeline(imp_name, imputer, fs_name, selector,\n",
    "    #                        bal_name, balancer, dim_red_name, dim_reducer,\n",
    "    #                        model, apply_scaling)\n",
    "\n",
    "    # Cross-validation setup\n",
    "    cv = StratifiedKFold(n_splits=5, shuffle=True, random_state=42)\n",
    "\n",
    "   \n",
    "    # Hybrid approach to get feature counts\n",
    "    feature_counts=[]\n",
    "    for train_idx, val_idx in cv.split(X_train, y_train_arr):\n",
    "        X_tr, y_tr = X_train.iloc[train_idx], y_train_arr[train_idx]\n",
    "        print(\"Train Valid split done\")\n",
    "\n",
    "        # Use pipeline with \"none\" model for feature selection only\n",
    "        pipe = create_pipeline(imp_name, imputer, fs_name, selector,\n",
    "                           bal_name, balancer, dim_red_name, dim_reducer,\n",
    "                           models[\"none\"](), apply_scaling)\n",
    "\n",
    "        pipe.fit(X_tr, y_tr)\n",
    "\n",
    "        n_features = pipe.named_steps['select'].get_support().sum()\n",
    "        feature_counts.append(n_features)\n",
    "    \n",
    "    # Measure execution time\n",
    "    execution_time = round(time.time() - start_time, 2)\n",
    "    \n",
    "    results.append({\n",
    "      'Pipeline': name,\n",
    "      # 'Best Threshold': round(best_threshold, 4),\n",
    "      # 'F1': round(best_f1, 4),\n",
    "      # 'Precision': round(best_precision, 4),\n",
    "      # 'Recall': round(best_recall, 4),\n",
    "      # 'ROC-AUC': round(roc_auc, 4),\n",
    "      'Mean of Features Selected': round(np.mean(feature_counts), 2),\n",
    "      'Std of Features Selected': round(np.std(feature_counts), 2),\n",
    "      'Execution Time (s)': execution_time\n",
    "    })\n",
    "\n",
    "  except Exception as e:\n",
    "    print(f\"Pipeline {name} failed: {e}\")"
   ],
   "outputs": [
    {
     "name": "stdout",
     "output_type": "stream",
     "text": [
      "\n",
      "Training knn_rose_boruta_none_XGB_True...\n",
      "Train Valid split done\n",
      "\n",
      "Final Pipeline steps:\n",
      " - preprocess: DropHighNullAndConstantFeatures()\n",
      " - impute: DataFramePreserver(transformer=KNNImputer())\n",
      " - cap: OutlierCapping()\n",
      " - scale: DataFramePreserver(transformer=RobustScaler())\n",
      " - select: FeatureSelector(method='boruta')\n",
      " - balance: RandomOverSampler(random_state=42)\n",
      " - debug: DebugTargetStats()\n",
      " - dim_redn: NoOperation()\n",
      " - clf: NoOperation()\n",
      "[Debug] Class distribution after balancing: Negative=936, Positive=936\n",
      "Train Valid split done\n",
      "\n",
      "Final Pipeline steps:\n",
      " - preprocess: DropHighNullAndConstantFeatures()\n",
      " - impute: DataFramePreserver(transformer=KNNImputer())\n",
      " - cap: OutlierCapping()\n",
      " - scale: DataFramePreserver(transformer=RobustScaler())\n",
      " - select: FeatureSelector(estimator=RandomForestClassifier(class_weight='balanced_subsample',\n",
      "                                                 min_samples_leaf=5,\n",
      "                                                 n_estimators=1000, n_jobs=-1,\n",
      "                                                 random_state=42),\n",
      "                method='boruta')\n",
      " - balance: RandomOverSampler(random_state=42)\n",
      " - debug: DebugTargetStats()\n",
      " - dim_redn: NoOperation()\n",
      " - clf: NoOperation()\n",
      "[Debug] Class distribution after balancing: Negative=936, Positive=936\n",
      "Train Valid split done\n",
      "\n",
      "Final Pipeline steps:\n",
      " - preprocess: DropHighNullAndConstantFeatures()\n",
      " - impute: DataFramePreserver(transformer=KNNImputer())\n",
      " - cap: OutlierCapping()\n",
      " - scale: DataFramePreserver(transformer=RobustScaler())\n",
      " - select: FeatureSelector(estimator=RandomForestClassifier(class_weight='balanced_subsample',\n",
      "                                                 min_samples_leaf=5,\n",
      "                                                 n_estimators=1000, n_jobs=-1,\n",
      "                                                 random_state=42),\n",
      "                method='boruta')\n",
      " - balance: RandomOverSampler(random_state=42)\n",
      " - debug: DebugTargetStats()\n",
      " - dim_redn: NoOperation()\n",
      " - clf: NoOperation()\n",
      "[Debug] Class distribution after balancing: Negative=936, Positive=936\n",
      "Train Valid split done\n",
      "\n",
      "Final Pipeline steps:\n",
      " - preprocess: DropHighNullAndConstantFeatures()\n",
      " - impute: DataFramePreserver(transformer=KNNImputer())\n",
      " - cap: OutlierCapping()\n",
      " - scale: DataFramePreserver(transformer=RobustScaler())\n",
      " - select: FeatureSelector(estimator=RandomForestClassifier(class_weight='balanced_subsample',\n",
      "                                                 min_samples_leaf=5,\n",
      "                                                 n_estimators=1000, n_jobs=-1,\n",
      "                                                 random_state=42),\n",
      "                method='boruta')\n",
      " - balance: RandomOverSampler(random_state=42)\n",
      " - debug: DebugTargetStats()\n",
      " - dim_redn: NoOperation()\n",
      " - clf: NoOperation()\n",
      "[Debug] Class distribution after balancing: Negative=936, Positive=936\n",
      "Train Valid split done\n",
      "\n",
      "Final Pipeline steps:\n",
      " - preprocess: DropHighNullAndConstantFeatures()\n",
      " - impute: DataFramePreserver(transformer=KNNImputer())\n",
      " - cap: OutlierCapping()\n",
      " - scale: DataFramePreserver(transformer=RobustScaler())\n",
      " - select: FeatureSelector(estimator=RandomForestClassifier(class_weight='balanced_subsample',\n",
      "                                                 min_samples_leaf=5,\n",
      "                                                 n_estimators=1000, n_jobs=-1,\n",
      "                                                 random_state=42),\n",
      "                method='boruta')\n",
      " - balance: RandomOverSampler(random_state=42)\n",
      " - debug: DebugTargetStats()\n",
      " - dim_redn: NoOperation()\n",
      " - clf: NoOperation()\n",
      "[Debug] Class distribution after balancing: Negative=936, Positive=936\n",
      "\n",
      "Training knn_smote_boruta_none_RandomForest_True...\n",
      "Train Valid split done\n",
      "\n",
      "Final Pipeline steps:\n",
      " - preprocess: DropHighNullAndConstantFeatures()\n",
      " - impute: DataFramePreserver(transformer=KNNImputer())\n",
      " - cap: OutlierCapping()\n",
      " - scale: DataFramePreserver(transformer=RobustScaler())\n",
      " - select: FeatureSelector(method='boruta')\n",
      " - balance: SMOTE(random_state=42)\n",
      " - debug: DebugTargetStats()\n",
      " - dim_redn: NoOperation()\n",
      " - clf: NoOperation()\n",
      "[Debug] Class distribution after balancing: Negative=936, Positive=936\n",
      "Train Valid split done\n",
      "\n",
      "Final Pipeline steps:\n",
      " - preprocess: DropHighNullAndConstantFeatures()\n",
      " - impute: DataFramePreserver(transformer=KNNImputer())\n",
      " - cap: OutlierCapping()\n",
      " - scale: DataFramePreserver(transformer=RobustScaler())\n",
      " - select: FeatureSelector(estimator=RandomForestClassifier(class_weight='balanced_subsample',\n",
      "                                                 min_samples_leaf=5,\n",
      "                                                 n_estimators=1000, n_jobs=-1,\n",
      "                                                 random_state=42),\n",
      "                method='boruta')\n",
      " - balance: SMOTE(random_state=42)\n",
      " - debug: DebugTargetStats()\n",
      " - dim_redn: NoOperation()\n",
      " - clf: NoOperation()\n",
      "[Debug] Class distribution after balancing: Negative=936, Positive=936\n",
      "Train Valid split done\n",
      "\n",
      "Final Pipeline steps:\n",
      " - preprocess: DropHighNullAndConstantFeatures()\n",
      " - impute: DataFramePreserver(transformer=KNNImputer())\n",
      " - cap: OutlierCapping()\n",
      " - scale: DataFramePreserver(transformer=RobustScaler())\n",
      " - select: FeatureSelector(estimator=RandomForestClassifier(class_weight='balanced_subsample',\n",
      "                                                 min_samples_leaf=5,\n",
      "                                                 n_estimators=1000, n_jobs=-1,\n",
      "                                                 random_state=42),\n",
      "                method='boruta')\n",
      " - balance: SMOTE(random_state=42)\n",
      " - debug: DebugTargetStats()\n",
      " - dim_redn: NoOperation()\n",
      " - clf: NoOperation()\n",
      "[Debug] Class distribution after balancing: Negative=936, Positive=936\n",
      "Train Valid split done\n",
      "\n",
      "Final Pipeline steps:\n",
      " - preprocess: DropHighNullAndConstantFeatures()\n",
      " - impute: DataFramePreserver(transformer=KNNImputer())\n",
      " - cap: OutlierCapping()\n",
      " - scale: DataFramePreserver(transformer=RobustScaler())\n",
      " - select: FeatureSelector(estimator=RandomForestClassifier(class_weight='balanced_subsample',\n",
      "                                                 min_samples_leaf=5,\n",
      "                                                 n_estimators=1000, n_jobs=-1,\n",
      "                                                 random_state=42),\n",
      "                method='boruta')\n",
      " - balance: SMOTE(random_state=42)\n",
      " - debug: DebugTargetStats()\n",
      " - dim_redn: NoOperation()\n",
      " - clf: NoOperation()\n",
      "[Debug] Class distribution after balancing: Negative=936, Positive=936\n",
      "Train Valid split done\n",
      "\n",
      "Final Pipeline steps:\n",
      " - preprocess: DropHighNullAndConstantFeatures()\n",
      " - impute: DataFramePreserver(transformer=KNNImputer())\n",
      " - cap: OutlierCapping()\n",
      " - scale: DataFramePreserver(transformer=RobustScaler())\n",
      " - select: FeatureSelector(estimator=RandomForestClassifier(class_weight='balanced_subsample',\n",
      "                                                 min_samples_leaf=5,\n",
      "                                                 n_estimators=1000, n_jobs=-1,\n",
      "                                                 random_state=42),\n",
      "                method='boruta')\n",
      " - balance: SMOTE(random_state=42)\n",
      " - debug: DebugTargetStats()\n",
      " - dim_redn: NoOperation()\n",
      " - clf: NoOperation()\n",
      "[Debug] Class distribution after balancing: Negative=936, Positive=936\n"
     ]
    }
   ],
   "execution_count": 27
  },
  {
   "metadata": {},
   "cell_type": "code",
   "outputs": [],
   "execution_count": null,
   "source": [
    "\n",
    "from sklearn.model_selection import GridSearchCV\n",
    "\n",
    "# Example pipeline\n",
    "pipe = create_pipeline(\n",
    "    imputer=KNNImputer(),\n",
    "    selector=FeatureSelector(method='boruta'),\n",
    "    balancer=SMOTE(),\n",
    "    model=RandomForestClassifier(class_weight='balanced', random_state=42),\n",
    "    apply_scaling=True\n",
    ")\n",
    "\n",
    "# Define hyperparameter grid\n",
    "param_grid = {\n",
    "    'clf__n_estimators': [100, 200],\n",
    "    'impute__n_neighbors': [3, 5, 7],\n",
    "    'clf__max_depth': [10, 20]\n",
    "}\n",
    "\n",
    "# Run GridSearchCV\n",
    "grid_search = GridSearchCV(\n",
    "    estimator=pipe,\n",
    "    param_grid=param_grid,\n",
    "    scoring='f1',\n",
    "    cv=5,\n",
    "    n_jobs=-1\n",
    ")\n",
    "\n",
    "# Fit grid search\n",
    "grid_search.fit(X_train, y_train['label'])\n",
    "\n",
    "# Print best results\n",
    "print(\"Best parameters:\", grid_search.best_params_)\n",
    "print(\"Best F1 score: \", grid_search.best_score_)\n"
   ]
  },
  {
   "metadata": {
    "ExecuteTime": {
     "end_time": "2025-06-06T02:09:54.050361Z",
     "start_time": "2025-06-06T02:09:54.038149Z"
    }
   },
   "cell_type": "code",
   "source": "results",
   "outputs": [
    {
     "data": {
      "text/plain": [
       "[{'Pipeline': 'knn_smote_boruta_none_XGB_True',\n",
       "  'Best Threshold': 0.2613,\n",
       "  'F1': 0.2617,\n",
       "  'Precision': 0.2137,\n",
       "  'Recall': 0.3373,\n",
       "  'ROC-AUC': 0.678,\n",
       "  'Mean of Features Selected': 69.4,\n",
       "  'Std of Features Selected': 10.518555033843764,\n",
       "  'Execution Time (s)': 392.84}]"
      ]
     },
     "execution_count": 81,
     "metadata": {},
     "output_type": "execute_result"
    }
   ],
   "execution_count": 81
  },
  {
   "cell_type": "code",
   "metadata": {
    "colab": {
     "base_uri": "https://localhost:8080/"
    },
    "id": "cdd1XGIUA5wo",
    "outputId": "0a566240-3aeb-449a-9a21-216eee93243d",
    "ExecuteTime": {
     "end_time": "2025-06-06T02:10:05.233328Z",
     "start_time": "2025-06-06T02:10:05.205872Z"
    }
   },
   "source": [
    "log_results(results)"
   ],
   "outputs": [
    {
     "name": "stdout",
     "output_type": "stream",
     "text": [
      "Logged 1 results to experiment_results.csv\n"
     ]
    }
   ],
   "execution_count": 82
  },
  {
   "cell_type": "code",
   "execution_count": 120,
   "metadata": {},
   "outputs": [
    {
     "data": {
      "text/plain": [
       "[{'Pipeline': 'mice_smote_none_none_RandomForest_True',\n",
       "  'Best Threshold': np.float64(0.29),\n",
       "  'F1': np.float64(0.2415),\n",
       "  'Precision': np.float64(0.2016),\n",
       "  'Recall': np.float64(0.3012),\n",
       "  'ROC-AUC': np.float64(0.7145),\n",
       "  'Num Features Selected': 'unknown',\n",
       "  'Execution Time (s)': 748.0}]"
      ]
     },
     "execution_count": 120,
     "metadata": {},
     "output_type": "execute_result"
    }
   ],
   "source": [
    "results"
   ]
  },
  {
   "cell_type": "code",
   "execution_count": null,
   "metadata": {
    "colab": {
     "base_uri": "https://localhost:8080/"
    },
    "id": "Lug1A-fCCCWN",
    "outputId": "ed8f204e-fa5e-4fcc-e1f5-8751d8f3af69"
   },
   "outputs": [
    {
     "name": "stdout",
     "output_type": "stream",
     "text": [
      "[FeatureSelector] 56 features selected with 'boruta'.\n",
      "Final shape after selection: (1000, 56)\n"
     ]
    }
   ],
   "source": [
    "# Sample subset of data\n",
    "X_fold = X_train.iloc[:1000].copy()\n",
    "y_fold = y_train_arr[:1000].copy()\n",
    "\n",
    "# 1. Drop high-null and constant features (simulate your pipeline)\n",
    "null_thresh = 0.45\n",
    "high_null_cols = X_fold.columns[X_fold.isnull().mean() > null_thresh]\n",
    "constant_cols = [col for col in X_fold.columns if X_fold[col].nunique(dropna=True) <= 1]\n",
    "drop_cols = set(high_null_cols).union(constant_cols)\n",
    "X_fold.drop(columns=drop_cols, inplace=True)\n",
    "\n",
    "# 2. Impute missing values (KNN or median)\n",
    "imputer = KNNImputer(n_neighbors=5)\n",
    "X_fold_imputed = pd.DataFrame(imputer.fit_transform(X_fold), columns=X_fold.columns)\n",
    "\n",
    "# 3. Now apply your FeatureSelector\n",
    "selector = FeatureSelector(\n",
    "    method='boruta',\n",
    "    post_prune_method='selectkbest',\n",
    "    post_prune_k=100,\n",
    "    verbose=True\n",
    ")\n",
    "\n",
    "# Fit and transform\n",
    "selector.fit(X_fold_imputed, y_fold)\n",
    "X_transformed = selector.transform(X_fold_imputed)\n",
    "\n",
    "print(f\"Final shape after selection: {X_transformed.shape}\")"
   ]
  },
  {
   "cell_type": "code",
   "execution_count": null,
   "metadata": {
    "id": "r9h08qEJPfCY"
   },
   "outputs": [],
   "source": ""
  }
 ],
 "metadata": {
  "colab": {
   "provenance": []
  },
  "kernelspec": {
   "display_name": "Python 3 (ipykernel)",
   "name": "python3",
   "language": "python"
  },
  "language_info": {
   "codemirror_mode": {
    "name": "ipython",
    "version": 3
   },
   "file_extension": ".py",
   "mimetype": "text/x-python",
   "name": "python",
   "nbconvert_exporter": "python",
   "pygments_lexer": "ipython3",
   "version": "3.11.9"
  }
 },
 "nbformat": 4,
 "nbformat_minor": 0
}
